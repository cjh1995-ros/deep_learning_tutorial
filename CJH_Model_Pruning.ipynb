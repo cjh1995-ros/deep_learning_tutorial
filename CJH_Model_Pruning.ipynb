{
 "cells": [
  {
   "cell_type": "code",
   "execution_count": 1,
   "id": "0928bced-571d-49d8-a686-625549ec96c3",
   "metadata": {},
   "outputs": [],
   "source": [
    "import os\n",
    "import random\n",
    "import numpy as np\n",
    "import matplotlib.pyplot as plt\n",
    "from typing import Any, List\n",
    "import pandas as pd\n",
    "from tqdm import tqdm\n",
    "\n",
    "# DL library imports\n",
    "import torch\n",
    "from torch.utils.data import DataLoader\n",
    "from torchvision import datasets, transforms\n",
    "from torch.utils.data.sampler import SubsetRandomSampler\n",
    "from torch import nn, optim\n",
    "import torch.nn.functional as F"
   ]
  },
  {
   "cell_type": "code",
   "execution_count": 2,
   "id": "cc4a3307-477e-4ca2-aa9c-251fdf6b1adf",
   "metadata": {},
   "outputs": [],
   "source": [
    "# Dataset: Fashion MNIST\n",
    "dataset_labels = ['TShirt', 'Trouser', 'Pullover', 'Dress', 'Coat', 'Sandal', 'Shirt', 'Sneaker', 'Bag', 'AnkleBoot']\n",
    "\n",
    "# necessary image transform i.e. convert to Tensor, normalize\n",
    "train_transform = transforms.Compose([transforms.ToTensor(), transforms.Normalize((0.5,), (0.5,)) ])\n",
    "test_transform  = transforms.Compose([transforms.ToTensor(), transforms.Normalize((0.5,), (0.5,)) ])\n",
    "\n",
    "# Download the Train and Test set\n",
    "train_set = datasets.FashionMNIST('.', train=True, download=True, transform=train_transform)\n",
    "test_set = datasets.FashionMNIST('.', train=False, download=True, transform=test_transform)"
   ]
  },
  {
   "cell_type": "code",
   "execution_count": 3,
   "id": "b8326c3a-7616-4eac-9eb4-954499b2da2a",
   "metadata": {},
   "outputs": [],
   "source": [
    "NUM_WORKERS = 1 \n",
    "TEST_BATCH_SIZE  = 64\n",
    "TRAIN_BATCH_SIZE = 16\n",
    "VALID_SIZE = 0.2 "
   ]
  },
  {
   "cell_type": "code",
   "execution_count": 4,
   "id": "f90f0fea-0fdc-42b0-82de-ff736089b23d",
   "metadata": {},
   "outputs": [],
   "source": [
    "len_train_set = len(train_set)\n",
    "index_list = list(range(len_train_set))\n",
    "np.random.shuffle(index_list)\n",
    "split_index = int(len_train_set * VALID_SIZE)\n",
    "train_idx, valid_idx = index_list[split_index:], index_list[:split_index]\n",
    "train_sampler = SubsetRandomSampler(train_idx)\n",
    "valid_sampler = SubsetRandomSampler(valid_idx)"
   ]
  },
  {
   "cell_type": "code",
   "execution_count": 5,
   "id": "22727d0f-fd54-4be7-bf96-d99a6ac16919",
   "metadata": {},
   "outputs": [],
   "source": [
    "train_loader = DataLoader(train_set, batch_size=TRAIN_BATCH_SIZE, sampler=train_sampler, num_workers=NUM_WORKERS)\n",
    "valid_loader = DataLoader(train_set, batch_size=TEST_BATCH_SIZE,  sampler=valid_sampler, num_workers=NUM_WORKERS)\n",
    "test_loader  = DataLoader(test_set,  batch_size=TEST_BATCH_SIZE,  shuffle=True,num_workers=NUM_WORKERS)"
   ]
  },
  {
   "cell_type": "code",
   "execution_count": 6,
   "id": "a59dbee1-077a-4c40-b5f3-7e4226b294d0",
   "metadata": {},
   "outputs": [
    {
     "data": {
      "image/png": "[encoded data removed]",
      "text/plain": [
       "<Figure size 432x288 with 1 Axes>"
      ]
     },
     "metadata": {
      "needs_background": "light"
     },
     "output_type": "display_data"
    }
   ],
   "source": [
    "img, label = next(iter(train_loader))\n",
    "plt.imshow(img[0].numpy().squeeze(), cmap = 'Greys_r')\n",
    "plt.title(f'{dataset_labels[label[0].item()]}')\n",
    "plt.show()"
   ]
  },
  {
   "cell_type": "code",
   "execution_count": 7,
   "id": "2cc21619-fbce-4e2e-b235-dfda43248130",
   "metadata": {},
   "outputs": [],
   "source": [
    "class MLPClassifier(nn.Module):\n",
    "    def __init__(self):\n",
    "        super().__init__()\n",
    "        self.fc1 = nn.Linear(784, 128, bias=True)\n",
    "        self.fc2 = nn.Linear(128, 64, bias=True)\n",
    "        self.fc3 = nn.Linear(64, 32, bias=True)\n",
    "        self.fc4 = nn.Linear(32, 10, bias=True)\n",
    "\n",
    "    def forward(self, x):\n",
    "        x = x.view(x.shape[0], -1)\n",
    "        x = F.relu(self.fc1(x))\n",
    "        x = F.relu(self.fc2(x))\n",
    "        x = F.relu(self.fc3(x))\n",
    "        x = self.fc4(x)\n",
    "        return x"
   ]
  },
  {
   "cell_type": "code",
   "execution_count": 8,
   "id": "98c83c51-695f-4f7d-bad0-392af86cc563",
   "metadata": {},
   "outputs": [],
   "source": [
    "# Load the Model\n",
    "device = torch.device(\"cuda\" if torch.cuda.is_available() else \"cpu\")\n",
    "model = MLPClassifier().to(device)"
   ]
  },
  {
   "cell_type": "code",
   "execution_count": 9,
   "id": "4e257785-d442-4b08-9692-0a8add0c34c5",
   "metadata": {},
   "outputs": [
    {
     "name": "stdout",
     "output_type": "stream",
     "text": [
      "Model Size:  0.424 Mb\n",
      "File Size:  0.447 Mb\n",
      "Inference Time:  0.00396 s\n",
      "Mega FLOPS:  0.443648\n",
      "Mega MACs:  0.221824\n",
      "Mega Params:  0.111146\n"
     ]
    }
   ],
   "source": [
    "from modelMetrics import computeInferenceTime, getModelFileSize, profile, getModelSize\n",
    "\n",
    "def print_model_metrics(model, dummy_input):\n",
    "  print(\"Model Size: \", str(round(getModelSize(model),3)),\"Mb\")\n",
    "  print(\"File Size: \", str(round(getModelFileSize(model),3)),\"Mb\")\n",
    "  print(\"Inference Time: \",str(round(computeInferenceTime(model,dummy_input, device),5)),\"s\")\n",
    "  macs, params = profile(model, inputs=(dummy_input,), verbose=False)\n",
    "  flops = 2 * macs\n",
    "  print(\"Mega FLOPS: \", str(flops * 1e-6))\n",
    "  print(\"Mega MACs: \", str(macs * 1e-6))\n",
    "  print(\"Mega Params: \", str(params * 1e-6))\n",
    "\n",
    "\n",
    "random_input = torch.rand(2, 28, 28).to(device)\n",
    "print_model_metrics(model, random_input)"
   ]
  },
  {
   "cell_type": "code",
   "execution_count": 10,
   "id": "bbe00858-4f27-4ec6-aa55-276a7db47c2b",
   "metadata": {},
   "outputs": [
    {
     "name": "stdout",
     "output_type": "stream",
     "text": [
      "Sparsity in fc1.weight: 0.0%.\n",
      "Sparsity in fc2.weight: 0.0%.\n",
      "Sparsity in fc3.weight: 0.0%.\n",
      "Sparsity in fc4.weight: 0.0%.\n",
      "Global Sparsity (weight): 0.0%\n"
     ]
    }
   ],
   "source": [
    "def get_model_sparsity(model):\n",
    "    totalElements = 0\n",
    "    totalZeroElements = 0\n",
    "    for name, module in model.named_children():\n",
    "        numElementsInLayer = float(module.weight.nelement())\n",
    "        numZeroElementsInLayer = float(torch.sum(module.weight == 0))\n",
    "        layerWeightSparsity = 100.0 * (numZeroElementsInLayer/ numElementsInLayer)\n",
    "        print(f\"Sparsity in {name}.weight: {layerWeightSparsity}%.\")\n",
    "        \n",
    "        totalElements += numElementsInLayer\n",
    "        totalZeroElements += numZeroElementsInLayer\n",
    "    \n",
    "    if totalElements > 0 :\n",
    "        globalWeightSparsity = 100.0 * (totalZeroElements / totalElements)\n",
    "    else:\n",
    "        globalWeightSparsity = 0.0\n",
    "    return globalWeightSparsity\n",
    "    \n",
    "sparsity = get_model_sparsity(model)\n",
    "print(f\"Global Sparsity (weight): {sparsity}%\")"
   ]
  },
  {
   "cell_type": "code",
   "execution_count": 11,
   "id": "d1595573-4e9b-4958-b006-ef9a531e8525",
   "metadata": {},
   "outputs": [],
   "source": [
    "from sklearn.metrics import accuracy_score\n",
    "\n",
    "class meanClassificationAccuracyMetric:\n",
    "    \"\"\" Class to find the avg accuracy of softmax predictions to ground truth label \"\"\"    \n",
    "    def __init__(self):\n",
    "        self.batchAccuracies = []\n",
    "        self.meanClassificationAccuracy = 0.0\n",
    "\n",
    "    def update(self, y_preds: torch.Tensor, labels: torch.Tensor):\n",
    "        # predicted output class\n",
    "        modelPredictions = np.argmax(torch.softmax(y_preds, axis=1).numpy(), axis=1)\n",
    "        self.batchAccuracies.append(accuracy_score(labels.numpy(), modelPredictions))\n",
    "\n",
    "    def compute(self):\n",
    "        self.meanClassificationAccuracy = np.mean(self.batchAccuracies) * 100.0\n",
    "        return self.meanClassificationAccuracy"
   ]
  },
  {
   "cell_type": "code",
   "execution_count": 12,
   "id": "4d3cb366-c36c-44c6-953c-07614d438bbe",
   "metadata": {},
   "outputs": [],
   "source": [
    "def plotTrainingResults(df, model_name):\n",
    "    fig, ax1 = plt.subplots(figsize=(10,4))\n",
    "    ax1.set_ylabel('trainLoss', color='tab:red')\n",
    "    ax1.plot(df['epoch'].values, df['trainLoss'].values, color='tab:red')\n",
    "    ax1.tick_params(axis='y', labelcolor='tab:red')\n",
    "\n",
    "    ax2 = ax1.twinx()  \n",
    "    ax2.set_ylabel('validationLoss', color='tab:blue')\n",
    "    ax2.plot(df['epoch'].values, df['validationLoss'].values, color='tab:blue')\n",
    "    ax2.tick_params(axis='y', labelcolor='tab:blue')\n",
    "\n",
    "    plt.suptitle(f'{model_name} Training, Validation Curves')\n",
    "    plt.show()"
   ]
  },
  {
   "cell_type": "code",
   "execution_count": 13,
   "id": "a9eef2bd-1d09-47dd-89a1-e57d3acc432f",
   "metadata": {},
   "outputs": [],
   "source": [
    "def trainValidateModel(model, criterion, optimizer, dataloader_train, \n",
    "                       dataloader_valid, metricClass, metricName, device):\n",
    "    results = []    \n",
    "    min_val_loss = np.Inf\n",
    "    len_train_loader = len(dataloader_train)\n",
    "\n",
    "    # move model to target device\n",
    "    model.to(device)\n",
    "    \n",
    "    for epoch in range(N_EPOCHS):\n",
    "        print(f\"Starting {epoch + 1} epoch ...\")\n",
    "        \n",
    "        # Training\n",
    "        model.train()\n",
    "        train_loss = 0.0\n",
    "        for i, (inputs, labels) in tqdm(enumerate(dataloader_train), total=len_train_loader):\n",
    "            inputs = inputs.to(device)\n",
    "            labels = labels.to(device)  \n",
    "\n",
    "            # Forward pass\n",
    "            y_preds = model(inputs)\n",
    "            loss = criterion(y_preds, labels)\n",
    "            train_loss += loss.item()\n",
    "              \n",
    "            # Backward pass\n",
    "            loss.backward()\n",
    "            optimizer.step()\n",
    "            optimizer.zero_grad() \n",
    "            \n",
    "        # Validate\n",
    "        model.eval()\n",
    "        validation_loss = 0.0\n",
    "        metric_object = metricClass()\n",
    "\n",
    "        with torch.no_grad():\n",
    "            for inputs, labels in dataloader_valid:\n",
    "                inputs = inputs.to(device)\n",
    "                labels = labels.to(device)                \n",
    "                y_preds = model(inputs)\n",
    "            \n",
    "                # calculate loss\n",
    "                loss = criterion(y_preds, labels)\n",
    "                validation_loss += loss.item()\n",
    "\n",
    "                # update batch metric information            \n",
    "                metric_object.update(y_preds.cpu().detach(), labels.cpu().detach())\n",
    "\n",
    "        # compute per batch losses, metric value\n",
    "        train_loss = train_loss / len(dataloader_train)\n",
    "        validation_loss = validation_loss / len(dataloader_valid)\n",
    "        validationMetric = metric_object.compute()\n",
    "\n",
    "        print(f'Epoch: {epoch+1}, trainLoss:{train_loss:6.5f}, validationLoss:{validation_loss:6.5f}, {metricName}:{validationMetric: 4.2f}%')\n",
    "        \n",
    "        # store results\n",
    "        results.append({'epoch': epoch, 'trainLoss': train_loss, \n",
    "                        'validationLoss': validation_loss, f'{metricName}': validationMetric})\n",
    "        \n",
    "        # if validation loss has decreased, save model and reset variable\n",
    "        if validation_loss <= min_val_loss:\n",
    "            min_val_loss = validation_loss\n",
    "            torch.save(model.state_dict(), \"MLP.pt\")\n",
    "\n",
    "    # plot results\n",
    "    results = pd.DataFrame(results)\n",
    "    plotTrainingResults(results, \"MLP\")\n",
    "    return results"
   ]
  },
  {
   "cell_type": "code",
   "execution_count": 14,
   "id": "6abc9578-2ba7-441f-8f0f-7240860b6eac",
   "metadata": {},
   "outputs": [
    {
     "name": "stdout",
     "output_type": "stream",
     "text": [
      "Starting 1 epoch ...\n"
     ]
    },
    {
     "name": "stderr",
     "output_type": "stream",
     "text": [
      "100%|██████████████████████████████████████| 3000/3000 [00:09<00:00, 303.16it/s]\n"
     ]
    },
    {
     "name": "stdout",
     "output_type": "stream",
     "text": [
      "Epoch: 1, trainLoss:0.67766, validationLoss:0.51953, accuracy: 81.31%\n",
      "Starting 2 epoch ...\n"
     ]
    },
    {
     "name": "stderr",
     "output_type": "stream",
     "text": [
      "100%|██████████████████████████████████████| 3000/3000 [00:10<00:00, 297.08it/s]\n"
     ]
    },
    {
     "name": "stdout",
     "output_type": "stream",
     "text": [
      "Epoch: 2, trainLoss:0.55613, validationLoss:0.53007, accuracy: 82.11%\n",
      "Starting 3 epoch ...\n"
     ]
    },
    {
     "name": "stderr",
     "output_type": "stream",
     "text": [
      "100%|██████████████████████████████████████| 3000/3000 [00:10<00:00, 290.48it/s]\n"
     ]
    },
    {
     "name": "stdout",
     "output_type": "stream",
     "text": [
      "Epoch: 3, trainLoss:0.53402, validationLoss:0.51950, accuracy: 82.81%\n",
      "Starting 4 epoch ...\n"
     ]
    },
    {
     "name": "stderr",
     "output_type": "stream",
     "text": [
      "100%|██████████████████████████████████████| 3000/3000 [00:10<00:00, 290.01it/s]\n"
     ]
    },
    {
     "name": "stdout",
     "output_type": "stream",
     "text": [
      "Epoch: 4, trainLoss:0.52287, validationLoss:0.55881, accuracy: 81.35%\n",
      "Starting 5 epoch ...\n"
     ]
    },
    {
     "name": "stderr",
     "output_type": "stream",
     "text": [
      "100%|██████████████████████████████████████| 3000/3000 [00:09<00:00, 303.86it/s]\n"
     ]
    },
    {
     "name": "stdout",
     "output_type": "stream",
     "text": [
      "Epoch: 5, trainLoss:0.51510, validationLoss:0.56869, accuracy: 82.00%\n",
      "Starting 6 epoch ...\n"
     ]
    },
    {
     "name": "stderr",
     "output_type": "stream",
     "text": [
      "100%|██████████████████████████████████████| 3000/3000 [00:10<00:00, 298.19it/s]\n"
     ]
    },
    {
     "name": "stdout",
     "output_type": "stream",
     "text": [
      "Epoch: 6, trainLoss:0.50845, validationLoss:0.60323, accuracy: 79.86%\n",
      "Starting 7 epoch ...\n"
     ]
    },
    {
     "name": "stderr",
     "output_type": "stream",
     "text": [
      "100%|██████████████████████████████████████| 3000/3000 [00:09<00:00, 303.08it/s]\n"
     ]
    },
    {
     "name": "stdout",
     "output_type": "stream",
     "text": [
      "Epoch: 7, trainLoss:0.50873, validationLoss:0.49915, accuracy: 84.13%\n",
      "Starting 8 epoch ...\n"
     ]
    },
    {
     "name": "stderr",
     "output_type": "stream",
     "text": [
      "100%|██████████████████████████████████████| 3000/3000 [00:10<00:00, 297.05it/s]\n"
     ]
    },
    {
     "name": "stdout",
     "output_type": "stream",
     "text": [
      "Epoch: 8, trainLoss:0.50207, validationLoss:0.47608, accuracy: 84.09%\n",
      "Starting 9 epoch ...\n"
     ]
    },
    {
     "name": "stderr",
     "output_type": "stream",
     "text": [
      "100%|██████████████████████████████████████| 3000/3000 [00:09<00:00, 301.94it/s]\n"
     ]
    },
    {
     "name": "stdout",
     "output_type": "stream",
     "text": [
      "Epoch: 9, trainLoss:0.47911, validationLoss:0.51852, accuracy: 82.90%\n",
      "Starting 10 epoch ...\n"
     ]
    },
    {
     "name": "stderr",
     "output_type": "stream",
     "text": [
      "100%|██████████████████████████████████████| 3000/3000 [00:09<00:00, 320.05it/s]\n"
     ]
    },
    {
     "name": "stdout",
     "output_type": "stream",
     "text": [
      "Epoch: 10, trainLoss:0.48293, validationLoss:0.50265, accuracy: 83.75%\n",
      "Starting 11 epoch ...\n"
     ]
    },
    {
     "name": "stderr",
     "output_type": "stream",
     "text": [
      "100%|██████████████████████████████████████| 3000/3000 [00:10<00:00, 294.58it/s]\n"
     ]
    },
    {
     "name": "stdout",
     "output_type": "stream",
     "text": [
      "Epoch: 11, trainLoss:0.51173, validationLoss:0.50683, accuracy: 82.67%\n",
      "Starting 12 epoch ...\n"
     ]
    },
    {
     "name": "stderr",
     "output_type": "stream",
     "text": [
      "100%|██████████████████████████████████████| 3000/3000 [00:09<00:00, 314.90it/s]\n"
     ]
    },
    {
     "name": "stdout",
     "output_type": "stream",
     "text": [
      "Epoch: 12, trainLoss:0.46797, validationLoss:0.47028, accuracy: 84.14%\n",
      "Starting 13 epoch ...\n"
     ]
    },
    {
     "name": "stderr",
     "output_type": "stream",
     "text": [
      "100%|██████████████████████████████████████| 3000/3000 [00:09<00:00, 314.53it/s]\n"
     ]
    },
    {
     "name": "stdout",
     "output_type": "stream",
     "text": [
      "Epoch: 13, trainLoss:0.50700, validationLoss:0.47267, accuracy: 84.82%\n",
      "Starting 14 epoch ...\n"
     ]
    },
    {
     "name": "stderr",
     "output_type": "stream",
     "text": [
      "100%|██████████████████████████████████████| 3000/3000 [00:09<00:00, 314.25it/s]\n"
     ]
    },
    {
     "name": "stdout",
     "output_type": "stream",
     "text": [
      "Epoch: 14, trainLoss:0.50583, validationLoss:0.56747, accuracy: 83.04%\n",
      "Starting 15 epoch ...\n"
     ]
    },
    {
     "name": "stderr",
     "output_type": "stream",
     "text": [
      "100%|██████████████████████████████████████| 3000/3000 [00:09<00:00, 317.20it/s]\n"
     ]
    },
    {
     "name": "stdout",
     "output_type": "stream",
     "text": [
      "Epoch: 15, trainLoss:0.48147, validationLoss:0.50347, accuracy: 83.64%\n",
      "Starting 16 epoch ...\n"
     ]
    },
    {
     "name": "stderr",
     "output_type": "stream",
     "text": [
      "100%|██████████████████████████████████████| 3000/3000 [00:09<00:00, 313.87it/s]\n"
     ]
    },
    {
     "name": "stdout",
     "output_type": "stream",
     "text": [
      "Epoch: 16, trainLoss:0.48044, validationLoss:0.59683, accuracy: 82.63%\n",
      "Starting 17 epoch ...\n"
     ]
    },
    {
     "name": "stderr",
     "output_type": "stream",
     "text": [
      "100%|██████████████████████████████████████| 3000/3000 [00:09<00:00, 318.05it/s]\n"
     ]
    },
    {
     "name": "stdout",
     "output_type": "stream",
     "text": [
      "Epoch: 17, trainLoss:0.52389, validationLoss:0.51472, accuracy: 84.07%\n",
      "Starting 18 epoch ...\n"
     ]
    },
    {
     "name": "stderr",
     "output_type": "stream",
     "text": [
      "100%|██████████████████████████████████████| 3000/3000 [00:09<00:00, 315.63it/s]\n"
     ]
    },
    {
     "name": "stdout",
     "output_type": "stream",
     "text": [
      "Epoch: 18, trainLoss:0.53075, validationLoss:0.52280, accuracy: 83.26%\n",
      "Starting 19 epoch ...\n"
     ]
    },
    {
     "name": "stderr",
     "output_type": "stream",
     "text": [
      "100%|██████████████████████████████████████| 3000/3000 [00:09<00:00, 313.76it/s]\n"
     ]
    },
    {
     "name": "stdout",
     "output_type": "stream",
     "text": [
      "Epoch: 19, trainLoss:0.49899, validationLoss:0.56375, accuracy: 83.45%\n",
      "Starting 20 epoch ...\n"
     ]
    },
    {
     "name": "stderr",
     "output_type": "stream",
     "text": [
      "100%|██████████████████████████████████████| 3000/3000 [00:09<00:00, 317.76it/s]\n"
     ]
    },
    {
     "name": "stdout",
     "output_type": "stream",
     "text": [
      "Epoch: 20, trainLoss:0.51298, validationLoss:0.58697, accuracy: 81.33%\n",
      "Starting 21 epoch ...\n"
     ]
    },
    {
     "name": "stderr",
     "output_type": "stream",
     "text": [
      "100%|██████████████████████████████████████| 3000/3000 [00:09<00:00, 321.17it/s]\n"
     ]
    },
    {
     "name": "stdout",
     "output_type": "stream",
     "text": [
      "Epoch: 21, trainLoss:0.48948, validationLoss:0.51636, accuracy: 83.96%\n",
      "Starting 22 epoch ...\n"
     ]
    },
    {
     "name": "stderr",
     "output_type": "stream",
     "text": [
      "100%|██████████████████████████████████████| 3000/3000 [00:09<00:00, 318.53it/s]\n"
     ]
    },
    {
     "name": "stdout",
     "output_type": "stream",
     "text": [
      "Epoch: 22, trainLoss:0.49101, validationLoss:0.52727, accuracy: 83.46%\n",
      "Starting 23 epoch ...\n"
     ]
    },
    {
     "name": "stderr",
     "output_type": "stream",
     "text": [
      "100%|██████████████████████████████████████| 3000/3000 [00:09<00:00, 313.67it/s]\n"
     ]
    },
    {
     "name": "stdout",
     "output_type": "stream",
     "text": [
      "Epoch: 23, trainLoss:0.48665, validationLoss:0.55171, accuracy: 82.89%\n",
      "Starting 24 epoch ...\n"
     ]
    },
    {
     "name": "stderr",
     "output_type": "stream",
     "text": [
      "100%|██████████████████████████████████████| 3000/3000 [00:09<00:00, 322.23it/s]\n"
     ]
    },
    {
     "name": "stdout",
     "output_type": "stream",
     "text": [
      "Epoch: 24, trainLoss:0.46798, validationLoss:0.52286, accuracy: 83.04%\n",
      "Starting 25 epoch ...\n"
     ]
    },
    {
     "name": "stderr",
     "output_type": "stream",
     "text": [
      "100%|██████████████████████████████████████| 3000/3000 [00:09<00:00, 314.18it/s]\n"
     ]
    },
    {
     "name": "stdout",
     "output_type": "stream",
     "text": [
      "Epoch: 25, trainLoss:0.52972, validationLoss:1.05218, accuracy: 73.38%\n"
     ]
    },
    {
     "data": {
      "image/png": "[encoded data removed]",
      "text/plain": [
       "<Figure size 720x288 with 2 Axes>"
      ]
     },
     "metadata": {
      "needs_background": "light"
     },
     "output_type": "display_data"
    }
   ],
   "source": [
    "# Hyper parameters for training model\n",
    "N_EPOCHS = 25\n",
    "LR = 1e-2\n",
    "\n",
    "# Define the Loss\n",
    "criterion = nn.CrossEntropyLoss()\n",
    "\n",
    "# Define the Optimizer\n",
    "optimizer = optim.Adam(model.parameters(), lr=LR)\n",
    "\n",
    "# train, validate standard model\n",
    "modelResults = trainValidateModel(model, criterion, optimizer, train_loader, valid_loader, meanClassificationAccuracyMetric, 'accuracy', device)"
   ]
  },
  {
   "cell_type": "code",
   "execution_count": 15,
   "id": "be86b79c-a661-4b5b-abaa-8b7cd4370741",
   "metadata": {},
   "outputs": [],
   "source": [
    "def evaluteOnTestData(model, pretrainedModelPath, device, \n",
    "                     dataloader_test, metricClass, metricName, modelName):\n",
    "    testSetMetric = 0.0\n",
    "    if pretrainedModelPath is not None:\n",
    "        if os.path.isfile(pretrainedModelPath) == True:\n",
    "            model.load_state_dict(torch.load(pretrainedModelPath, map_location=device))\n",
    "\n",
    "    model.to(device)\n",
    "    model.eval()\n",
    "    metricObject = metricClass()\n",
    "\n",
    "    with torch.no_grad():\n",
    "      for inputs, labels in tqdm(dataloader_test, total=len(dataloader_test)):\n",
    "        inputs = inputs.to(device)\n",
    "        labels = labels.to(device)\n",
    "        y_preds = model(inputs)\n",
    "            \n",
    "        # update batch metric information            \n",
    "        metricObject.update(y_preds.cpu().detach(), labels.cpu().detach())\n",
    "\n",
    "    testSetMetric = metricObject.compute()    \n",
    "    print(f'\\n{modelName} has {testSetMetric} {metricName} on testData')\n",
    "    return testSetMetric"
   ]
  },
  {
   "cell_type": "code",
   "execution_count": 16,
   "id": "999d220c-d5ae-48a6-be4e-cb0aa2c13e18",
   "metadata": {},
   "outputs": [
    {
     "name": "stderr",
     "output_type": "stream",
     "text": [
      "100%|████████████████████████████████████████| 157/157 [00:01<00:00, 103.76it/s]"
     ]
    },
    {
     "name": "stdout",
     "output_type": "stream",
     "text": [
      "\n",
      "Custom_MLP has 82.95183121019109 Test_Accuracy on testData\n"
     ]
    },
    {
     "name": "stderr",
     "output_type": "stream",
     "text": [
      "\n"
     ]
    }
   ],
   "source": [
    "testSetMetric = evaluteOnTestData(model, \"./MLP.pt\", device, test_loader, \n",
    "                    meanClassificationAccuracyMetric, \"Test_Accuracy\", \"Custom_MLP\")"
   ]
  },
  {
   "cell_type": "code",
   "execution_count": 17,
   "id": "d60add37-2ac5-4dec-b768-90a2f749e723",
   "metadata": {},
   "outputs": [],
   "source": [
    "import torch.nn.utils.prune as prune"
   ]
  },
  {
   "cell_type": "code",
   "execution_count": 18,
   "id": "292a741b-a10c-4ed5-825f-500af1086b82",
   "metadata": {},
   "outputs": [
    {
     "name": "stdout",
     "output_type": "stream",
     "text": [
      "[0.05, 0.171, 0.293, 0.414, 0.536, 0.657, 0.779, 0.9]\n"
     ]
    }
   ],
   "source": [
    "# Let's use different pruning percentages for each technique\n",
    "prunePercentages = np.linspace(0.05, 0.90, 8).tolist()\n",
    "print([round(x,3) for x in prunePercentages])"
   ]
  },
  {
   "cell_type": "code",
   "execution_count": 19,
   "id": "f3034510-27d4-4ff6-9f03-144d1289ae03",
   "metadata": {},
   "outputs": [],
   "source": [
    "def layer_unstructured_prune(model:nn.Module, prunePercentage:float):\n",
    "    for name, module in model.named_modules():\n",
    "        if isinstance(module, torch.nn.Linear):\n",
    "            prune.l1_unstructured(module, name='weight', amount=prunePercentage)\n",
    "    return model"
   ]
  },
  {
   "cell_type": "code",
   "execution_count": 20,
   "id": "522066a7-11cf-4716-acf9-82bbde2ecde8",
   "metadata": {},
   "outputs": [
    {
     "name": "stderr",
     "output_type": "stream",
     "text": [
      "100%|████████████████████████████████████████| 157/157 [00:01<00:00, 103.07it/s]\n"
     ]
    },
    {
     "name": "stdout",
     "output_type": "stream",
     "text": [
      "\n",
      "Unstructured Prune has 82.91202229299363 Test accuracy on testData\n"
     ]
    },
    {
     "name": "stderr",
     "output_type": "stream",
     "text": [
      "100%|████████████████████████████████████████| 157/157 [00:01<00:00, 106.34it/s]\n"
     ]
    },
    {
     "name": "stdout",
     "output_type": "stream",
     "text": [
      "\n",
      "Unstructured Prune has 82.88216560509554 Test accuracy on testData\n"
     ]
    },
    {
     "name": "stderr",
     "output_type": "stream",
     "text": [
      "100%|████████████████████████████████████████| 157/157 [00:01<00:00, 106.60it/s]\n"
     ]
    },
    {
     "name": "stdout",
     "output_type": "stream",
     "text": [
      "\n",
      "Unstructured Prune has 82.64331210191082 Test accuracy on testData\n"
     ]
    },
    {
     "name": "stderr",
     "output_type": "stream",
     "text": [
      "100%|████████████████████████████████████████| 157/157 [00:01<00:00, 108.69it/s]\n"
     ]
    },
    {
     "name": "stdout",
     "output_type": "stream",
     "text": [
      "\n",
      "Unstructured Prune has 19.76512738853503 Test accuracy on testData\n"
     ]
    },
    {
     "name": "stderr",
     "output_type": "stream",
     "text": [
      "100%|████████████████████████████████████████| 157/157 [00:01<00:00, 105.18it/s]\n"
     ]
    },
    {
     "name": "stdout",
     "output_type": "stream",
     "text": [
      "\n",
      "Unstructured Prune has 19.775079617834397 Test accuracy on testData\n"
     ]
    },
    {
     "name": "stderr",
     "output_type": "stream",
     "text": [
      "100%|████████████████████████████████████████| 157/157 [00:01<00:00, 104.19it/s]\n"
     ]
    },
    {
     "name": "stdout",
     "output_type": "stream",
     "text": [
      "\n",
      "Unstructured Prune has 19.566082802547772 Test accuracy on testData\n"
     ]
    },
    {
     "name": "stderr",
     "output_type": "stream",
     "text": [
      "100%|████████████████████████████████████████| 157/157 [00:01<00:00, 106.75it/s]\n"
     ]
    },
    {
     "name": "stdout",
     "output_type": "stream",
     "text": [
      "\n",
      "Unstructured Prune has 19.347133757961785 Test accuracy on testData\n"
     ]
    },
    {
     "name": "stderr",
     "output_type": "stream",
     "text": [
      "100%|████████████████████████████████████████| 157/157 [00:01<00:00, 108.76it/s]"
     ]
    },
    {
     "name": "stdout",
     "output_type": "stream",
     "text": [
      "\n",
      "Unstructured Prune has 11.19625796178344 Test accuracy on testData\n"
     ]
    },
    {
     "name": "stderr",
     "output_type": "stream",
     "text": [
      "\n"
     ]
    }
   ],
   "source": [
    "# placeholder to store results\n",
    "l1_unstructured_accuracies = []\n",
    "\n",
    "# iterate through each prune percentage\n",
    "for perc in prunePercentages:\n",
    "    # load the pretrained model\n",
    "    model = MLPClassifier().to(device)\n",
    "    model.load_state_dict(torch.load(\"./MLP.pt\"))\n",
    "\n",
    "    # prune the model\n",
    "    unStructuredPruneModel = layer_unstructured_prune(model, perc)\n",
    "\n",
    "    # evaluate the pruned model on test data\n",
    "    l1_unstructured_accuracies.append(evaluteOnTestData(unStructuredPruneModel, None, \\\n",
    "          device, test_loader, meanClassificationAccuracyMetric, \"Test accuracy\", \"Unstructured Prune\"))    "
   ]
  },
  {
   "cell_type": "code",
   "execution_count": 21,
   "id": "afa4ab49-21b9-495c-bcd6-37b0cfb8e776",
   "metadata": {},
   "outputs": [],
   "source": [
    "def layer_structured_prune(model:nn.Module, prunePercentage:float):\n",
    "    for name, module in model.named_modules():\n",
    "        if isinstance(module, torch.nn.Linear):\n",
    "            prune.ln_structured(module, name='weight', amount=prunePercentage, n=1, dim=0)\n",
    "    return model"
   ]
  },
  {
   "cell_type": "code",
   "execution_count": 22,
   "id": "aa657a41-7eef-4a6a-a002-71b9647c54ab",
   "metadata": {},
   "outputs": [
    {
     "name": "stderr",
     "output_type": "stream",
     "text": [
      "100%|████████████████████████████████████████| 157/157 [00:01<00:00, 107.88it/s]\n"
     ]
    },
    {
     "name": "stdout",
     "output_type": "stream",
     "text": [
      "\n",
      "structured Prune has 82.95183121019109 Test accuracy on testData\n"
     ]
    },
    {
     "name": "stderr",
     "output_type": "stream",
     "text": [
      "100%|████████████████████████████████████████| 157/157 [00:01<00:00, 103.84it/s]\n"
     ]
    },
    {
     "name": "stdout",
     "output_type": "stream",
     "text": [
      "\n",
      "structured Prune has 71.90485668789809 Test accuracy on testData\n"
     ]
    },
    {
     "name": "stderr",
     "output_type": "stream",
     "text": [
      "100%|████████████████████████████████████████| 157/157 [00:01<00:00, 105.92it/s]\n"
     ]
    },
    {
     "name": "stdout",
     "output_type": "stream",
     "text": [
      "\n",
      "structured Prune has 65.67476114649682 Test accuracy on testData\n"
     ]
    },
    {
     "name": "stderr",
     "output_type": "stream",
     "text": [
      "100%|████████████████████████████████████████| 157/157 [00:01<00:00, 108.54it/s]\n"
     ]
    },
    {
     "name": "stdout",
     "output_type": "stream",
     "text": [
      "\n",
      "structured Prune has 61.236066878980886 Test accuracy on testData\n"
     ]
    },
    {
     "name": "stderr",
     "output_type": "stream",
     "text": [
      "100%|████████████████████████████████████████| 157/157 [00:01<00:00, 106.78it/s]\n"
     ]
    },
    {
     "name": "stdout",
     "output_type": "stream",
     "text": [
      "\n",
      "structured Prune has 54.209792993630565 Test accuracy on testData\n"
     ]
    },
    {
     "name": "stderr",
     "output_type": "stream",
     "text": [
      "100%|████████████████████████████████████████| 157/157 [00:01<00:00, 105.75it/s]\n"
     ]
    },
    {
     "name": "stdout",
     "output_type": "stream",
     "text": [
      "\n",
      "structured Prune has 25.895700636942674 Test accuracy on testData\n"
     ]
    },
    {
     "name": "stderr",
     "output_type": "stream",
     "text": [
      "100%|████████████████████████████████████████| 157/157 [00:01<00:00, 105.35it/s]\n"
     ]
    },
    {
     "name": "stdout",
     "output_type": "stream",
     "text": [
      "\n",
      "structured Prune has 9.952229299363058 Test accuracy on testData\n"
     ]
    },
    {
     "name": "stderr",
     "output_type": "stream",
     "text": [
      "100%|████████████████████████████████████████| 157/157 [00:01<00:00, 104.26it/s]"
     ]
    },
    {
     "name": "stdout",
     "output_type": "stream",
     "text": [
      "\n",
      "structured Prune has 9.982085987261147 Test accuracy on testData\n"
     ]
    },
    {
     "name": "stderr",
     "output_type": "stream",
     "text": [
      "\n"
     ]
    }
   ],
   "source": [
    "# placeholder to store results\n",
    "l1_structured_accuracies = []\n",
    "\n",
    "# iterate through each prune percentage\n",
    "for perc in prunePercentages:\n",
    "    # load the pretrained model\n",
    "    model = MLPClassifier().to(device)\n",
    "    model.load_state_dict(torch.load(\"./MLP.pt\"))\n",
    "\n",
    "    # prune the model\n",
    "    structuredPruneModel = layer_structured_prune(model, perc)\n",
    "\n",
    "    # evaluate the pruned model on test data\n",
    "    l1_structured_accuracies.append(evaluteOnTestData(structuredPruneModel, None, \\\n",
    "          device, test_loader, meanClassificationAccuracyMetric, \"Test accuracy\", \"structured Prune\"))"
   ]
  },
  {
   "cell_type": "code",
   "execution_count": 23,
   "id": "91de9f50-fcae-46fd-adf2-5a4b33f4c05e",
   "metadata": {},
   "outputs": [],
   "source": [
    "def global_unstructured_prune(model:nn.Module, prunePercentage:float):\n",
    "    parameters_to_prune = []\n",
    "    for name, module in model.named_modules():\n",
    "        if isinstance(module, torch.nn.Linear):\n",
    "            parameters_to_prune.append((module, 'weight'))\n",
    "    prune.global_unstructured(parameters_to_prune, pruning_method=prune.L1Unstructured, amount=prunePercentage)\n",
    "    return model"
   ]
  },
  {
   "cell_type": "code",
   "execution_count": 24,
   "id": "aae41846-8a9f-4bbd-8374-c8b23cc31f36",
   "metadata": {},
   "outputs": [
    {
     "name": "stderr",
     "output_type": "stream",
     "text": [
      "100%|████████████████████████████████████████| 157/157 [00:01<00:00, 105.36it/s]\n"
     ]
    },
    {
     "name": "stdout",
     "output_type": "stream",
     "text": [
      "\n",
      "structured Prune has 83.07125796178345 Test accuracy on testData\n"
     ]
    },
    {
     "name": "stderr",
     "output_type": "stream",
     "text": [
      "100%|████████████████████████████████████████| 157/157 [00:01<00:00, 105.42it/s]\n"
     ]
    },
    {
     "name": "stdout",
     "output_type": "stream",
     "text": [
      "\n",
      "structured Prune has 83.13097133757962 Test accuracy on testData\n"
     ]
    },
    {
     "name": "stderr",
     "output_type": "stream",
     "text": [
      "100%|████████████████████████████████████████| 157/157 [00:01<00:00, 107.31it/s]\n"
     ]
    },
    {
     "name": "stdout",
     "output_type": "stream",
     "text": [
      "\n",
      "structured Prune has 82.71297770700637 Test accuracy on testData\n"
     ]
    },
    {
     "name": "stderr",
     "output_type": "stream",
     "text": [
      "100%|████████████████████████████████████████| 157/157 [00:01<00:00, 108.61it/s]\n"
     ]
    },
    {
     "name": "stdout",
     "output_type": "stream",
     "text": [
      "\n",
      "structured Prune has 75.2687101910828 Test accuracy on testData\n"
     ]
    },
    {
     "name": "stderr",
     "output_type": "stream",
     "text": [
      "100%|████████████████████████████████████████| 157/157 [00:01<00:00, 106.65it/s]\n"
     ]
    },
    {
     "name": "stdout",
     "output_type": "stream",
     "text": [
      "\n",
      "structured Prune has 19.745222929936308 Test accuracy on testData\n"
     ]
    },
    {
     "name": "stderr",
     "output_type": "stream",
     "text": [
      "100%|████████████████████████████████████████| 157/157 [00:01<00:00, 109.21it/s]\n"
     ]
    },
    {
     "name": "stdout",
     "output_type": "stream",
     "text": [
      "\n",
      "structured Prune has 19.506369426751593 Test accuracy on testData\n"
     ]
    },
    {
     "name": "stderr",
     "output_type": "stream",
     "text": [
      "100%|████████████████████████████████████████| 157/157 [00:01<00:00, 105.48it/s]\n"
     ]
    },
    {
     "name": "stdout",
     "output_type": "stream",
     "text": [
      "\n",
      "structured Prune has 22.91003184713376 Test accuracy on testData\n"
     ]
    },
    {
     "name": "stderr",
     "output_type": "stream",
     "text": [
      "100%|████████████████████████████████████████| 157/157 [00:01<00:00, 105.32it/s]"
     ]
    },
    {
     "name": "stdout",
     "output_type": "stream",
     "text": [
      "\n",
      "structured Prune has 10.011942675159236 Test accuracy on testData\n"
     ]
    },
    {
     "name": "stderr",
     "output_type": "stream",
     "text": [
      "\n"
     ]
    }
   ],
   "source": [
    "# placeholder to store results\n",
    "global_prune_accuracies = []\n",
    "\n",
    "# iterate through each prune percentage\n",
    "for perc in prunePercentages:\n",
    "    # load the pretrained model\n",
    "    model = MLPClassifier().to(device)\n",
    "    model.load_state_dict(torch.load(\"./MLP.pt\"))\n",
    "\n",
    "    # prune the model\n",
    "    globalPruneModel = global_unstructured_prune(model, perc)\n",
    "\n",
    "    # evaluate the pruned model on test data\n",
    "    global_prune_accuracies.append(evaluteOnTestData(globalPruneModel, None, \\\n",
    "          device, test_loader, meanClassificationAccuracyMetric, \"Test accuracy\", \"structured Prune\"))    "
   ]
  },
  {
   "cell_type": "code",
   "execution_count": 25,
   "id": "4e371f51-a9c3-468d-abbc-391712a10ea3",
   "metadata": {},
   "outputs": [
    {
     "data": {
      "image/png": "[encoded data removed]",
      "text/plain": [
       "<Figure size 576x288 with 1 Axes>"
      ]
     },
     "metadata": {
      "needs_background": "light"
     },
     "output_type": "display_data"
    }
   ],
   "source": [
    "fig, ax = plt.subplots(1,1,figsize=(8,4))\n",
    "ax.plot(np.array(prunePercentages) * 100.0, np.array(l1_unstructured_accuracies), label='Layerwise Unstructured')\n",
    "ax.plot(np.array(prunePercentages) * 100.0, np.array(l1_structured_accuracies), label='Layerwise Structured')\n",
    "ax.plot(np.array(prunePercentages) * 100.0, np.array(global_prune_accuracies), label='Global Unstructured')\n",
    "ax.set(xlabel ='Prune percentage (Sparsity) %', ylabel = 'Test set Accuracy (%)', title = 'METRICS FOR DIFFERENT PRUNING TECHNIQUES')\n",
    "ax.legend()\n",
    "ax.grid(True)\n",
    "plt.show()"
   ]
  },
  {
   "cell_type": "code",
   "execution_count": 26,
   "id": "c1ffd8f5-0285-413c-a6ec-451e5997ddf0",
   "metadata": {},
   "outputs": [
    {
     "name": "stdout",
     "output_type": "stream",
     "text": [
      "Model Size:  0.847 Mb\n",
      "File Size:  0.892 Mb\n",
      "Inference Time:  0.00014 s\n",
      "Mega FLOPS:  0.443648\n",
      "Mega MACs:  0.221824\n",
      "Mega Params:  0.111146\n"
     ]
    }
   ],
   "source": [
    "model = MLPClassifier().to(device)\n",
    "model.load_state_dict(torch.load(\"./MLP.pt\"))\n",
    "print_model_metrics(unStructuredPruneModel, random_input)"
   ]
  },
  {
   "cell_type": "code",
   "execution_count": 27,
   "id": "1aecdf74-9608-4972-97c7-0686f9eba98e",
   "metadata": {},
   "outputs": [
    {
     "name": "stdout",
     "output_type": "stream",
     "text": [
      "Model Size:  0.847 Mb\n",
      "File Size:  0.892 Mb\n",
      "Inference Time:  0.00014 s\n",
      "Mega FLOPS:  0.443648\n",
      "Mega MACs:  0.221824\n",
      "Mega Params:  0.111146\n"
     ]
    }
   ],
   "source": [
    "model = MLPClassifier().to(device)\n",
    "model.load_state_dict(torch.load(\"./MLP.pt\"))\n",
    "unStructuredPruneModel = layer_unstructured_prune(model, 0.3)\n",
    "\n",
    "print_model_metrics(unStructuredPruneModel, random_input)"
   ]
  },
  {
   "cell_type": "code",
   "execution_count": 28,
   "id": "e8dc0c4d-5f3f-4feb-8836-49fbefbc69b4",
   "metadata": {},
   "outputs": [
    {
     "name": "stdout",
     "output_type": "stream",
     "text": [
      "Model Size:  0.847 Mb\n",
      "File Size:  0.892 Mb\n",
      "Inference Time:  0.00016 s\n",
      "Mega FLOPS:  0.443648\n",
      "Mega MACs:  0.221824\n",
      "Mega Params:  0.111146\n"
     ]
    }
   ],
   "source": [
    "model = MLPClassifier().to(device)\n",
    "model.load_state_dict(torch.load(\"./MLP.pt\"))\n",
    "StructuredPruneModel = layer_structured_prune(model, 0.1)\n",
    "\n",
    "print_model_metrics(StructuredPruneModel, random_input)"
   ]
  },
  {
   "cell_type": "code",
   "execution_count": 29,
   "id": "4acd0c2e-3d79-4f70-9668-2fa283dc3ff0",
   "metadata": {},
   "outputs": [
    {
     "name": "stdout",
     "output_type": "stream",
     "text": [
      "Model Size:  0.847 Mb\n",
      "File Size:  0.892 Mb\n",
      "Inference Time:  0.00015 s\n",
      "Mega FLOPS:  0.443648\n",
      "Mega MACs:  0.221824\n",
      "Mega Params:  0.111146\n"
     ]
    }
   ],
   "source": [
    "model = MLPClassifier().to(device)\n",
    "model.load_state_dict(torch.load(\"./MLP.pt\"))\n",
    "globalPruneModel = global_unstructured_prune(model, 0.9414)\n",
    "\n",
    "print_model_metrics(globalPruneModel, random_input)"
   ]
  },
  {
   "cell_type": "code",
   "execution_count": 30,
   "id": "d333641e-beb9-4fe3-8d88-f659e01802bc",
   "metadata": {},
   "outputs": [],
   "source": [
    "import matplotlib\n",
    "import matplotlib.patches as mpatches\n",
    "\n",
    "binary_cmap = matplotlib.colors.ListedColormap(['#3D99FF', '#7F7F7F'])\n",
    "patchList = []\n",
    "for lab,c in zip([False, True], ['#3D99FF', '#7F7F7F']):\n",
    "    patchList.append(mpatches.Patch(color=c, label=lab))\n",
    "\n",
    "def plot_tensor_mask(pt_tensor, ax=None):\n",
    "  z_np = pt_tensor.detach().cpu().numpy()\n",
    "  ln = ax.imshow(z_np, cmap = binary_cmap)\n",
    "  ax.axis('off')\n",
    "  return ln"
   ]
  },
  {
   "cell_type": "code",
   "execution_count": 31,
   "id": "0452f85e-916e-47e9-9e09-bf860bb5e0ec",
   "metadata": {},
   "outputs": [
    {
     "name": "stderr",
     "output_type": "stream",
     "text": [
      "<>:15: SyntaxWarning: \"is not\" with a literal. Did you mean \"!=\"?\n",
      "<>:15: SyntaxWarning: \"is not\" with a literal. Did you mean \"!=\"?\n",
      "/tmp/ipykernel_83572/3520770426.py:15: SyntaxWarning: \"is not\" with a literal. Did you mean \"!=\"?\n",
      "  if title is not '':\n"
     ]
    }
   ],
   "source": [
    "def plot_custom_model(model, title=''):\n",
    "  fig, axes = plt.subplots(1,4,figsize=(16, 4), gridspec_kw={'width_ratios': [7,5,3,1]})\n",
    "\n",
    "  model_masks = dict(model.named_buffers())\n",
    "  plot_tensor_mask(model_masks['fc1.weight_mask'], axes[0])\n",
    "  plot_tensor_mask(model_masks['fc2.weight_mask'], axes[1])\n",
    "  plot_tensor_mask(model_masks['fc3.weight_mask'], axes[2])\n",
    "  plot_tensor_mask(model_masks['fc4.weight_mask'], axes[3])\n",
    "  \n",
    "  axes[0].set_title('FC Layer1')\n",
    "  axes[1].set_title('FC Layer2')\n",
    "  axes[2].set_title('FC Layer3')\n",
    "  axes[3].set_title('FC Layer4')\n",
    "  \n",
    "  if title is not '':\n",
    "    plt.suptitle(title)"
   ]
  },
  {
   "cell_type": "code",
   "execution_count": 32,
   "id": "23f3db3b-b748-4e0d-bb3b-a5dc765e6950",
   "metadata": {},
   "outputs": [
    {
     "data": {
      "image/png": "[encoded data removed]",
      "text/plain": [
       "<Figure size 1152x288 with 4 Axes>"
      ]
     },
     "metadata": {
      "needs_background": "light"
     },
     "output_type": "display_data"
    }
   ],
   "source": [
    "plot_custom_model(unStructuredPruneModel, title='Unstructured Pruned Model')"
   ]
  },
  {
   "cell_type": "code",
   "execution_count": null,
   "id": "0cd151a8-6769-4b8e-ac6d-079928e607db",
   "metadata": {},
   "outputs": [],
   "source": []
  }
 ],
 "metadata": {
  "kernelspec": {
   "display_name": "Python 3 (ipykernel)",
   "language": "python",
   "name": "python3"
  },
  "language_info": {
   "codemirror_mode": {
    "name": "ipython",
    "version": 3
   },
   "file_extension": ".py",
   "mimetype": "text/x-python",
   "name": "python",
   "nbconvert_exporter": "python",
   "pygments_lexer": "ipython3",
   "version": "3.9.10"
  }
 },
 "nbformat": 4,
 "nbformat_minor": 5
}

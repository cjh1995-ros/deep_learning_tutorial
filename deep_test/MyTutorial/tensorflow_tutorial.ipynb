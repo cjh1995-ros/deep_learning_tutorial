{
 "cells": [
  {
   "cell_type": "code",
   "execution_count": 1,
   "id": "2a731437-5d0e-4da8-869d-46cce41e29d9",
   "metadata": {},
   "outputs": [],
   "source": [
    "import tensorflow as tf\n",
    "from tensorflow import keras\n",
    "from tensorflow.keras import layers\n"
   ]
  },
  {
   "cell_type": "code",
   "execution_count": 2,
   "id": "b6a33d20-95b3-4002-980e-7b799db64905",
   "metadata": {},
   "outputs": [],
   "source": [
    "fashion_mnist = keras.datasets.fashion_mnist\n",
    "(X_train_full, y_train_full), (X_test, y_test) = fashion_mnist.load_data()"
   ]
  },
  {
   "cell_type": "code",
   "execution_count": 3,
   "id": "8f2db8a4-a696-4839-a422-e8ba837c03f6",
   "metadata": {},
   "outputs": [],
   "source": [
    "X_valid, X_train = X_train_full[:5000] / 255.0, X_train_full[5000:] / 255.0\n",
    "y_valid, y_train = y_train_full[:5000], y_train_full[5000:]\n",
    "X_test = X_test / 255.0"
   ]
  },
  {
   "cell_type": "code",
   "execution_count": 4,
   "id": "c932b2f5-38ec-484b-b226-229c907a41a1",
   "metadata": {},
   "outputs": [],
   "source": [
    "classes = [\"T-shirt/top\", \"Trouser\", \"Pullover\", \"Dress\", \"Coat\", \"Sandal\", \"Shirt\", \"Sneaker\", \"Bag\", \"Ankle Boot\"]"
   ]
  },
  {
   "cell_type": "code",
   "execution_count": 5,
   "id": "9e6021a3-278f-409e-bfcc-fdebaf2b10ef",
   "metadata": {},
   "outputs": [
    {
     "name": "stderr",
     "output_type": "stream",
     "text": [
      "2022-04-30 12:17:42.952891: I tensorflow/stream_executor/cuda/cuda_gpu_executor.cc:939] successful NUMA node read from SysFS had negative value (-1), but there must be at least one NUMA node, so returning NUMA node zero\n",
      "2022-04-30 12:17:42.962591: I tensorflow/stream_executor/cuda/cuda_gpu_executor.cc:939] successful NUMA node read from SysFS had negative value (-1), but there must be at least one NUMA node, so returning NUMA node zero\n",
      "2022-04-30 12:17:42.963021: I tensorflow/stream_executor/cuda/cuda_gpu_executor.cc:939] successful NUMA node read from SysFS had negative value (-1), but there must be at least one NUMA node, so returning NUMA node zero\n",
      "2022-04-30 12:17:42.964826: I tensorflow/core/platform/cpu_feature_guard.cc:151] This TensorFlow binary is optimized with oneAPI Deep Neural Network Library (oneDNN) to use the following CPU instructions in performance-critical operations:  SSE4.1 SSE4.2 AVX AVX2 FMA\n",
      "To enable them in other operations, rebuild TensorFlow with the appropriate compiler flags.\n",
      "2022-04-30 12:17:42.966011: I tensorflow/stream_executor/cuda/cuda_gpu_executor.cc:939] successful NUMA node read from SysFS had negative value (-1), but there must be at least one NUMA node, so returning NUMA node zero\n",
      "2022-04-30 12:17:42.966361: I tensorflow/stream_executor/cuda/cuda_gpu_executor.cc:939] successful NUMA node read from SysFS had negative value (-1), but there must be at least one NUMA node, so returning NUMA node zero\n",
      "2022-04-30 12:17:42.966716: I tensorflow/stream_executor/cuda/cuda_gpu_executor.cc:939] successful NUMA node read from SysFS had negative value (-1), but there must be at least one NUMA node, so returning NUMA node zero\n",
      "2022-04-30 12:17:43.605320: I tensorflow/stream_executor/cuda/cuda_gpu_executor.cc:939] successful NUMA node read from SysFS had negative value (-1), but there must be at least one NUMA node, so returning NUMA node zero\n",
      "2022-04-30 12:17:43.605717: I tensorflow/stream_executor/cuda/cuda_gpu_executor.cc:939] successful NUMA node read from SysFS had negative value (-1), but there must be at least one NUMA node, so returning NUMA node zero\n",
      "2022-04-30 12:17:43.605970: I tensorflow/stream_executor/cuda/cuda_gpu_executor.cc:939] successful NUMA node read from SysFS had negative value (-1), but there must be at least one NUMA node, so returning NUMA node zero\n",
      "2022-04-30 12:17:43.606219: I tensorflow/core/common_runtime/gpu/gpu_device.cc:1525] Created device /job:localhost/replica:0/task:0/device:GPU:0 with 3943 MB memory:  -> device: 0, name: NVIDIA GeForce RTX 3070 Laptop GPU, pci bus id: 0000:01:00.0, compute capability: 8.6\n"
     ]
    }
   ],
   "source": [
    "model = keras.models.Sequential()\n",
    "model.add(layers.Conv2D(3, (3, 3), activation='relu', input_shape=(28, 28, 1)))\n",
    "model.add(layers.Conv2D(10, (3, 3), activation='relu'))\n",
    "model.add(layers.Conv2D(10, (3, 3), activation='relu'))\n",
    "model.add(layers.Conv2D(15, (3, 3), activation='relu'))\n",
    "model.add(layers.Conv2D(10, (3, 3), activation='relu'))\n",
    "model.add(layers.Flatten())\n",
    "model.add(layers.Dense(50, activation='relu'))\n",
    "model.add(layers.Dense(10, activation='softmax'))"
   ]
  },
  {
   "cell_type": "code",
   "execution_count": 6,
   "id": "5d4c466a-1747-4677-b880-f003e655f32f",
   "metadata": {},
   "outputs": [
    {
     "name": "stdout",
     "output_type": "stream",
     "text": [
      "Model: \"sequential\"\n",
      "_________________________________________________________________\n",
      " Layer (type)                Output Shape              Param #   \n",
      "=================================================================\n",
      " conv2d (Conv2D)             (None, 26, 26, 3)         30        \n",
      "                                                                 \n",
      " conv2d_1 (Conv2D)           (None, 24, 24, 10)        280       \n",
      "                                                                 \n",
      " conv2d_2 (Conv2D)           (None, 22, 22, 10)        910       \n",
      "                                                                 \n",
      " conv2d_3 (Conv2D)           (None, 20, 20, 15)        1365      \n",
      "                                                                 \n",
      " conv2d_4 (Conv2D)           (None, 18, 18, 10)        1360      \n",
      "                                                                 \n",
      " flatten (Flatten)           (None, 3240)              0         \n",
      "                                                                 \n",
      " dense (Dense)               (None, 50)                162050    \n",
      "                                                                 \n",
      " dense_1 (Dense)             (None, 10)                510       \n",
      "                                                                 \n",
      "=================================================================\n",
      "Total params: 166,505\n",
      "Trainable params: 166,505\n",
      "Non-trainable params: 0\n",
      "_________________________________________________________________\n"
     ]
    }
   ],
   "source": [
    "model.summary()"
   ]
  },
  {
   "cell_type": "code",
   "execution_count": 7,
   "id": "35894b16-9a08-490d-ac30-e2ee3b450a7b",
   "metadata": {},
   "outputs": [],
   "source": [
    "model.compile(loss=\"sparse_categorical_crossentropy\",\n",
    "             optimizer=\"sgd\",\n",
    "             metrics=[\"accuracy\"])"
   ]
  },
  {
   "cell_type": "code",
   "execution_count": 8,
   "id": "426b3f86-55d8-4d09-ba75-2ed97dac64ae",
   "metadata": {},
   "outputs": [
    {
     "name": "stdout",
     "output_type": "stream",
     "text": [
      "Epoch 1/30\n"
     ]
    },
    {
     "name": "stderr",
     "output_type": "stream",
     "text": [
      "2022-04-29 21:49:11.529662: I tensorflow/stream_executor/cuda/cuda_dnn.cc:366] Loaded cuDNN version 8201\n",
      "2022-04-29 21:49:13.660596: I tensorflow/stream_executor/cuda/cuda_blas.cc:1774] TensorFloat-32 will be used for the matrix multiplication. This will only be logged once.\n"
     ]
    },
    {
     "name": "stdout",
     "output_type": "stream",
     "text": [
      "1719/1719 [==============================] - 14s 6ms/step - loss: 0.7402 - accuracy: 0.7268 - val_loss: 0.5137 - val_accuracy: 0.8156\n",
      "Epoch 2/30\n",
      "1719/1719 [==============================] - 10s 6ms/step - loss: 0.4893 - accuracy: 0.8201 - val_loss: 0.4912 - val_accuracy: 0.8150\n",
      "Epoch 3/30\n",
      "1719/1719 [==============================] - 10s 6ms/step - loss: 0.4198 - accuracy: 0.8471 - val_loss: 0.3903 - val_accuracy: 0.8640\n",
      "Epoch 4/30\n",
      "1719/1719 [==============================] - 10s 6ms/step - loss: 0.3753 - accuracy: 0.8610 - val_loss: 0.3537 - val_accuracy: 0.8740\n",
      "Epoch 5/30\n",
      "1719/1719 [==============================] - 10s 6ms/step - loss: 0.3471 - accuracy: 0.8716 - val_loss: 0.3371 - val_accuracy: 0.8750\n",
      "Epoch 6/30\n",
      "1719/1719 [==============================] - 10s 6ms/step - loss: 0.3273 - accuracy: 0.8782 - val_loss: 0.3408 - val_accuracy: 0.8810\n",
      "Epoch 7/30\n",
      "1719/1719 [==============================] - 8s 5ms/step - loss: 0.3096 - accuracy: 0.8845 - val_loss: 0.3277 - val_accuracy: 0.8810\n",
      "Epoch 8/30\n",
      "1719/1719 [==============================] - 8s 4ms/step - loss: 0.2954 - accuracy: 0.8894 - val_loss: 0.3168 - val_accuracy: 0.8856\n",
      "Epoch 9/30\n",
      "1719/1719 [==============================] - 8s 5ms/step - loss: 0.2840 - accuracy: 0.8940 - val_loss: 0.3031 - val_accuracy: 0.8902\n",
      "Epoch 10/30\n",
      "1719/1719 [==============================] - 7s 4ms/step - loss: 0.2735 - accuracy: 0.8992 - val_loss: 0.2955 - val_accuracy: 0.8954\n",
      "Epoch 11/30\n",
      "1719/1719 [==============================] - 8s 5ms/step - loss: 0.2634 - accuracy: 0.9014 - val_loss: 0.3031 - val_accuracy: 0.8958\n",
      "Epoch 12/30\n",
      "1719/1719 [==============================] - 8s 5ms/step - loss: 0.2543 - accuracy: 0.9055 - val_loss: 0.2904 - val_accuracy: 0.8974\n",
      "Epoch 13/30\n",
      "1719/1719 [==============================] - 8s 4ms/step - loss: 0.2456 - accuracy: 0.9092 - val_loss: 0.2863 - val_accuracy: 0.8994\n",
      "Epoch 14/30\n",
      "1719/1719 [==============================] - 8s 4ms/step - loss: 0.2391 - accuracy: 0.9113 - val_loss: 0.3086 - val_accuracy: 0.8888\n",
      "Epoch 15/30\n",
      "1719/1719 [==============================] - 8s 5ms/step - loss: 0.2319 - accuracy: 0.9141 - val_loss: 0.2883 - val_accuracy: 0.9002\n",
      "Epoch 16/30\n",
      "1719/1719 [==============================] - 8s 5ms/step - loss: 0.2243 - accuracy: 0.9179 - val_loss: 0.2904 - val_accuracy: 0.9000\n",
      "Epoch 17/30\n",
      "1719/1719 [==============================] - 7s 4ms/step - loss: 0.2162 - accuracy: 0.9185 - val_loss: 0.2976 - val_accuracy: 0.8984\n",
      "Epoch 18/30\n",
      "1719/1719 [==============================] - 8s 5ms/step - loss: 0.2113 - accuracy: 0.9207 - val_loss: 0.2928 - val_accuracy: 0.8998\n",
      "Epoch 19/30\n",
      "1719/1719 [==============================] - 8s 4ms/step - loss: 0.2025 - accuracy: 0.9246 - val_loss: 0.3268 - val_accuracy: 0.8948\n",
      "Epoch 20/30\n",
      "1719/1719 [==============================] - 8s 4ms/step - loss: 0.1965 - accuracy: 0.9260 - val_loss: 0.3045 - val_accuracy: 0.8968\n",
      "Epoch 21/30\n",
      "1719/1719 [==============================] - 8s 4ms/step - loss: 0.1914 - accuracy: 0.9279 - val_loss: 0.2893 - val_accuracy: 0.9020\n",
      "Epoch 22/30\n",
      "1719/1719 [==============================] - 8s 4ms/step - loss: 0.1841 - accuracy: 0.9319 - val_loss: 0.3008 - val_accuracy: 0.9010\n",
      "Epoch 23/30\n",
      "1719/1719 [==============================] - 8s 5ms/step - loss: 0.1779 - accuracy: 0.9337 - val_loss: 0.3194 - val_accuracy: 0.8972\n",
      "Epoch 24/30\n",
      "1719/1719 [==============================] - 7s 4ms/step - loss: 0.1719 - accuracy: 0.9347 - val_loss: 0.3258 - val_accuracy: 0.8932\n",
      "Epoch 25/30\n",
      "1719/1719 [==============================] - 8s 4ms/step - loss: 0.1654 - accuracy: 0.9389 - val_loss: 0.3091 - val_accuracy: 0.8980\n",
      "Epoch 26/30\n",
      "1719/1719 [==============================] - 8s 4ms/step - loss: 0.1592 - accuracy: 0.9393 - val_loss: 0.3047 - val_accuracy: 0.8990\n",
      "Epoch 27/30\n",
      "1719/1719 [==============================] - 8s 5ms/step - loss: 0.1540 - accuracy: 0.9413 - val_loss: 0.3372 - val_accuracy: 0.8932\n",
      "Epoch 28/30\n",
      "1719/1719 [==============================] - 8s 4ms/step - loss: 0.1492 - accuracy: 0.9445 - val_loss: 0.3172 - val_accuracy: 0.8976\n",
      "Epoch 29/30\n",
      "1719/1719 [==============================] - 8s 4ms/step - loss: 0.1427 - accuracy: 0.9457 - val_loss: 0.3331 - val_accuracy: 0.8976\n",
      "Epoch 30/30\n",
      "1719/1719 [==============================] - 8s 5ms/step - loss: 0.1377 - accuracy: 0.9494 - val_loss: 0.3493 - val_accuracy: 0.8938\n"
     ]
    }
   ],
   "source": [
    "history = model.fit(X_train, y_train, epochs=30,\n",
    "                   validation_data=(X_valid, y_valid))"
   ]
  },
  {
   "cell_type": "code",
   "execution_count": 9,
   "id": "0842a26e-f19d-400a-9233-f9cd70f2b4e0",
   "metadata": {},
   "outputs": [
    {
     "data": {
      "image/png": "[encoded data removed]",
      "text/plain": [
       "<Figure size 576x360 with 1 Axes>"
      ]
     },
     "metadata": {
      "needs_background": "light"
     },
     "output_type": "display_data"
    }
   ],
   "source": [
    "import pandas as pd\n",
    "import matplotlib.pyplot as plt\n",
    "\n",
    "pd.DataFrame(history.history).plot(figsize=(8, 5))\n",
    "plt.grid(True)\n",
    "plt.gca().set_ylim(0, 1)\n",
    "plt.show()"
   ]
  },
  {
   "cell_type": "code",
   "execution_count": 10,
   "id": "53789472-fbbc-431f-8d96-752e862700c3",
   "metadata": {},
   "outputs": [
    {
     "name": "stdout",
     "output_type": "stream",
     "text": [
      "Model: \"sequential_1\"\n",
      "_________________________________________________________________\n",
      " Layer (type)                Output Shape              Param #   \n",
      "=================================================================\n",
      " separable_conv2d (Separable  (None, 26, 26, 3)        15        \n",
      " Conv2D)                                                         \n",
      "                                                                 \n",
      " separable_conv2d_1 (Separab  (None, 24, 24, 10)       67        \n",
      " leConv2D)                                                       \n",
      "                                                                 \n",
      " separable_conv2d_2 (Separab  (None, 22, 22, 10)       200       \n",
      " leConv2D)                                                       \n",
      "                                                                 \n",
      " separable_conv2d_3 (Separab  (None, 20, 20, 15)       255       \n",
      " leConv2D)                                                       \n",
      "                                                                 \n",
      " separable_conv2d_4 (Separab  (None, 18, 18, 10)       295       \n",
      " leConv2D)                                                       \n",
      "                                                                 \n",
      " flatten_1 (Flatten)         (None, 3240)              0         \n",
      "                                                                 \n",
      " dense_2 (Dense)             (None, 50)                162050    \n",
      "                                                                 \n",
      " dense_3 (Dense)             (None, 10)                510       \n",
      "                                                                 \n",
      "=================================================================\n",
      "Total params: 163,392\n",
      "Trainable params: 163,392\n",
      "Non-trainable params: 0\n",
      "_________________________________________________________________\n"
     ]
    }
   ],
   "source": [
    "model2 = keras.models.Sequential()\n",
    "model2.add(layers.SeparableConv2D(3, (3, 3), activation='relu', input_shape=(28, 28, 1)))\n",
    "model2.add(layers.SeparableConv2D(10, (3, 3), activation='relu'))\n",
    "model2.add(layers.SeparableConv2D(10, (3, 3), activation='relu'))\n",
    "model2.add(layers.SeparableConv2D(15, (3, 3), activation='relu'))\n",
    "model2.add(layers.SeparableConv2D(10, (3, 3), activation='relu'))\n",
    "model2.add(layers.Flatten())\n",
    "model2.add(layers.Dense(50, activation='relu'))\n",
    "model2.add(layers.Dense(10, activation='softmax'))\n",
    "\n",
    "model2.summary()"
   ]
  },
  {
   "cell_type": "code",
   "execution_count": 11,
   "id": "4ce70df8-afdb-4f81-afd0-21acd632737f",
   "metadata": {},
   "outputs": [],
   "source": [
    "model2.compile(loss=\"sparse_categorical_crossentropy\",\n",
    "             optimizer=\"sgd\",\n",
    "             metrics=[\"accuracy\"])"
   ]
  },
  {
   "cell_type": "code",
   "execution_count": 12,
   "id": "a51fe1bf-a7b4-4240-9888-d99b0ddf0528",
   "metadata": {},
   "outputs": [
    {
     "name": "stdout",
     "output_type": "stream",
     "text": [
      "Epoch 1/30\n",
      "1719/1719 [==============================] - 12s 7ms/step - loss: 1.4031 - accuracy: 0.4707 - val_loss: 0.7142 - val_accuracy: 0.7368\n",
      "Epoch 2/30\n",
      "1719/1719 [==============================] - 11s 7ms/step - loss: 0.6353 - accuracy: 0.7591 - val_loss: 0.5475 - val_accuracy: 0.7980\n",
      "Epoch 3/30\n",
      "1719/1719 [==============================] - 11s 6ms/step - loss: 0.5483 - accuracy: 0.7911 - val_loss: 0.5071 - val_accuracy: 0.8168\n",
      "Epoch 4/30\n",
      "1719/1719 [==============================] - 11s 6ms/step - loss: 0.5062 - accuracy: 0.8081 - val_loss: 0.4705 - val_accuracy: 0.8280\n",
      "Epoch 5/30\n",
      "1719/1719 [==============================] - 11s 6ms/step - loss: 0.4773 - accuracy: 0.8201 - val_loss: 0.4521 - val_accuracy: 0.8398\n",
      "Epoch 6/30\n",
      "1719/1719 [==============================] - 11s 6ms/step - loss: 0.4561 - accuracy: 0.8288 - val_loss: 0.4203 - val_accuracy: 0.8474\n",
      "Epoch 7/30\n",
      "1719/1719 [==============================] - 11s 7ms/step - loss: 0.4361 - accuracy: 0.8367 - val_loss: 0.4268 - val_accuracy: 0.8496\n",
      "Epoch 8/30\n",
      "1719/1719 [==============================] - 11s 7ms/step - loss: 0.4208 - accuracy: 0.8399 - val_loss: 0.4000 - val_accuracy: 0.8520\n",
      "Epoch 9/30\n",
      "1719/1719 [==============================] - 11s 6ms/step - loss: 0.4055 - accuracy: 0.8472 - val_loss: 0.4055 - val_accuracy: 0.8498\n",
      "Epoch 10/30\n",
      "1719/1719 [==============================] - 11s 7ms/step - loss: 0.3927 - accuracy: 0.8532 - val_loss: 0.3729 - val_accuracy: 0.8664\n",
      "Epoch 11/30\n",
      "1719/1719 [==============================] - 11s 7ms/step - loss: 0.3781 - accuracy: 0.8597 - val_loss: 0.3788 - val_accuracy: 0.8624\n",
      "Epoch 12/30\n",
      "1719/1719 [==============================] - 11s 6ms/step - loss: 0.3652 - accuracy: 0.8635 - val_loss: 0.3777 - val_accuracy: 0.8612\n",
      "Epoch 13/30\n",
      "1719/1719 [==============================] - 11s 6ms/step - loss: 0.3521 - accuracy: 0.8692 - val_loss: 0.3594 - val_accuracy: 0.8654\n",
      "Epoch 14/30\n",
      "1719/1719 [==============================] - 11s 6ms/step - loss: 0.3396 - accuracy: 0.8727 - val_loss: 0.3451 - val_accuracy: 0.8736\n",
      "Epoch 15/30\n",
      "1719/1719 [==============================] - 11s 7ms/step - loss: 0.3280 - accuracy: 0.8780 - val_loss: 0.3508 - val_accuracy: 0.8706\n",
      "Epoch 16/30\n",
      "1719/1719 [==============================] - 11s 6ms/step - loss: 0.3169 - accuracy: 0.8805 - val_loss: 0.3454 - val_accuracy: 0.8700\n",
      "Epoch 17/30\n",
      "1719/1719 [==============================] - 11s 7ms/step - loss: 0.3049 - accuracy: 0.8863 - val_loss: 0.3285 - val_accuracy: 0.8804\n",
      "Epoch 18/30\n",
      "1719/1719 [==============================] - 11s 6ms/step - loss: 0.2938 - accuracy: 0.8892 - val_loss: 0.3267 - val_accuracy: 0.8772\n",
      "Epoch 19/30\n",
      "1719/1719 [==============================] - 11s 7ms/step - loss: 0.2841 - accuracy: 0.8924 - val_loss: 0.3190 - val_accuracy: 0.8860\n",
      "Epoch 20/30\n",
      "1719/1719 [==============================] - 11s 6ms/step - loss: 0.2737 - accuracy: 0.8973 - val_loss: 0.3345 - val_accuracy: 0.8798\n",
      "Epoch 21/30\n",
      "1719/1719 [==============================] - 11s 7ms/step - loss: 0.2654 - accuracy: 0.9015 - val_loss: 0.3316 - val_accuracy: 0.8806\n",
      "Epoch 22/30\n",
      "1719/1719 [==============================] - 11s 6ms/step - loss: 0.2574 - accuracy: 0.9033 - val_loss: 0.3295 - val_accuracy: 0.8812\n",
      "Epoch 23/30\n",
      "1719/1719 [==============================] - 11s 6ms/step - loss: 0.2480 - accuracy: 0.9078 - val_loss: 0.3114 - val_accuracy: 0.8926\n",
      "Epoch 24/30\n",
      "1719/1719 [==============================] - 11s 7ms/step - loss: 0.2409 - accuracy: 0.9090 - val_loss: 0.3387 - val_accuracy: 0.8866\n",
      "Epoch 25/30\n",
      "1719/1719 [==============================] - 11s 6ms/step - loss: 0.2329 - accuracy: 0.9118 - val_loss: 0.3246 - val_accuracy: 0.8858\n",
      "Epoch 26/30\n",
      "1719/1719 [==============================] - 11s 6ms/step - loss: 0.2255 - accuracy: 0.9154 - val_loss: 0.3286 - val_accuracy: 0.8884\n",
      "Epoch 27/30\n",
      "1719/1719 [==============================] - 11s 7ms/step - loss: 0.2173 - accuracy: 0.9177 - val_loss: 0.3407 - val_accuracy: 0.8852\n",
      "Epoch 28/30\n",
      "1719/1719 [==============================] - 11s 7ms/step - loss: 0.2101 - accuracy: 0.9211 - val_loss: 0.3326 - val_accuracy: 0.8914\n",
      "Epoch 29/30\n",
      "1719/1719 [==============================] - 11s 7ms/step - loss: 0.2042 - accuracy: 0.9232 - val_loss: 0.3381 - val_accuracy: 0.8930\n",
      "Epoch 30/30\n",
      "1719/1719 [==============================] - 11s 6ms/step - loss: 0.1981 - accuracy: 0.9251 - val_loss: 0.3466 - val_accuracy: 0.8842\n"
     ]
    }
   ],
   "source": [
    "history = model2.fit(X_train, y_train, epochs=30,\n",
    "                   validation_data=(X_valid, y_valid))"
   ]
  },
  {
   "cell_type": "code",
   "execution_count": 15,
   "id": "553dbdae-17e7-4cd7-8914-6adc97c560ed",
   "metadata": {},
   "outputs": [
    {
     "name": "stdout",
     "output_type": "stream",
     "text": [
      "313/313 - 1s - loss: 0.3735 - accuracy: 0.8822 - 1s/epoch - 3ms/step\n",
      "313/313 - 1s - loss: 0.3684 - accuracy: 0.8893 - 858ms/epoch - 3ms/step\n"
     ]
    }
   ],
   "source": [
    "test_loss, test_acc = model2.evaluate(X_test,  y_test, verbose=2)\n",
    "test_loss, test_acc = model.evaluate(X_test,  y_test, verbose=2)"
   ]
  },
  {
   "cell_type": "code",
   "execution_count": 26,
   "id": "e0976af7-fe35-435a-8214-48c0f2509c5b",
   "metadata": {},
   "outputs": [
    {
     "name": "stdout",
     "output_type": "stream",
     "text": [
      "313/313 [==============================] - 1s 2ms/step\n",
      "Model 2 predict time = 0.66440\n",
      "313/313 [==============================] - 1s 2ms/step\n",
      "Model 1 predict time = 0.63443\n"
     ]
    }
   ],
   "source": [
    "import time\n",
    "\n",
    "t = time.time()\n",
    "model.predict(X_test, verbose=1)\n",
    "print(f\"Model 1 predict time = {time.time() - t:.5f}\")\n",
    "\n",
    "t = time.time()\n",
    "model2.predict(X_test, verbose=1)\n",
    "print(f\"Model 2 predict time = {time.time() - t:.5f}\")"
   ]
  },
  {
   "cell_type": "code",
   "execution_count": 21,
   "id": "5bc94718-2641-41f9-92b8-efebaad2cbeb",
   "metadata": {},
   "outputs": [
    {
     "data": {
      "text/plain": [
       "(10000, 28, 28)"
      ]
     },
     "execution_count": 21,
     "metadata": {},
     "output_type": "execute_result"
    }
   ],
   "source": [
    "X_test.shape"
   ]
  },
  {
   "cell_type": "code",
   "execution_count": 23,
   "id": "44308e4a-c740-4c1a-ba13-0d29da9b6ed0",
   "metadata": {},
   "outputs": [
    {
     "data": {
      "text/plain": [
       "(28, 28)"
      ]
     },
     "execution_count": 23,
     "metadata": {},
     "output_type": "execute_result"
    }
   ],
   "source": [
    "X_test[0].shape"
   ]
  },
  {
   "cell_type": "code",
   "execution_count": 27,
   "id": "3abd6db8-f631-43c1-befd-5eed3b39662e",
   "metadata": {},
   "outputs": [],
   "source": [
    "# model.save(\"normal_conv.h5\")\n",
    "# model2.save(\"sep_conv.h5\")"
   ]
  },
  {
   "cell_type": "code",
   "execution_count": 7,
   "id": "a22c3ed5-079c-4623-b998-296844714b17",
   "metadata": {},
   "outputs": [
    {
     "name": "stdout",
     "output_type": "stream",
     "text": [
      "Size of normal_conv = 0.669 MB\n",
      "Size of sep_conv = 0.659 MB\n"
     ]
    }
   ],
   "source": [
    "import os\n",
    "\n",
    "size1 = os.path.getsize(\"normal_conv.h5\")\n",
    "size2 = os.path.getsize(\"sep_conv.h5\")\n",
    "print(f\"Size of normal_conv = {size1/1024**2:.3f} MB\")\n",
    "print(f\"Size of sep_conv = {size2/1024**2:.3f} MB\")"
   ]
  },
  {
   "cell_type": "code",
   "execution_count": 8,
   "id": "d09d5b08-caea-4efd-8037-4271b4a9b407",
   "metadata": {},
   "outputs": [],
   "source": [
    "def get_model_size(model):\n",
    "    import os\n",
    "    model.save(\"test.h5\")\n",
    "    size = os.path.getsize(\"test.h5\")\n",
    "    print(f\"Size of Model = {size/1024**2:.4f}MB\")\n",
    "    os.remove(\"test.h5\")\n",
    "    return size"
   ]
  },
  {
   "cell_type": "code",
   "execution_count": 9,
   "id": "3b813b70-543e-4e7e-962c-15912afbe5ff",
   "metadata": {},
   "outputs": [
    {
     "name": "stdout",
     "output_type": "stream",
     "text": [
      "WARNING:tensorflow:Compiled the loaded model, but the compiled metrics have yet to be built. `model.compile_metrics` will be empty until you train or evaluate the model.\n",
      "Size of Model = 0.6666MB\n"
     ]
    },
    {
     "ename": "NameError",
     "evalue": "name 'model2' is not defined",
     "output_type": "error",
     "traceback": [
      "\u001b[0;31m---------------------------------------------------------------------------\u001b[0m",
      "\u001b[0;31mNameError\u001b[0m                                 Traceback (most recent call last)",
      "\u001b[0;32m/tmp/ipykernel_57924/1596334944.py\u001b[0m in \u001b[0;36m<module>\u001b[0;34m\u001b[0m\n\u001b[1;32m      1\u001b[0m \u001b[0msize1\u001b[0m \u001b[0;34m=\u001b[0m \u001b[0mget_model_size\u001b[0m\u001b[0;34m(\u001b[0m\u001b[0mmodel\u001b[0m\u001b[0;34m)\u001b[0m\u001b[0;34m\u001b[0m\u001b[0;34m\u001b[0m\u001b[0m\n\u001b[0;32m----> 2\u001b[0;31m \u001b[0msize2\u001b[0m \u001b[0;34m=\u001b[0m \u001b[0mget_model_size\u001b[0m\u001b[0;34m(\u001b[0m\u001b[0mmodel2\u001b[0m\u001b[0;34m)\u001b[0m\u001b[0;34m\u001b[0m\u001b[0;34m\u001b[0m\u001b[0m\n\u001b[0m",
      "\u001b[0;31mNameError\u001b[0m: name 'model2' is not defined"
     ]
    }
   ],
   "source": [
    "size1 = get_model_size(model)\n",
    "# size2 = get_model_size(model2)"
   ]
  },
  {
   "cell_type": "code",
   "execution_count": 10,
   "id": "6d218983-1b7e-4af3-894f-9a2496c89b9e",
   "metadata": {},
   "outputs": [],
   "source": [
    "def get_inference_time(model, test=tf.random.uniform((1, 28, 28, 1))):\n",
    "    import time\n",
    "    start = time.time()\n",
    "    model.predict(test)\n",
    "    inf = time.time() - start\n",
    "    print(f\"Inference time = {inf:.4f}s\")\n",
    "    return inf"
   ]
  },
  {
   "cell_type": "code",
   "execution_count": 11,
   "id": "8ef239c9-2bdb-4595-ae4e-d3bda3a6e7a3",
   "metadata": {},
   "outputs": [
    {
     "name": "stderr",
     "output_type": "stream",
     "text": [
      "2022-04-30 12:19:44.510816: I tensorflow/stream_executor/cuda/cuda_dnn.cc:366] Loaded cuDNN version 8201\n"
     ]
    },
    {
     "name": "stdout",
     "output_type": "stream",
     "text": [
      "Inference time = 2.2997s\n"
     ]
    },
    {
     "name": "stderr",
     "output_type": "stream",
     "text": [
      "2022-04-30 12:19:46.045952: I tensorflow/stream_executor/cuda/cuda_blas.cc:1774] TensorFloat-32 will be used for the matrix multiplication. This will only be logged once.\n"
     ]
    },
    {
     "ename": "NameError",
     "evalue": "name 'model2' is not defined",
     "output_type": "error",
     "traceback": [
      "\u001b[0;31m---------------------------------------------------------------------------\u001b[0m",
      "\u001b[0;31mNameError\u001b[0m                                 Traceback (most recent call last)",
      "\u001b[0;32m/tmp/ipykernel_57924/3126125846.py\u001b[0m in \u001b[0;36m<module>\u001b[0;34m\u001b[0m\n\u001b[1;32m      1\u001b[0m \u001b[0minf1\u001b[0m \u001b[0;34m=\u001b[0m \u001b[0mget_inference_time\u001b[0m\u001b[0;34m(\u001b[0m\u001b[0mmodel\u001b[0m\u001b[0;34m)\u001b[0m\u001b[0;34m\u001b[0m\u001b[0;34m\u001b[0m\u001b[0m\n\u001b[0;32m----> 2\u001b[0;31m \u001b[0minf2\u001b[0m \u001b[0;34m=\u001b[0m \u001b[0mget_inference_time\u001b[0m\u001b[0;34m(\u001b[0m\u001b[0mmodel2\u001b[0m\u001b[0;34m)\u001b[0m\u001b[0;34m\u001b[0m\u001b[0;34m\u001b[0m\u001b[0m\n\u001b[0m",
      "\u001b[0;31mNameError\u001b[0m: name 'model2' is not defined"
     ]
    }
   ],
   "source": [
    "inf1 = get_inference_time(model)\n",
    "# inf2 = get_inference_time(model2)"
   ]
  },
  {
   "cell_type": "code",
   "execution_count": 12,
   "id": "2647f70e-c7ea-4c0d-bba9-fb89698dd1ec",
   "metadata": {},
   "outputs": [],
   "source": [
    "import tensorflow_model_optimization as tfmot\n",
    "import numpy as np"
   ]
  },
  {
   "cell_type": "code",
   "execution_count": 15,
   "id": "b18f24b6-cadd-4fcc-bb51-1f3281e28597",
   "metadata": {},
   "outputs": [
    {
     "name": "stdout",
     "output_type": "stream",
     "text": [
      "Model: \"sequential\"\n",
      "_________________________________________________________________\n",
      " Layer (type)                Output Shape              Param #   \n",
      "=================================================================\n",
      " prune_low_magnitude_conv2d   (None, 26, 26, 3)        59        \n",
      " (PruneLowMagnitude)                                             \n",
      "                                                                 \n",
      " prune_low_magnitude_conv2d_  (None, 24, 24, 10)       552       \n",
      " 1 (PruneLowMagnitude)                                           \n",
      "                                                                 \n",
      " prune_low_magnitude_conv2d_  (None, 22, 22, 10)       1812      \n",
      " 2 (PruneLowMagnitude)                                           \n",
      "                                                                 \n",
      " prune_low_magnitude_conv2d_  (None, 20, 20, 15)       2717      \n",
      " 3 (PruneLowMagnitude)                                           \n",
      "                                                                 \n",
      " prune_low_magnitude_conv2d_  (None, 18, 18, 10)       2712      \n",
      " 4 (PruneLowMagnitude)                                           \n",
      "                                                                 \n",
      " prune_low_magnitude_flatten  (None, 3240)             1         \n",
      "  (PruneLowMagnitude)                                            \n",
      "                                                                 \n",
      " prune_low_magnitude_dense (  (None, 50)               324052    \n",
      " PruneLowMagnitude)                                              \n",
      "                                                                 \n",
      " prune_low_magnitude_dense_1  (None, 10)               1012      \n",
      "  (PruneLowMagnitude)                                            \n",
      "                                                                 \n",
      "=================================================================\n",
      "Total params: 332,917\n",
      "Trainable params: 166,505\n",
      "Non-trainable params: 166,412\n",
      "_________________________________________________________________\n",
      "WARNING:tensorflow:Compiled the loaded model, but the compiled metrics have yet to be built. `model.compile_metrics` will be empty until you train or evaluate the model.\n",
      "Size of Model = 0.6666MB\n",
      "Size of Model = 1.3207MB\n"
     ]
    },
    {
     "data": {
      "text/plain": [
       "1384904"
      ]
     },
     "execution_count": 15,
     "metadata": {},
     "output_type": "execute_result"
    }
   ],
   "source": [
    "prune_low_magnitude = tfmot.sparsity.keras.prune_low_magnitude\n",
    "\n",
    "# Compute end step to finish pruing after 2 epochs\n",
    "batch_size = 128\n",
    "epochs = 5\n",
    "validation_split = 0.1\n",
    "\n",
    "n_imgs = X_train_full.shape[0] * (1 - validation_split)\n",
    "end_step = np.ceil(n_imgs / batch_size).astype(np.int32) * epochs\n",
    "\n",
    "# Define model for pruning\n",
    "pruning_params = {\n",
    "    'pruning_schedule': tfmot.sparsity.keras.PolynomialDecay(initial_sparsity=0.1, \n",
    "                                                            final_sparsity = 0.4,\n",
    "                                                            begin_step=0,\n",
    "                                                            end_step=end_step)\n",
    "}\n",
    "\n",
    "model_for_pruning = prune_low_magnitude(model, **pruning_params)\n",
    "\n",
    "model_for_pruning.compile(optimizer='adam',\n",
    "                         loss=tf.keras.losses.SparseCategoricalCrossentropy(from_logits=True),\n",
    "                         metrics=['accuracy'])\n",
    "\n",
    "model_for_pruning.summary()\n",
    "\n",
    "get_model_size(model)\n",
    "get_model_size(model_for_pruning)"
   ]
  },
  {
   "cell_type": "code",
   "execution_count": 16,
   "id": "4a25e2ad-47d2-4f37-8159-86c5d5254e4d",
   "metadata": {},
   "outputs": [
    {
     "name": "stdout",
     "output_type": "stream",
     "text": [
      "Epoch 1/5\n"
     ]
    },
    {
     "name": "stderr",
     "output_type": "stream",
     "text": [
      "/home/mint-lab/anaconda3/envs/dl_ws/lib/python3.9/site-packages/tensorflow/python/util/dispatch.py:1096: UserWarning: \"`sparse_categorical_crossentropy` received `from_logits=True`, but the `output` argument was produced by a sigmoid or softmax activation and thus does not represent logits. Was this intended?\"\n",
      "  return dispatch_target(*args, **kwargs)\n"
     ]
    },
    {
     "name": "stdout",
     "output_type": "stream",
     "text": [
      "  1/387 [..............................] - ETA: 18:00 - loss: 2.3031 - accuracy: 0.0000e+00WARNING:tensorflow:Callback method `on_train_batch_end` is slow compared to the batch time (batch time: 0.0051s vs `on_train_batch_end` time: 0.0064s). Check your callbacks.\n",
      "387/387 [==============================] - 7s 10ms/step - loss: 0.6343 - accuracy: 0.1064 - val_loss: 0.4526 - val_accuracy: 0.1156\n",
      "Epoch 2/5\n",
      "387/387 [==============================] - 3s 8ms/step - loss: 0.4263 - accuracy: 0.1061 - val_loss: 0.3806 - val_accuracy: 0.0996\n",
      "Epoch 3/5\n",
      "387/387 [==============================] - 3s 9ms/step - loss: 0.3635 - accuracy: 0.1039 - val_loss: 0.3497 - val_accuracy: 0.1049\n",
      "Epoch 4/5\n",
      "387/387 [==============================] - 3s 8ms/step - loss: 0.3284 - accuracy: 0.1037 - val_loss: 0.3499 - val_accuracy: 0.0991\n",
      "Epoch 5/5\n",
      "387/387 [==============================] - 3s 8ms/step - loss: 0.3023 - accuracy: 0.1036 - val_loss: 0.3172 - val_accuracy: 0.0991\n"
     ]
    },
    {
     "data": {
      "text/plain": [
       "<keras.callbacks.History at 0x7f09dc3575e0>"
      ]
     },
     "execution_count": 16,
     "metadata": {},
     "output_type": "execute_result"
    }
   ],
   "source": [
    "import tempfile\n",
    "\n",
    "logdir = tempfile.mkdtemp()\n",
    "\n",
    "callbacks = [\n",
    "  tfmot.sparsity.keras.UpdatePruningStep(),\n",
    "  tfmot.sparsity.keras.PruningSummaries(log_dir=logdir),\n",
    "]\n",
    "\n",
    "model_for_pruning.fit(X_train, y_train,\n",
    "                  batch_size=batch_size, epochs=epochs, validation_split=validation_split,\n",
    "                  callbacks=callbacks)"
   ]
  },
  {
   "cell_type": "code",
   "execution_count": 17,
   "id": "cb3003f1-d519-4f77-8584-231b8e788903",
   "metadata": {},
   "outputs": [
    {
     "name": "stdout",
     "output_type": "stream",
     "text": [
      "WARNING:tensorflow:Compiled the loaded model, but the compiled metrics have yet to be built. `model.compile_metrics` will be empty until you train or evaluate the model.\n",
      "Size of Model = 0.6666MB\n",
      "Size of Model = 2.6238MB\n"
     ]
    },
    {
     "data": {
      "text/plain": [
       "2751224"
      ]
     },
     "execution_count": 17,
     "metadata": {},
     "output_type": "execute_result"
    }
   ],
   "source": [
    "get_model_size(model)\n",
    "get_model_size(model_for_pruning)"
   ]
  },
  {
   "cell_type": "code",
   "execution_count": 64,
   "id": "6dac5cba-cc7f-477e-9a2c-6faf2871c7d3",
   "metadata": {},
   "outputs": [
    {
     "name": "stdout",
     "output_type": "stream",
     "text": [
      "The tensorboard extension is already loaded. To reload it, use:\n",
      "  %reload_ext tensorboard\n"
     ]
    },
    {
     "data": {
      "text/html": [
       "\n",
       "      <iframe id=\"tensorboard-frame-34d1137db234015e\" width=\"100%\" height=\"800\" frameborder=\"0\">\n",
       "      </iframe>\n",
       "      <script>\n",
       "        (function() {\n",
       "          const frame = document.getElementById(\"tensorboard-frame-34d1137db234015e\");\n",
       "          const url = new URL(\"/\", window.location);\n",
       "          const port = 6007;\n",
       "          if (port) {\n",
       "            url.port = port;\n",
       "          }\n",
       "          frame.src = url;\n",
       "        })();\n",
       "      </script>\n",
       "    "
      ],
      "text/plain": [
       "<IPython.core.display.HTML object>"
      ]
     },
     "metadata": {},
     "output_type": "display_data"
    }
   ],
   "source": [
    "%load_ext tensorboard\n",
    "\n",
    "%tensorboard --logdir={logdir}\n"
   ]
  },
  {
   "cell_type": "code",
   "execution_count": null,
   "id": "2de79db3-98a0-4004-b048-7a015db04c69",
   "metadata": {},
   "outputs": [],
   "source": []
  }
 ],
 "metadata": {
  "kernelspec": {
   "display_name": "Python 3 (ipykernel)",
   "language": "python",
   "name": "python3"
  },
  "language_info": {
   "codemirror_mode": {
    "name": "ipython",
    "version": 3
   },
   "file_extension": ".py",
   "mimetype": "text/x-python",
   "name": "python",
   "nbconvert_exporter": "python",
   "pygments_lexer": "ipython3",
   "version": "3.9.10"
  }
 },
 "nbformat": 4,
 "nbformat_minor": 5
}

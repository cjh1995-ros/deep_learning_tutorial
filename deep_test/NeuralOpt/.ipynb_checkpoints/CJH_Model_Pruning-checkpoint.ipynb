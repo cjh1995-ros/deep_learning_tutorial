{
 "cells": [
  {
   "cell_type": "code",
   "execution_count": 1,
   "id": "0928bced-571d-49d8-a686-625549ec96c3",
   "metadata": {},
   "outputs": [],
   "source": [
    "import os\n",
    "import random\n",
    "import numpy as np\n",
    "import matplotlib.pyplot as plt\n",
    "from typing import Any, List\n",
    "import pandas as pd\n",
    "from tqdm import tqdm\n",
    "\n",
    "# DL library imports\n",
    "import torch\n",
    "from torch.utils.data import DataLoader\n",
    "from torchvision import datasets, transforms\n",
    "from torch.utils.data.sampler import SubsetRandomSampler\n",
    "from torch import nn, optim\n",
    "import torch.nn.functional as F"
   ]
  },
  {
   "cell_type": "code",
   "execution_count": 2,
   "id": "cc4a3307-477e-4ca2-aa9c-251fdf6b1adf",
   "metadata": {},
   "outputs": [],
   "source": [
    "# Dataset: Fashion MNIST\n",
    "dataset_labels = ['TShirt', 'Trouser', 'Pullover', 'Dress', 'Coat', 'Sandal', 'Shirt', 'Sneaker', 'Bag', 'AnkleBoot']\n",
    "\n",
    "# necessary image transform i.e. convert to Tensor, normalize\n",
    "train_transform = transforms.Compose([transforms.ToTensor(), transforms.Normalize((0.5,), (0.5,)) ])\n",
    "test_transform  = transforms.Compose([transforms.ToTensor(), transforms.Normalize((0.5,), (0.5,)) ])\n",
    "\n",
    "# Download the Train and Test set\n",
    "train_set = datasets.FashionMNIST('.', train=True, download=False, transform=train_transform)\n",
    "test_set = datasets.FashionMNIST('.', train=False, download=False, transform=test_transform)"
   ]
  },
  {
   "cell_type": "code",
   "execution_count": 3,
   "id": "b8326c3a-7616-4eac-9eb4-954499b2da2a",
   "metadata": {},
   "outputs": [],
   "source": [
    "NUM_WORKERS = 1 \n",
    "TEST_BATCH_SIZE  = 64\n",
    "TRAIN_BATCH_SIZE = 16\n",
    "VALID_SIZE = 0.2 "
   ]
  },
  {
   "cell_type": "code",
   "execution_count": 4,
   "id": "f90f0fea-0fdc-42b0-82de-ff736089b23d",
   "metadata": {},
   "outputs": [],
   "source": [
    "len_train_set = len(train_set)\n",
    "index_list = list(range(len_train_set))\n",
    "np.random.shuffle(index_list)\n",
    "split_index = int(len_train_set * VALID_SIZE)\n",
    "train_idx, valid_idx = index_list[split_index:], index_list[:split_index]\n",
    "train_sampler = SubsetRandomSampler(train_idx)\n",
    "valid_sampler = SubsetRandomSampler(valid_idx)"
   ]
  },
  {
   "cell_type": "code",
   "execution_count": 5,
   "id": "22727d0f-fd54-4be7-bf96-d99a6ac16919",
   "metadata": {},
   "outputs": [],
   "source": [
    "train_loader = DataLoader(train_set, batch_size=TRAIN_BATCH_SIZE, sampler=train_sampler, num_workers=NUM_WORKERS)\n",
    "valid_loader = DataLoader(train_set, batch_size=TEST_BATCH_SIZE,  sampler=valid_sampler, num_workers=NUM_WORKERS)\n",
    "test_loader  = DataLoader(test_set,  batch_size=TEST_BATCH_SIZE,  shuffle=True,num_workers=NUM_WORKERS)"
   ]
  },
  {
   "cell_type": "code",
   "execution_count": 6,
   "id": "a59dbee1-077a-4c40-b5f3-7e4226b294d0",
   "metadata": {},
   "outputs": [
    {
     "data": {
      "image/png": "[encoded data removed]",
      "text/plain": [
       "<Figure size 432x288 with 1 Axes>"
      ]
     },
     "metadata": {
      "needs_background": "light"
     },
     "output_type": "display_data"
    }
   ],
   "source": [
    "img, label = next(iter(train_loader))\n",
    "plt.imshow(img[0].numpy().squeeze(), cmap = 'Greys_r')\n",
    "plt.title(f'{dataset_labels[label[0].item()]}')\n",
    "plt.show()"
   ]
  },
  {
   "cell_type": "code",
   "execution_count": 7,
   "id": "2cc21619-fbce-4e2e-b235-dfda43248130",
   "metadata": {},
   "outputs": [],
   "source": [
    "class MLPClassifier(nn.Module):\n",
    "    def __init__(self):\n",
    "        super().__init__()\n",
    "        self.fc1 = nn.Linear(784, 128, bias=True)\n",
    "        self.fc2 = nn.Linear(128, 64, bias=True)\n",
    "        self.fc3 = nn.Linear(64, 32, bias=True)\n",
    "        self.fc4 = nn.Linear(32, 10, bias=True)\n",
    "\n",
    "    def forward(self, x):\n",
    "        x = x.view(x.shape[0], -1)\n",
    "        x = F.relu(self.fc1(x))\n",
    "        x = F.relu(self.fc2(x))\n",
    "        x = F.relu(self.fc3(x))\n",
    "        x = self.fc4(x)\n",
    "        return x"
   ]
  },
  {
   "cell_type": "code",
   "execution_count": 8,
   "id": "98c83c51-695f-4f7d-bad0-392af86cc563",
   "metadata": {},
   "outputs": [],
   "source": [
    "# Load the Model\n",
    "device = torch.device(\"cuda\" if torch.cuda.is_available() else \"cpu\")\n",
    "model = MLPClassifier().to(device)"
   ]
  },
  {
   "cell_type": "code",
   "execution_count": 9,
   "id": "4e257785-d442-4b08-9692-0a8add0c34c5",
   "metadata": {},
   "outputs": [
    {
     "name": "stdout",
     "output_type": "stream",
     "text": [
      "Model Size:  0.424 Mb\n",
      "File Size:  0.447 Mb\n",
      "Inference Time:  0.00263 s\n",
      "Mega FLOPS:  0.443648\n",
      "Mega MACs:  0.221824\n",
      "Mega Params:  0.111146\n"
     ]
    }
   ],
   "source": [
    "from modelMetrics import computeInferenceTime, getModelFileSize, profile, getModelSize\n",
    "\n",
    "def print_model_metrics(model, dummy_input):\n",
    "  print(\"Model Size: \", str(round(getModelSize(model),3)),\"Mb\")\n",
    "  print(\"File Size: \", str(round(getModelFileSize(model),3)),\"Mb\")\n",
    "  print(\"Inference Time: \",str(round(computeInferenceTime(model,dummy_input, device),5)),\"s\")\n",
    "  macs, params = profile(model, inputs=(dummy_input,), verbose=False)\n",
    "  flops = 2 * macs\n",
    "  print(\"Mega FLOPS: \", str(flops * 1e-6))\n",
    "  print(\"Mega MACs: \", str(macs * 1e-6))\n",
    "  print(\"Mega Params: \", str(params * 1e-6))\n",
    "\n",
    "\n",
    "random_input = torch.rand(2, 28, 28).to(device)\n",
    "print_model_metrics(model, random_input)"
   ]
  },
  {
   "cell_type": "code",
   "execution_count": 10,
   "id": "bbe00858-4f27-4ec6-aa55-276a7db47c2b",
   "metadata": {},
   "outputs": [
    {
     "name": "stdout",
     "output_type": "stream",
     "text": [
      "Sparsity in fc1.weight: 0.0%.\n",
      "Sparsity in fc2.weight: 0.0%.\n",
      "Sparsity in fc3.weight: 0.0%.\n",
      "Sparsity in fc4.weight: 0.0%.\n",
      "Global Sparsity (weight): 0.0%\n"
     ]
    }
   ],
   "source": [
    "def get_model_sparsity(model):\n",
    "    totalElements = 0\n",
    "    totalZeroElements = 0\n",
    "    for name, module in model.named_children():\n",
    "        numElementsInLayer = float(module.weight.nelement())\n",
    "        numZeroElementsInLayer = float(torch.sum(module.weight == 0))\n",
    "        layerWeightSparsity = 100.0 * (numZeroElementsInLayer/ numElementsInLayer)\n",
    "        print(f\"Sparsity in {name}.weight: {layerWeightSparsity}%.\")\n",
    "        \n",
    "        totalElements += numElementsInLayer\n",
    "        totalZeroElements += numZeroElementsInLayer\n",
    "    \n",
    "    if totalElements > 0 :\n",
    "        globalWeightSparsity = 100.0 * (totalZeroElements / totalElements)\n",
    "    else:\n",
    "        globalWeightSparsity = 0.0\n",
    "    return globalWeightSparsity\n",
    "    \n",
    "sparsity = get_model_sparsity(model)\n",
    "print(f\"Global Sparsity (weight): {sparsity}%\")"
   ]
  },
  {
   "cell_type": "code",
   "execution_count": 11,
   "id": "d1595573-4e9b-4958-b006-ef9a531e8525",
   "metadata": {},
   "outputs": [],
   "source": [
    "from sklearn.metrics import accuracy_score\n",
    "\n",
    "class meanClassificationAccuracyMetric:\n",
    "    \"\"\" Class to find the avg accuracy of softmax predictions to ground truth label \"\"\"    \n",
    "    def __init__(self):\n",
    "        self.batchAccuracies = []\n",
    "        self.meanClassificationAccuracy = 0.0\n",
    "\n",
    "    def update(self, y_preds: torch.Tensor, labels: torch.Tensor):\n",
    "        # predicted output class\n",
    "        modelPredictions = np.argmax(torch.softmax(y_preds, axis=1).numpy(), axis=1)\n",
    "        self.batchAccuracies.append(accuracy_score(labels.numpy(), modelPredictions))\n",
    "\n",
    "    def compute(self):\n",
    "        self.meanClassificationAccuracy = np.mean(self.batchAccuracies) * 100.0\n",
    "        return self.meanClassificationAccuracy"
   ]
  },
  {
   "cell_type": "code",
   "execution_count": 12,
   "id": "4d3cb366-c36c-44c6-953c-07614d438bbe",
   "metadata": {},
   "outputs": [],
   "source": [
    "def plotTrainingResults(df, model_name):\n",
    "    fig, ax1 = plt.subplots(figsize=(10,4))\n",
    "    ax1.set_ylabel('trainLoss', color='tab:red')\n",
    "    ax1.plot(df['epoch'].values, df['trainLoss'].values, color='tab:red')\n",
    "    ax1.tick_params(axis='y', labelcolor='tab:red')\n",
    "\n",
    "    ax2 = ax1.twinx()  \n",
    "    ax2.set_ylabel('validationLoss', color='tab:blue')\n",
    "    ax2.plot(df['epoch'].values, df['validationLoss'].values, color='tab:blue')\n",
    "    ax2.tick_params(axis='y', labelcolor='tab:blue')\n",
    "\n",
    "    plt.suptitle(f'{model_name} Training, Validation Curves')\n",
    "    plt.show()"
   ]
  },
  {
   "cell_type": "code",
   "execution_count": 13,
   "id": "a9eef2bd-1d09-47dd-89a1-e57d3acc432f",
   "metadata": {},
   "outputs": [],
   "source": [
    "def trainValidateModel(model, criterion, optimizer, dataloader_train, \n",
    "                       dataloader_valid, metricClass, metricName, device):\n",
    "    results = []    \n",
    "    min_val_loss = np.Inf\n",
    "    len_train_loader = len(dataloader_train)\n",
    "\n",
    "    # move model to target device\n",
    "    model.to(device)\n",
    "    \n",
    "    for epoch in range(N_EPOCHS):\n",
    "        print(f\"Starting {epoch + 1} epoch ...\")\n",
    "        \n",
    "        # Training\n",
    "        model.train()\n",
    "        train_loss = 0.0\n",
    "        for i, (inputs, labels) in tqdm(enumerate(dataloader_train), total=len_train_loader):\n",
    "            inputs = inputs.to(device)\n",
    "            labels = labels.to(device)  \n",
    "\n",
    "            # Forward pass\n",
    "            y_preds = model(inputs)\n",
    "            loss = criterion(y_preds, labels)\n",
    "            train_loss += loss.item()\n",
    "              \n",
    "            # Backward pass\n",
    "            loss.backward()\n",
    "            optimizer.step()\n",
    "            optimizer.zero_grad() \n",
    "            \n",
    "        # Validate\n",
    "        model.eval()\n",
    "        validation_loss = 0.0\n",
    "        metric_object = metricClass()\n",
    "\n",
    "        with torch.no_grad():\n",
    "            for inputs, labels in dataloader_valid:\n",
    "                inputs = inputs.to(device)\n",
    "                labels = labels.to(device)                \n",
    "                y_preds = model(inputs)\n",
    "            \n",
    "                # calculate loss\n",
    "                loss = criterion(y_preds, labels)\n",
    "                validation_loss += loss.item()\n",
    "\n",
    "                # update batch metric information            \n",
    "                metric_object.update(y_preds.cpu().detach(), labels.cpu().detach())\n",
    "\n",
    "        # compute per batch losses, metric value\n",
    "        train_loss = train_loss / len(dataloader_train)\n",
    "        validation_loss = validation_loss / len(dataloader_valid)\n",
    "        validationMetric = metric_object.compute()\n",
    "\n",
    "        print(f'Epoch: {epoch+1}, trainLoss:{train_loss:6.5f}, validationLoss:{validation_loss:6.5f}, {metricName}:{validationMetric: 4.2f}%')\n",
    "        \n",
    "        # store results\n",
    "        results.append({'epoch': epoch, 'trainLoss': train_loss, \n",
    "                        'validationLoss': validation_loss, f'{metricName}': validationMetric})\n",
    "        \n",
    "        # if validation loss has decreased, save model and reset variable\n",
    "        if validation_loss <= min_val_loss:\n",
    "            min_val_loss = validation_loss\n",
    "            torch.save(model.state_dict(), \"MLP.pt\")\n",
    "\n",
    "    # plot results\n",
    "    results = pd.DataFrame(results)\n",
    "    plotTrainingResults(results, \"MLP\")\n",
    "    return results"
   ]
  },
  {
   "cell_type": "code",
   "execution_count": 14,
   "id": "6abc9578-2ba7-441f-8f0f-7240860b6eac",
   "metadata": {},
   "outputs": [
    {
     "name": "stdout",
     "output_type": "stream",
     "text": [
      "Starting 1 epoch ...\n"
     ]
    },
    {
     "name": "stderr",
     "output_type": "stream",
     "text": [
      "100%|██████████████████████████████████████| 3000/3000 [00:09<00:00, 328.93it/s]\n"
     ]
    },
    {
     "name": "stdout",
     "output_type": "stream",
     "text": [
      "Epoch: 1, trainLoss:0.52761, validationLoss:0.40350, accuracy: 84.99%\n",
      "Starting 2 epoch ...\n"
     ]
    },
    {
     "name": "stderr",
     "output_type": "stream",
     "text": [
      "100%|██████████████████████████████████████| 3000/3000 [00:09<00:00, 316.59it/s]\n"
     ]
    },
    {
     "name": "stdout",
     "output_type": "stream",
     "text": [
      "Epoch: 2, trainLoss:0.39565, validationLoss:0.41106, accuracy: 85.39%\n",
      "Starting 3 epoch ...\n"
     ]
    },
    {
     "name": "stderr",
     "output_type": "stream",
     "text": [
      "100%|██████████████████████████████████████| 3000/3000 [00:09<00:00, 318.50it/s]\n"
     ]
    },
    {
     "name": "stdout",
     "output_type": "stream",
     "text": [
      "Epoch: 3, trainLoss:0.35807, validationLoss:0.36412, accuracy: 86.64%\n",
      "Starting 4 epoch ...\n"
     ]
    },
    {
     "name": "stderr",
     "output_type": "stream",
     "text": [
      "100%|██████████████████████████████████████| 3000/3000 [00:09<00:00, 323.94it/s]\n"
     ]
    },
    {
     "name": "stdout",
     "output_type": "stream",
     "text": [
      "Epoch: 4, trainLoss:0.33388, validationLoss:0.36813, accuracy: 86.49%\n",
      "Starting 5 epoch ...\n"
     ]
    },
    {
     "name": "stderr",
     "output_type": "stream",
     "text": [
      "100%|██████████████████████████████████████| 3000/3000 [00:09<00:00, 322.11it/s]\n"
     ]
    },
    {
     "name": "stdout",
     "output_type": "stream",
     "text": [
      "Epoch: 5, trainLoss:0.31402, validationLoss:0.34265, accuracy: 87.63%\n",
      "Starting 6 epoch ...\n"
     ]
    },
    {
     "name": "stderr",
     "output_type": "stream",
     "text": [
      "100%|██████████████████████████████████████| 3000/3000 [00:09<00:00, 316.57it/s]\n"
     ]
    },
    {
     "name": "stdout",
     "output_type": "stream",
     "text": [
      "Epoch: 6, trainLoss:0.29907, validationLoss:0.34772, accuracy: 87.08%\n",
      "Starting 7 epoch ...\n"
     ]
    },
    {
     "name": "stderr",
     "output_type": "stream",
     "text": [
      "100%|██████████████████████████████████████| 3000/3000 [00:09<00:00, 315.82it/s]\n"
     ]
    },
    {
     "name": "stdout",
     "output_type": "stream",
     "text": [
      "Epoch: 7, trainLoss:0.28590, validationLoss:0.36180, accuracy: 87.59%\n",
      "Starting 8 epoch ...\n"
     ]
    },
    {
     "name": "stderr",
     "output_type": "stream",
     "text": [
      "100%|██████████████████████████████████████| 3000/3000 [00:09<00:00, 311.73it/s]\n"
     ]
    },
    {
     "name": "stdout",
     "output_type": "stream",
     "text": [
      "Epoch: 8, trainLoss:0.27291, validationLoss:0.33725, accuracy: 88.38%\n",
      "Starting 9 epoch ...\n"
     ]
    },
    {
     "name": "stderr",
     "output_type": "stream",
     "text": [
      "100%|██████████████████████████████████████| 3000/3000 [00:09<00:00, 311.53it/s]\n"
     ]
    },
    {
     "name": "stdout",
     "output_type": "stream",
     "text": [
      "Epoch: 9, trainLoss:0.26697, validationLoss:0.34114, accuracy: 87.97%\n",
      "Starting 10 epoch ...\n"
     ]
    },
    {
     "name": "stderr",
     "output_type": "stream",
     "text": [
      "100%|██████████████████████████████████████| 3000/3000 [00:09<00:00, 316.11it/s]\n"
     ]
    },
    {
     "name": "stdout",
     "output_type": "stream",
     "text": [
      "Epoch: 10, trainLoss:0.25720, validationLoss:0.34710, accuracy: 88.10%\n",
      "Starting 11 epoch ...\n"
     ]
    },
    {
     "name": "stderr",
     "output_type": "stream",
     "text": [
      "100%|██████████████████████████████████████| 3000/3000 [00:09<00:00, 321.23it/s]\n"
     ]
    },
    {
     "name": "stdout",
     "output_type": "stream",
     "text": [
      "Epoch: 11, trainLoss:0.24816, validationLoss:0.34003, accuracy: 87.76%\n",
      "Starting 12 epoch ...\n"
     ]
    },
    {
     "name": "stderr",
     "output_type": "stream",
     "text": [
      "100%|██████████████████████████████████████| 3000/3000 [00:09<00:00, 321.95it/s]\n"
     ]
    },
    {
     "name": "stdout",
     "output_type": "stream",
     "text": [
      "Epoch: 12, trainLoss:0.24071, validationLoss:0.34249, accuracy: 88.56%\n",
      "Starting 13 epoch ...\n"
     ]
    },
    {
     "name": "stderr",
     "output_type": "stream",
     "text": [
      "100%|██████████████████████████████████████| 3000/3000 [00:09<00:00, 323.37it/s]\n"
     ]
    },
    {
     "name": "stdout",
     "output_type": "stream",
     "text": [
      "Epoch: 13, trainLoss:0.23422, validationLoss:0.34248, accuracy: 88.29%\n",
      "Starting 14 epoch ...\n"
     ]
    },
    {
     "name": "stderr",
     "output_type": "stream",
     "text": [
      "100%|██████████████████████████████████████| 3000/3000 [00:09<00:00, 319.54it/s]\n"
     ]
    },
    {
     "name": "stdout",
     "output_type": "stream",
     "text": [
      "Epoch: 14, trainLoss:0.22550, validationLoss:0.34141, accuracy: 88.66%\n",
      "Starting 15 epoch ...\n"
     ]
    },
    {
     "name": "stderr",
     "output_type": "stream",
     "text": [
      "100%|██████████████████████████████████████| 3000/3000 [00:09<00:00, 317.76it/s]\n"
     ]
    },
    {
     "name": "stdout",
     "output_type": "stream",
     "text": [
      "Epoch: 15, trainLoss:0.22355, validationLoss:0.36478, accuracy: 87.77%\n",
      "Starting 16 epoch ...\n"
     ]
    },
    {
     "name": "stderr",
     "output_type": "stream",
     "text": [
      "100%|██████████████████████████████████████| 3000/3000 [00:09<00:00, 319.89it/s]\n"
     ]
    },
    {
     "name": "stdout",
     "output_type": "stream",
     "text": [
      "Epoch: 16, trainLoss:0.21352, validationLoss:0.35319, accuracy: 88.45%\n",
      "Starting 17 epoch ...\n"
     ]
    },
    {
     "name": "stderr",
     "output_type": "stream",
     "text": [
      "100%|██████████████████████████████████████| 3000/3000 [00:09<00:00, 312.74it/s]\n"
     ]
    },
    {
     "name": "stdout",
     "output_type": "stream",
     "text": [
      "Epoch: 17, trainLoss:0.20720, validationLoss:0.35283, accuracy: 88.76%\n",
      "Starting 18 epoch ...\n"
     ]
    },
    {
     "name": "stderr",
     "output_type": "stream",
     "text": [
      "100%|██████████████████████████████████████| 3000/3000 [00:09<00:00, 319.19it/s]\n"
     ]
    },
    {
     "name": "stdout",
     "output_type": "stream",
     "text": [
      "Epoch: 18, trainLoss:0.20530, validationLoss:0.34962, accuracy: 88.82%\n",
      "Starting 19 epoch ...\n"
     ]
    },
    {
     "name": "stderr",
     "output_type": "stream",
     "text": [
      "100%|██████████████████████████████████████| 3000/3000 [00:09<00:00, 319.08it/s]\n"
     ]
    },
    {
     "name": "stdout",
     "output_type": "stream",
     "text": [
      "Epoch: 19, trainLoss:0.20254, validationLoss:0.34979, accuracy: 88.85%\n",
      "Starting 20 epoch ...\n"
     ]
    },
    {
     "name": "stderr",
     "output_type": "stream",
     "text": [
      "100%|██████████████████████████████████████| 3000/3000 [00:09<00:00, 317.25it/s]\n"
     ]
    },
    {
     "name": "stdout",
     "output_type": "stream",
     "text": [
      "Epoch: 20, trainLoss:0.19341, validationLoss:0.38246, accuracy: 88.00%\n",
      "Starting 21 epoch ...\n"
     ]
    },
    {
     "name": "stderr",
     "output_type": "stream",
     "text": [
      "100%|██████████████████████████████████████| 3000/3000 [00:09<00:00, 318.97it/s]\n"
     ]
    },
    {
     "name": "stdout",
     "output_type": "stream",
     "text": [
      "Epoch: 21, trainLoss:0.18995, validationLoss:0.37490, accuracy: 88.85%\n",
      "Starting 22 epoch ...\n"
     ]
    },
    {
     "name": "stderr",
     "output_type": "stream",
     "text": [
      "100%|██████████████████████████████████████| 3000/3000 [00:09<00:00, 318.71it/s]\n"
     ]
    },
    {
     "name": "stdout",
     "output_type": "stream",
     "text": [
      "Epoch: 22, trainLoss:0.18480, validationLoss:0.37978, accuracy: 88.53%\n",
      "Starting 23 epoch ...\n"
     ]
    },
    {
     "name": "stderr",
     "output_type": "stream",
     "text": [
      "100%|██████████████████████████████████████| 3000/3000 [00:09<00:00, 323.51it/s]\n"
     ]
    },
    {
     "name": "stdout",
     "output_type": "stream",
     "text": [
      "Epoch: 23, trainLoss:0.18152, validationLoss:0.36849, accuracy: 88.57%\n",
      "Starting 24 epoch ...\n"
     ]
    },
    {
     "name": "stderr",
     "output_type": "stream",
     "text": [
      "100%|██████████████████████████████████████| 3000/3000 [00:09<00:00, 325.17it/s]\n"
     ]
    },
    {
     "name": "stdout",
     "output_type": "stream",
     "text": [
      "Epoch: 24, trainLoss:0.17581, validationLoss:0.38552, accuracy: 88.78%\n",
      "Starting 25 epoch ...\n"
     ]
    },
    {
     "name": "stderr",
     "output_type": "stream",
     "text": [
      "100%|██████████████████████████████████████| 3000/3000 [00:09<00:00, 318.28it/s]\n"
     ]
    },
    {
     "name": "stdout",
     "output_type": "stream",
     "text": [
      "Epoch: 25, trainLoss:0.17554, validationLoss:0.42575, accuracy: 88.16%\n",
      "Starting 26 epoch ...\n"
     ]
    },
    {
     "name": "stderr",
     "output_type": "stream",
     "text": [
      "100%|██████████████████████████████████████| 3000/3000 [00:09<00:00, 325.74it/s]\n"
     ]
    },
    {
     "name": "stdout",
     "output_type": "stream",
     "text": [
      "Epoch: 26, trainLoss:0.16614, validationLoss:0.39323, accuracy: 88.90%\n",
      "Starting 27 epoch ...\n"
     ]
    },
    {
     "name": "stderr",
     "output_type": "stream",
     "text": [
      "100%|██████████████████████████████████████| 3000/3000 [00:09<00:00, 325.08it/s]\n"
     ]
    },
    {
     "name": "stdout",
     "output_type": "stream",
     "text": [
      "Epoch: 27, trainLoss:0.16651, validationLoss:0.42023, accuracy: 88.45%\n",
      "Starting 28 epoch ...\n"
     ]
    },
    {
     "name": "stderr",
     "output_type": "stream",
     "text": [
      "100%|██████████████████████████████████████| 3000/3000 [00:09<00:00, 320.86it/s]\n"
     ]
    },
    {
     "name": "stdout",
     "output_type": "stream",
     "text": [
      "Epoch: 28, trainLoss:0.16407, validationLoss:0.41676, accuracy: 88.30%\n",
      "Starting 29 epoch ...\n"
     ]
    },
    {
     "name": "stderr",
     "output_type": "stream",
     "text": [
      "100%|██████████████████████████████████████| 3000/3000 [00:09<00:00, 321.34it/s]\n"
     ]
    },
    {
     "name": "stdout",
     "output_type": "stream",
     "text": [
      "Epoch: 29, trainLoss:0.15711, validationLoss:0.40773, accuracy: 88.71%\n",
      "Starting 30 epoch ...\n"
     ]
    },
    {
     "name": "stderr",
     "output_type": "stream",
     "text": [
      "100%|██████████████████████████████████████| 3000/3000 [00:09<00:00, 322.86it/s]\n"
     ]
    },
    {
     "name": "stdout",
     "output_type": "stream",
     "text": [
      "Epoch: 30, trainLoss:0.15888, validationLoss:0.41272, accuracy: 89.03%\n"
     ]
    },
    {
     "data": {
      "image/png": "[encoded data removed]",
      "text/plain": [
       "<Figure size 720x288 with 2 Axes>"
      ]
     },
     "metadata": {
      "needs_background": "light"
     },
     "output_type": "display_data"
    }
   ],
   "source": [
    "# Hyper parameters for training model\n",
    "N_EPOCHS = 30\n",
    "LR = 0.001\n",
    "\n",
    "# Define the Loss\n",
    "criterion = nn.CrossEntropyLoss()\n",
    "\n",
    "# Define the Optimizer\n",
    "optimizer = optim.Adam(model.parameters(), lr=LR)\n",
    "\n",
    "# train, validate standard model\n",
    "modelResults = trainValidateModel(model, criterion, optimizer, train_loader, valid_loader, meanClassificationAccuracyMetric, 'accuracy', device)"
   ]
  },
  {
   "cell_type": "code",
   "execution_count": 15,
   "id": "be86b79c-a661-4b5b-abaa-8b7cd4370741",
   "metadata": {},
   "outputs": [],
   "source": [
    "def evaluteOnTestData(model, pretrainedModelPath, device, \n",
    "                     dataloader_test, metricClass, metricName, modelName):\n",
    "    testSetMetric = 0.0\n",
    "    if pretrainedModelPath is not None:\n",
    "        if os.path.isfile(pretrainedModelPath) == True:\n",
    "            model.load_state_dict(torch.load(pretrainedModelPath, map_location=device))\n",
    "\n",
    "    model.to(device)\n",
    "    model.eval()\n",
    "    metricObject = metricClass()\n",
    "\n",
    "    with torch.no_grad():\n",
    "        for inputs, labels in tqdm(dataloader_test, total=len(dataloader_test)):\n",
    "            inputs = inputs.to(device)\n",
    "            labels = labels.to(device)\n",
    "            y_preds = model(inputs)\n",
    "            \n",
    "        # update batch metric information            \n",
    "        metricObject.update(y_preds.cpu().detach(), labels.cpu().detach())\n",
    "\n",
    "    testSetMetric = metricObject.compute()    \n",
    "    print(f'\\n{modelName} has {testSetMetric} {metricName} on testData')\n",
    "    return testSetMetric"
   ]
  },
  {
   "cell_type": "code",
   "execution_count": 16,
   "id": "999d220c-d5ae-48a6-be4e-cb0aa2c13e18",
   "metadata": {},
   "outputs": [
    {
     "name": "stderr",
     "output_type": "stream",
     "text": [
      "100%|████████████████████████████████████████| 157/157 [00:01<00:00, 101.24it/s]"
     ]
    },
    {
     "name": "stdout",
     "output_type": "stream",
     "text": [
      "\n",
      "Custom_MLP has 81.25 Test_Accuracy on testData\n"
     ]
    },
    {
     "name": "stderr",
     "output_type": "stream",
     "text": [
      "\n"
     ]
    }
   ],
   "source": [
    "testSetMetric = evaluteOnTestData(model, \"./MLP.pt\", device, test_loader, \n",
    "                    meanClassificationAccuracyMetric, \"Test_Accuracy\", \"Custom_MLP\")"
   ]
  },
  {
   "cell_type": "code",
   "execution_count": 55,
   "id": "7bd1d52b-5afe-42b7-9816-1e99e1171876",
   "metadata": {},
   "outputs": [],
   "source": [
    "def get_zip_size(model):\n",
    "    import gzip\n",
    "    import shutil\n",
    "    import os\n",
    "    model_name = 'tmp.h5'\n",
    "    zipped_model_name = 'tmp.h5.gz'\n",
    "    torch.save(model.state_dict(), model_name)\n",
    "    with open(model_name, 'rb') as f_in:\n",
    "        with gzip.open(zipped_model_name, 'wb') as f_out:\n",
    "            shutil.copyfileobj(f_in, f_out)\n",
    "            \n",
    "    unzip_size = os.path.getsize(model_name) * 1e-3\n",
    "    zip_size = os.path.getsize(zipped_model_name) * 1e-3\n",
    "    print(f\"Model Size = {unzip_size:.3f}KB\")\n",
    "    print(f\"Zipped Model Size = {zip_size:.3f}KB\")\n",
    "    os.remove(model_name)\n",
    "    os.remove(zipped_model_name)\n",
    "        \n",
    "    return unzip_size, zip_size"
   ]
  },
  {
   "cell_type": "code",
   "execution_count": 80,
   "id": "d60add37-2ac5-4dec-b768-90a2f749e723",
   "metadata": {},
   "outputs": [],
   "source": [
    "import torch.nn.utils.prune as prune\n",
    "from copy import deepcopy"
   ]
  },
  {
   "cell_type": "code",
   "execution_count": 18,
   "id": "292a741b-a10c-4ed5-825f-500af1086b82",
   "metadata": {},
   "outputs": [
    {
     "name": "stdout",
     "output_type": "stream",
     "text": [
      "[0.1, 0.15, 0.2, 0.25, 0.3, 0.35, 0.4, 0.45, 0.5, 0.55, 0.6, 0.65, 0.7, 0.75, 0.8]\n"
     ]
    }
   ],
   "source": [
    "# Let's use different pruning percentages for each technique\n",
    "prunePercentages = np.linspace(0.10, 0.80, 15).tolist()\n",
    "print([round(x,3) for x in prunePercentages])"
   ]
  },
  {
   "cell_type": "code",
   "execution_count": 66,
   "id": "2e122526-3bf9-4ac3-98f4-7bc7ded5f1af",
   "metadata": {},
   "outputs": [],
   "source": [
    "def prune_model_global_unstructured(model, layer_type, proportion):\n",
    "    from copy import deepcopy\n",
    "    ori_model = deepcopy(model)\n",
    "    \n",
    "    module_tups = []\n",
    "    ori_module_tups = []\n",
    "    for module, ori_module in zip(model.modules(), ori_model.modules()):\n",
    "        if isinstance(module, layer_type) and isinstance(ori_module, layer_type):\n",
    "            module_tups.append((module, 'weight'))\n",
    "            ori_module_tups.append((ori_module, 'weight'))\n",
    "            \n",
    "    prune.global_unstructured(\n",
    "        parameters=module_tups, pruning_method=prune.L1Unstructured,\n",
    "        amount=proportion\n",
    "    )\n",
    "    \n",
    "    prune.global_unstructured(\n",
    "        parameters=ori_module_tups, pruning_method=prune.L1Unstructured,\n",
    "        amount=proportion\n",
    "    )\n",
    "    \n",
    "    for module, _ in module_tups:\n",
    "        prune.remove(module, 'weight')\n",
    "    \n",
    "    return model, ori_model"
   ]
  },
  {
   "cell_type": "code",
   "execution_count": 84,
   "id": "5110b7f7-c8af-4be4-8d85-61f80d4fa96d",
   "metadata": {},
   "outputs": [],
   "source": [
    "def layer_unstructured_prune(model:nn.Module, prunePercentage:float):\n",
    "    ori_model = deepcopy(model)\n",
    "    \n",
    "    modules = []\n",
    "    \n",
    "    for name, module in model.named_modules():\n",
    "        if isinstance(module, torch.nn.Linear):\n",
    "            prune.l1_unstructured(module, name='weight', amount=prunePercentage)\n",
    "            modules.append((module, 'weight'))\n",
    "            \n",
    "    for name, module in ori_model.named_modules():\n",
    "        if isinstance(module, torch.nn.Linear):\n",
    "            prune.l1_unstructured(module, name='weight', amount=prunePercentage)\n",
    "    \n",
    "    for module, _ in modules:\n",
    "        prune.remove(module, 'weight')\n",
    "\n",
    "    return model, ori_model"
   ]
  },
  {
   "cell_type": "code",
   "execution_count": 85,
   "id": "522066a7-11cf-4716-acf9-82bbde2ecde8",
   "metadata": {},
   "outputs": [
    {
     "name": "stdout",
     "output_type": "stream",
     "text": [
      "Model Size = 446.927KB\n",
      "Zipped Model Size = 388.919KB\n"
     ]
    },
    {
     "name": "stderr",
     "output_type": "stream",
     "text": [
      "100%|████████████████████████████████████████| 157/157 [00:01<00:00, 110.04it/s]\n"
     ]
    },
    {
     "name": "stdout",
     "output_type": "stream",
     "text": [
      "\n",
      "Unstructured Prune has 93.75 Test accuracy on testData\n",
      "Model Size = 446.927KB\n",
      "Zipped Model Size = 372.974KB\n"
     ]
    },
    {
     "name": "stderr",
     "output_type": "stream",
     "text": [
      "100%|████████████████████████████████████████| 157/157 [00:01<00:00, 106.87it/s]\n"
     ]
    },
    {
     "name": "stdout",
     "output_type": "stream",
     "text": [
      "\n",
      "Unstructured Prune has 75.0 Test accuracy on testData\n",
      "Model Size = 446.927KB\n",
      "Zipped Model Size = 355.761KB\n"
     ]
    },
    {
     "name": "stderr",
     "output_type": "stream",
     "text": [
      "100%|████████████████████████████████████████| 157/157 [00:01<00:00, 111.11it/s]\n"
     ]
    },
    {
     "name": "stdout",
     "output_type": "stream",
     "text": [
      "\n",
      "Unstructured Prune has 81.25 Test accuracy on testData\n",
      "Model Size = 446.927KB\n",
      "Zipped Model Size = 336.806KB\n"
     ]
    },
    {
     "name": "stderr",
     "output_type": "stream",
     "text": [
      "100%|████████████████████████████████████████| 157/157 [00:01<00:00, 104.19it/s]\n"
     ]
    },
    {
     "name": "stdout",
     "output_type": "stream",
     "text": [
      "\n",
      "Unstructured Prune has 93.75 Test accuracy on testData\n",
      "Model Size = 446.927KB\n",
      "Zipped Model Size = 318.769KB\n"
     ]
    },
    {
     "name": "stderr",
     "output_type": "stream",
     "text": [
      "100%|████████████████████████████████████████| 157/157 [00:01<00:00, 103.10it/s]\n"
     ]
    },
    {
     "name": "stdout",
     "output_type": "stream",
     "text": [
      "\n",
      "Unstructured Prune has 81.25 Test accuracy on testData\n",
      "Model Size = 446.927KB\n",
      "Zipped Model Size = 300.788KB\n"
     ]
    },
    {
     "name": "stderr",
     "output_type": "stream",
     "text": [
      "100%|████████████████████████████████████████| 157/157 [00:01<00:00, 102.85it/s]\n"
     ]
    },
    {
     "name": "stdout",
     "output_type": "stream",
     "text": [
      "\n",
      "Unstructured Prune has 93.75 Test accuracy on testData\n",
      "Model Size = 446.927KB\n",
      "Zipped Model Size = 282.314KB\n"
     ]
    },
    {
     "name": "stderr",
     "output_type": "stream",
     "text": [
      "100%|████████████████████████████████████████| 157/157 [00:01<00:00, 100.76it/s]\n"
     ]
    },
    {
     "name": "stdout",
     "output_type": "stream",
     "text": [
      "\n",
      "Unstructured Prune has 81.25 Test accuracy on testData\n",
      "Model Size = 446.927KB\n",
      "Zipped Model Size = 263.227KB\n"
     ]
    },
    {
     "name": "stderr",
     "output_type": "stream",
     "text": [
      "100%|████████████████████████████████████████| 157/157 [00:01<00:00, 104.07it/s]\n"
     ]
    },
    {
     "name": "stdout",
     "output_type": "stream",
     "text": [
      "\n",
      "Unstructured Prune has 81.25 Test accuracy on testData\n",
      "Model Size = 446.927KB\n",
      "Zipped Model Size = 243.958KB\n"
     ]
    },
    {
     "name": "stderr",
     "output_type": "stream",
     "text": [
      "100%|████████████████████████████████████████| 157/157 [00:01<00:00, 101.79it/s]\n"
     ]
    },
    {
     "name": "stdout",
     "output_type": "stream",
     "text": [
      "\n",
      "Unstructured Prune has 87.5 Test accuracy on testData\n",
      "Model Size = 446.927KB\n",
      "Zipped Model Size = 224.177KB\n"
     ]
    },
    {
     "name": "stderr",
     "output_type": "stream",
     "text": [
      "100%|████████████████████████████████████████| 157/157 [00:01<00:00, 101.15it/s]\n"
     ]
    },
    {
     "name": "stdout",
     "output_type": "stream",
     "text": [
      "\n",
      "Unstructured Prune has 87.5 Test accuracy on testData\n",
      "Model Size = 446.927KB\n",
      "Zipped Model Size = 204.040KB\n"
     ]
    },
    {
     "name": "stderr",
     "output_type": "stream",
     "text": [
      "100%|████████████████████████████████████████| 157/157 [00:01<00:00, 104.13it/s]\n"
     ]
    },
    {
     "name": "stdout",
     "output_type": "stream",
     "text": [
      "\n",
      "Unstructured Prune has 75.0 Test accuracy on testData\n",
      "Model Size = 446.927KB\n",
      "Zipped Model Size = 183.123KB\n"
     ]
    },
    {
     "name": "stderr",
     "output_type": "stream",
     "text": [
      "100%|████████████████████████████████████████| 157/157 [00:01<00:00, 104.85it/s]\n"
     ]
    },
    {
     "name": "stdout",
     "output_type": "stream",
     "text": [
      "\n",
      "Unstructured Prune has 68.75 Test accuracy on testData\n",
      "Model Size = 446.927KB\n",
      "Zipped Model Size = 161.141KB\n"
     ]
    },
    {
     "name": "stderr",
     "output_type": "stream",
     "text": [
      "100%|████████████████████████████████████████| 157/157 [00:01<00:00, 104.38it/s]\n"
     ]
    },
    {
     "name": "stdout",
     "output_type": "stream",
     "text": [
      "\n",
      "Unstructured Prune has 37.5 Test accuracy on testData\n",
      "Model Size = 446.927KB\n",
      "Zipped Model Size = 140.106KB\n"
     ]
    },
    {
     "name": "stderr",
     "output_type": "stream",
     "text": [
      "100%|████████████████████████████████████████| 157/157 [00:01<00:00, 105.43it/s]\n"
     ]
    },
    {
     "name": "stdout",
     "output_type": "stream",
     "text": [
      "\n",
      "Unstructured Prune has 50.0 Test accuracy on testData\n",
      "Model Size = 446.927KB\n",
      "Zipped Model Size = 119.006KB\n"
     ]
    },
    {
     "name": "stderr",
     "output_type": "stream",
     "text": [
      "100%|████████████████████████████████████████| 157/157 [00:01<00:00, 107.78it/s]"
     ]
    },
    {
     "name": "stdout",
     "output_type": "stream",
     "text": [
      "\n",
      "Unstructured Prune has 43.75 Test accuracy on testData\n"
     ]
    },
    {
     "name": "stderr",
     "output_type": "stream",
     "text": [
      "\n"
     ]
    }
   ],
   "source": [
    "# placeholder to store results\n",
    "l1_unstructured_accuracies = []\n",
    "l1_unstructured_size = []\n",
    "# iterate through each prune percentage\n",
    "for perc in prunePercentages:\n",
    "    # load the pretrained model\n",
    "    model = MLPClassifier().to(device)\n",
    "    model.load_state_dict(torch.load(\"./MLP.pt\"))\n",
    "\n",
    "    # prune the model\n",
    "    # unStructuredPruneModel = layer_unstructured_prune(model, perc, nn.Linear)\n",
    "    removed_model, unStructuredPruneModel = layer_unstructured_prune(model, perc)\n",
    "    unzipped, zipped = get_zip_size(removed_model)\n",
    "    # evaluate the pruned model on test data\n",
    "    l1_unstructured_accuracies.append(evaluteOnTestData(unStructuredPruneModel, None, \\\n",
    "          device, test_loader, meanClassificationAccuracyMetric, \"Test accuracy\", \"Unstructured Prune\"))\n",
    "    l1_unstructured_size.append((unzipped, zipped))"
   ]
  },
  {
   "cell_type": "code",
   "execution_count": 86,
   "id": "c46ff29b-f027-4bb2-9bf6-1fb6f0a87af0",
   "metadata": {},
   "outputs": [
    {
     "name": "stdout",
     "output_type": "stream",
     "text": [
      "Model Size:  0.847 Mb\n",
      "File Size:  0.892 Mb\n",
      "Inference Time:  0.00017 s\n",
      "Mega FLOPS:  0.443648\n",
      "Mega MACs:  0.221824\n",
      "Mega Params:  0.111146\n"
     ]
    }
   ],
   "source": [
    "print_model_metrics(unStructuredPruneModel, random_input)"
   ]
  },
  {
   "cell_type": "code",
   "execution_count": 74,
   "id": "afa4ab49-21b9-495c-bcd6-37b0cfb8e776",
   "metadata": {},
   "outputs": [],
   "source": [
    "def layer_structured_prune(model:nn.Module, prunePercentage:float):\n",
    "    from copy import deepcopy\n",
    "    ori_model = deepcopy(model)\n",
    "\n",
    "    module_tups = []\n",
    "    for module in model.modules():\n",
    "        if isinstance(module, nn.Linear):\n",
    "            module_tups.append((module, 'weight'))\n",
    "    \n",
    "    for name, module in model.named_modules():\n",
    "        if isinstance(module, torch.nn.Linear):\n",
    "            prune.ln_structured(module, name='weight', amount=prunePercentage, n=1, dim=0)\n",
    "\n",
    "    for name, ori_module in ori_model.named_modules():\n",
    "        if isinstance(ori_module, torch.nn.Linear):\n",
    "            prune.ln_structured(ori_module, name='weight', amount=prunePercentage, n=1, dim=0)\n",
    "\n",
    "    for module, _ in module_tups:\n",
    "        prune.remove(module, 'weight')\n",
    "    \n",
    "    return model, ori_model"
   ]
  },
  {
   "cell_type": "code",
   "execution_count": 75,
   "id": "aa657a41-7eef-4a6a-a002-71b9647c54ab",
   "metadata": {},
   "outputs": [
    {
     "name": "stdout",
     "output_type": "stream",
     "text": [
      "Model Size = 446.927KB\n",
      "Zipped Model Size = 377.087KB\n"
     ]
    },
    {
     "name": "stderr",
     "output_type": "stream",
     "text": [
      "100%|████████████████████████████████████████| 157/157 [00:01<00:00, 109.82it/s]\n"
     ]
    },
    {
     "name": "stdout",
     "output_type": "stream",
     "text": [
      "\n",
      "structured Prune has 81.25 Test accuracy on testData\n",
      "Model Size = 446.927KB\n",
      "Zipped Model Size = 358.593KB\n"
     ]
    },
    {
     "name": "stderr",
     "output_type": "stream",
     "text": [
      "100%|████████████████████████████████████████| 157/157 [00:01<00:00, 111.21it/s]\n"
     ]
    },
    {
     "name": "stdout",
     "output_type": "stream",
     "text": [
      "\n",
      "structured Prune has 100.0 Test accuracy on testData\n",
      "Model Size = 446.927KB\n",
      "Zipped Model Size = 337.900KB\n"
     ]
    },
    {
     "name": "stderr",
     "output_type": "stream",
     "text": [
      "100%|████████████████████████████████████████| 157/157 [00:01<00:00, 106.94it/s]\n"
     ]
    },
    {
     "name": "stdout",
     "output_type": "stream",
     "text": [
      "\n",
      "structured Prune has 87.5 Test accuracy on testData\n",
      "Model Size = 446.927KB\n",
      "Zipped Model Size = 319.785KB\n"
     ]
    },
    {
     "name": "stderr",
     "output_type": "stream",
     "text": [
      "100%|████████████████████████████████████████| 157/157 [00:01<00:00, 105.01it/s]\n"
     ]
    },
    {
     "name": "stdout",
     "output_type": "stream",
     "text": [
      "\n",
      "structured Prune has 62.5 Test accuracy on testData\n",
      "Model Size = 446.927KB\n",
      "Zipped Model Size = 301.721KB\n"
     ]
    },
    {
     "name": "stderr",
     "output_type": "stream",
     "text": [
      "100%|████████████████████████████████████████| 157/157 [00:01<00:00, 105.98it/s]\n"
     ]
    },
    {
     "name": "stdout",
     "output_type": "stream",
     "text": [
      "\n",
      "structured Prune has 75.0 Test accuracy on testData\n",
      "Model Size = 446.927KB\n",
      "Zipped Model Size = 280.863KB\n"
     ]
    },
    {
     "name": "stderr",
     "output_type": "stream",
     "text": [
      "100%|████████████████████████████████████████| 157/157 [00:01<00:00, 101.62it/s]\n"
     ]
    },
    {
     "name": "stdout",
     "output_type": "stream",
     "text": [
      "\n",
      "structured Prune has 68.75 Test accuracy on testData\n",
      "Model Size = 446.927KB\n",
      "Zipped Model Size = 262.422KB\n"
     ]
    },
    {
     "name": "stderr",
     "output_type": "stream",
     "text": [
      "100%|████████████████████████████████████████| 157/157 [00:01<00:00, 102.26it/s]\n"
     ]
    },
    {
     "name": "stdout",
     "output_type": "stream",
     "text": [
      "\n",
      "structured Prune has 68.75 Test accuracy on testData\n",
      "Model Size = 446.927KB\n",
      "Zipped Model Size = 241.609KB\n"
     ]
    },
    {
     "name": "stderr",
     "output_type": "stream",
     "text": [
      "100%|████████████████████████████████████████| 157/157 [00:01<00:00, 102.46it/s]\n"
     ]
    },
    {
     "name": "stdout",
     "output_type": "stream",
     "text": [
      "\n",
      "structured Prune has 56.25 Test accuracy on testData\n",
      "Model Size = 446.927KB\n",
      "Zipped Model Size = 223.487KB\n"
     ]
    },
    {
     "name": "stderr",
     "output_type": "stream",
     "text": [
      "100%|████████████████████████████████████████| 157/157 [00:01<00:00, 100.85it/s]\n"
     ]
    },
    {
     "name": "stdout",
     "output_type": "stream",
     "text": [
      "\n",
      "structured Prune has 56.25 Test accuracy on testData\n",
      "Model Size = 446.927KB\n",
      "Zipped Model Size = 205.172KB\n"
     ]
    },
    {
     "name": "stderr",
     "output_type": "stream",
     "text": [
      "100%|████████████████████████████████████████| 157/157 [00:01<00:00, 101.61it/s]\n"
     ]
    },
    {
     "name": "stdout",
     "output_type": "stream",
     "text": [
      "\n",
      "structured Prune has 31.25 Test accuracy on testData\n",
      "Model Size = 446.927KB\n",
      "Zipped Model Size = 184.313KB\n"
     ]
    },
    {
     "name": "stderr",
     "output_type": "stream",
     "text": [
      "100%|████████████████████████████████████████| 157/157 [00:01<00:00, 107.94it/s]\n"
     ]
    },
    {
     "name": "stdout",
     "output_type": "stream",
     "text": [
      "\n",
      "structured Prune has 50.0 Test accuracy on testData\n",
      "Model Size = 446.927KB\n",
      "Zipped Model Size = 165.452KB\n"
     ]
    },
    {
     "name": "stderr",
     "output_type": "stream",
     "text": [
      "100%|████████████████████████████████████████| 157/157 [00:01<00:00, 107.91it/s]\n"
     ]
    },
    {
     "name": "stdout",
     "output_type": "stream",
     "text": [
      "\n",
      "structured Prune has 31.25 Test accuracy on testData\n",
      "Model Size = 446.927KB\n",
      "Zipped Model Size = 144.358KB\n"
     ]
    },
    {
     "name": "stderr",
     "output_type": "stream",
     "text": [
      "100%|████████████████████████████████████████| 157/157 [00:01<00:00, 100.16it/s]\n"
     ]
    },
    {
     "name": "stdout",
     "output_type": "stream",
     "text": [
      "\n",
      "structured Prune has 12.5 Test accuracy on testData\n",
      "Model Size = 446.927KB\n",
      "Zipped Model Size = 125.854KB\n"
     ]
    },
    {
     "name": "stderr",
     "output_type": "stream",
     "text": [
      "100%|████████████████████████████████████████| 157/157 [00:01<00:00, 104.73it/s]\n"
     ]
    },
    {
     "name": "stdout",
     "output_type": "stream",
     "text": [
      "\n",
      "structured Prune has 6.25 Test accuracy on testData\n",
      "Model Size = 446.927KB\n",
      "Zipped Model Size = 107.275KB\n"
     ]
    },
    {
     "name": "stderr",
     "output_type": "stream",
     "text": [
      "100%|████████████████████████████████████████| 157/157 [00:01<00:00, 101.99it/s]"
     ]
    },
    {
     "name": "stdout",
     "output_type": "stream",
     "text": [
      "\n",
      "structured Prune has 12.5 Test accuracy on testData\n"
     ]
    },
    {
     "name": "stderr",
     "output_type": "stream",
     "text": [
      "\n"
     ]
    }
   ],
   "source": [
    "# placeholder to store results\n",
    "l1_structured_accuracies = []\n",
    "l1_structured_size = []\n",
    "# iterate through each prune percentage\n",
    "for perc in prunePercentages:\n",
    "    # load the pretrained model\n",
    "    model = MLPClassifier().to(device)\n",
    "    model.load_state_dict(torch.load(\"./MLP.pt\"))\n",
    "\n",
    "    # prune the model\n",
    "    removed_model, structuredPruneModel = layer_structured_prune(model, perc)\n",
    "    unzipped, zipped = get_zip_size(removed_model)\n",
    "    # evaluate the pruned model on test data\n",
    "    l1_structured_accuracies.append(evaluteOnTestData(structuredPruneModel, None, \\\n",
    "          device, test_loader, meanClassificationAccuracyMetric, \"Test accuracy\", \"structured Prune\"))\n",
    "    l1_structured_size.append((unzipped, zipped))"
   ]
  },
  {
   "cell_type": "code",
   "execution_count": null,
   "id": "d499fb0a-e87c-467c-a0d7-bf1f35c742ee",
   "metadata": {},
   "outputs": [],
   "source": [
    "def prune_model_global_unstructured(model, layer_type, proportion):\n",
    "    from copy import deepcopy\n",
    "    ori_model = deepcopy(model)\n",
    "    \n",
    "    module_tups = []\n",
    "    ori_module_tups = []\n",
    "    for module, ori_module in zip(model.modules(), ori_model.modules()):\n",
    "        if isinstance(module, layer_type) and isinstance(ori_module, layer_type):\n",
    "            module_tups.append((module, 'weight'))\n",
    "            ori_module_tups.append((ori_module, 'weight'))\n",
    "            \n",
    "    prune.global_unstructured(\n",
    "        parameters=module_tups, pruning_method=prune.L1Unstructured,\n",
    "        amount=proportion\n",
    "    )\n",
    "    \n",
    "    prune.global_unstructured(\n",
    "        parameters=ori_module_tups, pruning_method=prune.L1Unstructured,\n",
    "        amount=proportion\n",
    "    )\n",
    "    \n",
    "    for module, _ in module_tups:\n",
    "        prune.remove(module, 'weight')\n",
    "    \n",
    "    return model, ori_model"
   ]
  },
  {
   "cell_type": "code",
   "execution_count": 76,
   "id": "91de9f50-fcae-46fd-adf2-5a4b33f4c05e",
   "metadata": {},
   "outputs": [],
   "source": [
    "def global_unstructured_prune(model:nn.Module, prunePercentage:float):\n",
    "    from copy import deepcopy\n",
    "    ori_model = deepcopy(model)\n",
    "    \n",
    "    parameters_to_prune = []\n",
    "    ori_module_tups = []\n",
    "    for (name, module), (_, ori_module) in zip(model.named_modules(), ori_model.named_modules()):\n",
    "        if isinstance(module, torch.nn.Linear) and isinstance(ori_module, torch.nn.Linear):\n",
    "            parameters_to_prune.append((module, 'weight'))\n",
    "            ori_module_tups.append((ori_module, 'weight'))\n",
    "            \n",
    "    prune.global_unstructured(parameters_to_prune, pruning_method=prune.L1Unstructured, amount=prunePercentage)\n",
    "    prune.global_unstructured(ori_module_tups, pruning_method=prune.L1Unstructured, amount=prunePercentage)\n",
    "\n",
    "    for _, module in parameters_to_prune:\n",
    "        prune.remove(module, 'weight')\n",
    "    \n",
    "    return model, ori_model"
   ]
  },
  {
   "cell_type": "code",
   "execution_count": 89,
   "id": "aae41846-8a9f-4bbd-8374-c8b23cc31f36",
   "metadata": {},
   "outputs": [
    {
     "name": "stdout",
     "output_type": "stream",
     "text": [
      "Model Size = 446.927KB\n",
      "Zipped Model Size = 388.906KB\n"
     ]
    },
    {
     "name": "stderr",
     "output_type": "stream",
     "text": [
      "100%|████████████████████████████████████████| 157/157 [00:01<00:00, 106.48it/s]\n"
     ]
    },
    {
     "name": "stdout",
     "output_type": "stream",
     "text": [
      "\n",
      "structured Prune has 93.75 Test accuracy on testData\n",
      "Model Size = 446.927KB\n",
      "Zipped Model Size = 372.948KB\n"
     ]
    },
    {
     "name": "stderr",
     "output_type": "stream",
     "text": [
      "100%|████████████████████████████████████████| 157/157 [00:01<00:00, 112.10it/s]\n"
     ]
    },
    {
     "name": "stdout",
     "output_type": "stream",
     "text": [
      "\n",
      "structured Prune has 93.75 Test accuracy on testData\n",
      "Model Size = 446.927KB\n",
      "Zipped Model Size = 355.588KB\n"
     ]
    },
    {
     "name": "stderr",
     "output_type": "stream",
     "text": [
      "100%|████████████████████████████████████████| 157/157 [00:01<00:00, 112.39it/s]\n"
     ]
    },
    {
     "name": "stdout",
     "output_type": "stream",
     "text": [
      "\n",
      "structured Prune has 81.25 Test accuracy on testData\n",
      "Model Size = 446.927KB\n",
      "Zipped Model Size = 336.382KB\n"
     ]
    },
    {
     "name": "stderr",
     "output_type": "stream",
     "text": [
      "100%|████████████████████████████████████████| 157/157 [00:01<00:00, 110.26it/s]\n"
     ]
    },
    {
     "name": "stdout",
     "output_type": "stream",
     "text": [
      "\n",
      "structured Prune has 93.75 Test accuracy on testData\n",
      "Model Size = 446.927KB\n",
      "Zipped Model Size = 318.580KB\n"
     ]
    },
    {
     "name": "stderr",
     "output_type": "stream",
     "text": [
      "100%|████████████████████████████████████████| 157/157 [00:01<00:00, 110.18it/s]\n"
     ]
    },
    {
     "name": "stdout",
     "output_type": "stream",
     "text": [
      "\n",
      "structured Prune has 93.75 Test accuracy on testData\n",
      "Model Size = 446.927KB\n",
      "Zipped Model Size = 300.609KB\n"
     ]
    },
    {
     "name": "stderr",
     "output_type": "stream",
     "text": [
      "100%|████████████████████████████████████████| 157/157 [00:01<00:00, 108.57it/s]\n"
     ]
    },
    {
     "name": "stdout",
     "output_type": "stream",
     "text": [
      "\n",
      "structured Prune has 100.0 Test accuracy on testData\n",
      "Model Size = 446.927KB\n",
      "Zipped Model Size = 282.182KB\n"
     ]
    },
    {
     "name": "stderr",
     "output_type": "stream",
     "text": [
      "100%|████████████████████████████████████████| 157/157 [00:01<00:00, 108.73it/s]\n"
     ]
    },
    {
     "name": "stdout",
     "output_type": "stream",
     "text": [
      "\n",
      "structured Prune has 81.25 Test accuracy on testData\n",
      "Model Size = 446.927KB\n",
      "Zipped Model Size = 263.093KB\n"
     ]
    },
    {
     "name": "stderr",
     "output_type": "stream",
     "text": [
      "100%|████████████████████████████████████████| 157/157 [00:01<00:00, 111.52it/s]\n"
     ]
    },
    {
     "name": "stdout",
     "output_type": "stream",
     "text": [
      "\n",
      "structured Prune has 93.75 Test accuracy on testData\n",
      "Model Size = 446.927KB\n",
      "Zipped Model Size = 243.868KB\n"
     ]
    },
    {
     "name": "stderr",
     "output_type": "stream",
     "text": [
      "100%|████████████████████████████████████████| 157/157 [00:01<00:00, 107.35it/s]\n"
     ]
    },
    {
     "name": "stdout",
     "output_type": "stream",
     "text": [
      "\n",
      "structured Prune has 93.75 Test accuracy on testData\n",
      "Model Size = 446.927KB\n",
      "Zipped Model Size = 224.145KB\n"
     ]
    },
    {
     "name": "stderr",
     "output_type": "stream",
     "text": [
      "100%|████████████████████████████████████████| 157/157 [00:01<00:00, 102.87it/s]\n"
     ]
    },
    {
     "name": "stdout",
     "output_type": "stream",
     "text": [
      "\n",
      "structured Prune has 87.5 Test accuracy on testData\n",
      "Model Size = 446.927KB\n",
      "Zipped Model Size = 204.056KB\n"
     ]
    },
    {
     "name": "stderr",
     "output_type": "stream",
     "text": [
      "100%|████████████████████████████████████████| 157/157 [00:01<00:00, 105.38it/s]\n"
     ]
    },
    {
     "name": "stdout",
     "output_type": "stream",
     "text": [
      "\n",
      "structured Prune has 81.25 Test accuracy on testData\n",
      "Model Size = 446.927KB\n",
      "Zipped Model Size = 183.057KB\n"
     ]
    },
    {
     "name": "stderr",
     "output_type": "stream",
     "text": [
      "100%|████████████████████████████████████████| 157/157 [00:01<00:00, 109.56it/s]\n"
     ]
    },
    {
     "name": "stdout",
     "output_type": "stream",
     "text": [
      "\n",
      "structured Prune has 62.5 Test accuracy on testData\n",
      "Model Size = 446.927KB\n",
      "Zipped Model Size = 161.005KB\n"
     ]
    },
    {
     "name": "stderr",
     "output_type": "stream",
     "text": [
      "100%|████████████████████████████████████████| 157/157 [00:01<00:00, 109.72it/s]\n"
     ]
    },
    {
     "name": "stdout",
     "output_type": "stream",
     "text": [
      "\n",
      "structured Prune has 93.75 Test accuracy on testData\n",
      "Model Size = 446.927KB\n",
      "Zipped Model Size = 140.079KB\n"
     ]
    },
    {
     "name": "stderr",
     "output_type": "stream",
     "text": [
      "100%|████████████████████████████████████████| 157/157 [00:01<00:00, 107.40it/s]\n"
     ]
    },
    {
     "name": "stdout",
     "output_type": "stream",
     "text": [
      "\n",
      "structured Prune has 68.75 Test accuracy on testData\n",
      "Model Size = 446.927KB\n",
      "Zipped Model Size = 118.998KB\n"
     ]
    },
    {
     "name": "stderr",
     "output_type": "stream",
     "text": [
      "100%|████████████████████████████████████████| 157/157 [00:01<00:00, 109.33it/s]"
     ]
    },
    {
     "name": "stdout",
     "output_type": "stream",
     "text": [
      "\n",
      "structured Prune has 43.75 Test accuracy on testData\n"
     ]
    },
    {
     "name": "stderr",
     "output_type": "stream",
     "text": [
      "\n"
     ]
    }
   ],
   "source": [
    "# placeholder to store results\n",
    "global_prune_accuracies = []\n",
    "global_prune_size = []\n",
    "# iterate through each prune percentage\n",
    "for perc in prunePercentages:\n",
    "    # load the pretrained model\n",
    "    model = MLPClassifier().to(device)\n",
    "    model.load_state_dict(torch.load(\"./MLP.pt\"))\n",
    "\n",
    "    # prune the model\n",
    "    removed_model, globalPruneModel = prune_model_global_unstructured(model, nn.Linear, perc)\n",
    "    zipped, unzipped = get_zip_size(removed_model)\n",
    "    # evaluate the pruned model on test data\n",
    "    global_prune_accuracies.append(evaluteOnTestData(globalPruneModel, None, \\\n",
    "          device, test_loader, meanClassificationAccuracyMetric, \"Test accuracy\", \"structured Prune\"))    \n",
    "    global_prune_size.append((zipped, unzipped))"
   ]
  },
  {
   "cell_type": "code",
   "execution_count": 90,
   "id": "4e371f51-a9c3-468d-abbc-391712a10ea3",
   "metadata": {},
   "outputs": [
    {
     "data": {
      "image/png": "[encoded data removed]",
      "text/plain": [
       "<Figure size 576x288 with 1 Axes>"
      ]
     },
     "metadata": {
      "needs_background": "light"
     },
     "output_type": "display_data"
    }
   ],
   "source": [
    "fig, ax = plt.subplots(1,1,figsize=(8,4))\n",
    "ax.plot(np.array(prunePercentages) * 100.0, np.array(l1_unstructured_accuracies), label='Layerwise Unstructured')\n",
    "ax.plot(np.array(prunePercentages) * 100.0, np.array(l1_structured_accuracies), label='Layerwise Structured')\n",
    "ax.plot(np.array(prunePercentages) * 100.0, np.array(global_prune_accuracies), label='Global Unstructured')\n",
    "ax.set(xlabel ='Prune percentage (Sparsity) %', ylabel = 'Test set Accuracy (%)', title = 'METRICS FOR DIFFERENT PRUNING TECHNIQUES')\n",
    "ax.legend()\n",
    "ax.grid(True)\n",
    "plt.show()"
   ]
  },
  {
   "cell_type": "code",
   "execution_count": 93,
   "id": "ab70d976-cc51-44c8-8b41-98f92fa3db64",
   "metadata": {},
   "outputs": [
    {
     "data": {
      "image/png": "[encoded data removed]",
      "text/plain": [
       "<Figure size 576x288 with 1 Axes>"
      ]
     },
     "metadata": {
      "needs_background": "light"
     },
     "output_type": "display_data"
    }
   ],
   "source": [
    "fig, ax = plt.subplots(1,1,figsize=(8,4))\n",
    "ax.plot(np.array(prunePercentages) * 100.0, np.array([size for (_, size) in l1_unstructured_size]), label='Layerwise Unstructured')\n",
    "ax.plot(np.array(prunePercentages) * 100.0, np.array([size for (_, size) in l1_structured_size]), label='Layerwise Structured')\n",
    "ax.plot(np.array(prunePercentages) * 100.0, np.array([size for (_, size) in global_prune_size]), label='Global Unstructured')\n",
    "ax.set(xlabel ='Prune percentage (Sparsity) %', ylabel = 'Model Size (KB)', title = 'METRICS FOR DIFFERENT PRUNING TECHNIQUES')\n",
    "ax.legend()\n",
    "ax.grid(True)\n",
    "plt.show()"
   ]
  },
  {
   "cell_type": "code",
   "execution_count": 28,
   "id": "c1ffd8f5-0285-413c-a6ec-451e5997ddf0",
   "metadata": {},
   "outputs": [
    {
     "name": "stdout",
     "output_type": "stream",
     "text": [
      "Model Size:  0.847 Mb\n",
      "File Size:  0.892 Mb\n",
      "Inference Time:  0.00013 s\n",
      "Mega FLOPS:  0.443648\n",
      "Mega MACs:  0.221824\n",
      "Mega Params:  0.111146\n"
     ]
    }
   ],
   "source": [
    "model = MLPClassifier().to(device)\n",
    "model.load_state_dict(torch.load(\"./MLP.pt\"))\n",
    "print_model_metrics(unStructuredPruneModel, random_input)"
   ]
  },
  {
   "cell_type": "code",
   "execution_count": 29,
   "id": "216f171c-5bbf-4402-b1f2-76ed86794d23",
   "metadata": {},
   "outputs": [],
   "source": [
    "torch.save(model.state_dict(), 'model.h5')"
   ]
  },
  {
   "cell_type": "code",
   "execution_count": 30,
   "id": "28ec3365-4c1c-425e-8031-f226e2ca22f5",
   "metadata": {},
   "outputs": [
    {
     "name": "stdout",
     "output_type": "stream",
     "text": [
      "440K\tmodel.h5\n",
      "408K\tmodel.h5.gz\n"
     ]
    }
   ],
   "source": [
    "!du -h model.h5\n",
    "!gzip -qf model.h5\n",
    "!du -h model.h5.gz"
   ]
  },
  {
   "cell_type": "code",
   "execution_count": 35,
   "id": "29389e5e-3cce-4d88-8f06-f9c25053ab45",
   "metadata": {},
   "outputs": [],
   "source": [
    "def layer_unstructured_prune(model:nn.Module, prunePercentage:float):\n",
    "    for name, module in model.named_modules():\n",
    "        if isinstance(module, torch.nn.Linear):\n",
    "            prune.l1_unstructured(module, name='weight', amount=prunePercentage)\n",
    "    return model"
   ]
  },
  {
   "cell_type": "code",
   "execution_count": 36,
   "id": "1aecdf74-9608-4972-97c7-0686f9eba98e",
   "metadata": {},
   "outputs": [
    {
     "name": "stdout",
     "output_type": "stream",
     "text": [
      "Model Size:  0.847 Mb\n",
      "File Size:  0.892 Mb\n",
      "Inference Time:  0.00016 s\n",
      "Mega FLOPS:  0.443648\n",
      "Mega MACs:  0.221824\n",
      "Mega Params:  0.111146\n"
     ]
    }
   ],
   "source": [
    "model = MLPClassifier().to(device)\n",
    "model.load_state_dict(torch.load(\"./MLP.pt\"))\n",
    "unStructuredPruneModel = layer_unstructured_prune(model, 0.3)\n",
    "\n",
    "print_model_metrics(unStructuredPruneModel, random_input)"
   ]
  },
  {
   "cell_type": "code",
   "execution_count": 37,
   "id": "e8dc0c4d-5f3f-4feb-8836-49fbefbc69b4",
   "metadata": {},
   "outputs": [
    {
     "name": "stdout",
     "output_type": "stream",
     "text": [
      "Model Size:  0.847 Mb\n",
      "File Size:  0.892 Mb\n",
      "Inference Time:  0.00015 s\n",
      "Mega FLOPS:  0.443648\n",
      "Mega MACs:  0.221824\n",
      "Mega Params:  0.111146\n"
     ]
    }
   ],
   "source": [
    "model = MLPClassifier().to(device)\n",
    "model.load_state_dict(torch.load(\"./MLP.pt\"))\n",
    "StructuredPruneModel = layer_structured_prune(model, 0.1)\n",
    "\n",
    "print_model_metrics(StructuredPruneModel, random_input)"
   ]
  },
  {
   "cell_type": "code",
   "execution_count": 38,
   "id": "4acd0c2e-3d79-4f70-9668-2fa283dc3ff0",
   "metadata": {},
   "outputs": [
    {
     "name": "stdout",
     "output_type": "stream",
     "text": [
      "Model Size:  0.847 Mb\n",
      "File Size:  0.892 Mb\n",
      "Inference Time:  0.00014 s\n",
      "Mega FLOPS:  0.443648\n",
      "Mega MACs:  0.221824\n",
      "Mega Params:  0.111146\n"
     ]
    }
   ],
   "source": [
    "model = MLPClassifier().to(device)\n",
    "model.load_state_dict(torch.load(\"./MLP.pt\"))\n",
    "globalPruneModel = global_unstructured_prune(model, 0.9414)\n",
    "\n",
    "print_model_metrics(globalPruneModel, random_input)"
   ]
  },
  {
   "cell_type": "code",
   "execution_count": 39,
   "id": "d333641e-beb9-4fe3-8d88-f659e01802bc",
   "metadata": {},
   "outputs": [],
   "source": [
    "import matplotlib\n",
    "import matplotlib.patches as mpatches\n",
    "\n",
    "binary_cmap = matplotlib.colors.ListedColormap(['#3D99FF', '#7F7F7F'])\n",
    "patchList = []\n",
    "for lab,c in zip([False, True], ['#3D99FF', '#7F7F7F']):\n",
    "    patchList.append(mpatches.Patch(color=c, label=lab))\n",
    "\n",
    "def plot_tensor_mask(pt_tensor, ax=None):\n",
    "    z_np = pt_tensor.detach().cpu().numpy()\n",
    "    ln = ax.imshow(z_np, cmap = binary_cmap)\n",
    "    ax.axis('off')\n",
    "    return ln"
   ]
  },
  {
   "cell_type": "code",
   "execution_count": 40,
   "id": "0452f85e-916e-47e9-9e09-bf860bb5e0ec",
   "metadata": {},
   "outputs": [
    {
     "name": "stderr",
     "output_type": "stream",
     "text": [
      "<>:16: SyntaxWarning: \"is not\" with a literal. Did you mean \"!=\"?\n",
      "<>:16: SyntaxWarning: \"is not\" with a literal. Did you mean \"!=\"?\n",
      "/tmp/ipykernel_181478/1260385134.py:16: SyntaxWarning: \"is not\" with a literal. Did you mean \"!=\"?\n",
      "  if title is not '':\n"
     ]
    }
   ],
   "source": [
    "def plot_custom_model(model_list, title=''):\n",
    "    if isinstance(title, list):\n",
    "        for model, t in zip(model_list, title):\n",
    "            fig, axes = plt.subplots(1,4,figsize=(16, 4), gridspec_kw={'width_ratios': [7,5,3,1]})\n",
    "\n",
    "            model_masks = dict(model.named_buffers())\n",
    "            plot_tensor_mask(model_masks['fc1.weight_mask'], axes[0])\n",
    "            plot_tensor_mask(model_masks['fc2.weight_mask'], axes[1])\n",
    "            plot_tensor_mask(model_masks['fc3.weight_mask'], axes[2])\n",
    "            plot_tensor_mask(model_masks['fc4.weight_mask'], axes[3])\n",
    "\n",
    "            axes[0].set_title('FC Layer1')\n",
    "            axes[1].set_title('FC Layer2')\n",
    "            axes[2].set_title('FC Layer3')\n",
    "            axes[3].set_title('FC Layer4')\n",
    "\n",
    "            if title is not '':\n",
    "                plt.suptitle(t)\n",
    "    else:\n",
    "        for model in model_list:\n",
    "            fig, axes = plt.subplots(1,4,figsize=(16, 4), gridspec_kw={'width_ratios': [7,5,3,1]})\n",
    "\n",
    "            model_masks = dict(model.named_buffers())\n",
    "            plot_tensor_mask(model_masks['fc1.weight_mask'], axes[0])\n",
    "            plot_tensor_mask(model_masks['fc2.weight_mask'], axes[1])\n",
    "            plot_tensor_mask(model_masks['fc3.weight_mask'], axes[2])\n",
    "            plot_tensor_mask(model_masks['fc4.weight_mask'], axes[3])\n",
    "\n",
    "            axes[0].set_title('FC Layer1')\n",
    "            axes[1].set_title('FC Layer2')\n",
    "            axes[2].set_title('FC Layer3')\n",
    "            axes[3].set_title('FC Layer4')\n",
    "\n",
    "            if title is not '':\n",
    "                plt.suptitle(title)"
   ]
  },
  {
   "cell_type": "code",
   "execution_count": 41,
   "id": "23f3db3b-b748-4e0d-bb3b-a5dc765e6950",
   "metadata": {},
   "outputs": [
    {
     "data": {
      "image/png": "[encoded data removed]",
      "text/plain": [
       "<Figure size 1152x288 with 4 Axes>"
      ]
     },
     "metadata": {
      "needs_background": "light"
     },
     "output_type": "display_data"
    },
    {
     "data": {
      "image/png": "[encoded data removed]",
      "text/plain": [
       "<Figure size 1152x288 with 4 Axes>"
      ]
     },
     "metadata": {
      "needs_background": "light"
     },
     "output_type": "display_data"
    },
    {
     "data": {
      "image/png": "[encoded data removed]",
      "text/plain": [
       "<Figure size 1152x288 with 4 Axes>"
      ]
     },
     "metadata": {
      "needs_background": "light"
     },
     "output_type": "display_data"
    }
   ],
   "source": [
    "model_list = [unStructuredPruneModel, StructuredPruneModel, globalPruneModel]\n",
    "plot_custom_model(model_list, title='Unstructured Pruned Model')"
   ]
  },
  {
   "cell_type": "code",
   "execution_count": null,
   "id": "dcf36958-47a4-425d-9411-2b85f8e04139",
   "metadata": {},
   "outputs": [],
   "source": []
  }
 ],
 "metadata": {
  "kernelspec": {
   "display_name": "Python 3 (ipykernel)",
   "language": "python",
   "name": "python3"
  },
  "language_info": {
   "codemirror_mode": {
    "name": "ipython",
    "version": 3
   },
   "file_extension": ".py",
   "mimetype": "text/x-python",
   "name": "python",
   "nbconvert_exporter": "python",
   "pygments_lexer": "ipython3",
   "version": "3.9.10"
  }
 },
 "nbformat": 4,
 "nbformat_minor": 5
}

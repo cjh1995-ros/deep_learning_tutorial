{
 "cells": [
  {
   "cell_type": "markdown",
   "metadata": {
    "id": "MMxCcDUqq_j0"
   },
   "source": [
    "# Welcome to the Pruning Workshop!\n",
    "\n",
    "In this workshop, we'll learn the concept of Pruning Neural Network models using Pytorch. We'll do the following tasks:\n",
    "1. **Dataset** — Download and use FashionMNIST dataset\n",
    "2. **Network** — Define a custom neural net and measure the metrics\n",
    "3. **Training** — Train the model on the dataset, and record the accuracy metrics\n",
    "4. **Pruning** — Apply different Pruning techniques on the model\n",
    "5. **Analysis** — Visualize the results and find the best!"
   ]
  },
  {
   "cell_type": "markdown",
   "metadata": {
    "id": "fF98w4wsUkhs"
   },
   "source": [
    "### Basic Imports"
   ]
  },
  {
   "cell_type": "code",
   "execution_count": 1,
   "metadata": {
    "id": "K2OpaXGMl00E"
   },
   "outputs": [],
   "source": [
    "import os\n",
    "import random\n",
    "import numpy as np\n",
    "import matplotlib.pyplot as plt\n",
    "from typing import Any, List\n",
    "import pandas as pd\n",
    "from tqdm import tqdm\n",
    "\n",
    "# DL library imports\n",
    "import torch\n",
    "from torch.utils.data import DataLoader\n",
    "from torchvision import datasets, transforms\n",
    "from torch.utils.data.sampler import SubsetRandomSampler\n",
    "from torch import nn, optim\n",
    "import torch.nn.functional as F"
   ]
  },
  {
   "cell_type": "code",
   "execution_count": 2,
   "metadata": {
    "colab": {
     "base_uri": "https://localhost:8080/"
    },
    "id": "fs6XNZIzZ4i4",
    "outputId": "5996ab27-6c94-4302-bd98-95452092409e"
   },
   "outputs": [
    {
     "name": "stdout",
     "output_type": "stream",
     "text": [
      "--2022-04-07 22:05:07--  https://optimization-thinkautonomous.s3.eu-west-3.amazonaws.com/pruning.zip\n",
      "Resolving optimization-thinkautonomous.s3.eu-west-3.amazonaws.com (optimization-thinkautonomous.s3.eu-west-3.amazonaws.com)... 52.95.154.4\n",
      "Connecting to optimization-thinkautonomous.s3.eu-west-3.amazonaws.com (optimization-thinkautonomous.s3.eu-west-3.amazonaws.com)|52.95.154.4|:443... connected.\n",
      "HTTP request sent, awaiting response... 200 OK\n",
      "Length: 78150 (76K) [application/zip]\n",
      "Saving to: ‘pruning.zip’\n",
      "\n",
      "pruning.zip         100%[===================>]  76.32K  41.5KB/s    in 1.8s    \n",
      "\n",
      "2022-04-07 22:05:10 (41.5 KB/s) - ‘pruning.zip’ saved [78150/78150]\n",
      "\n"
     ]
    }
   ],
   "source": [
    "# !wget https://optimization-thinkautonomous.s3.eu-west-3.amazonaws.com/pruning.zip && unzip -q pruning.zip && rm pruning.zip"
   ]
  },
  {
   "cell_type": "markdown",
   "metadata": {
    "id": "JJjoKpSLratv"
   },
   "source": [
    "## 1 — **Dataset**: Download and use the Fashion MNIST Dataset\n",
    "\n",
    "\n",
    "Here, we're going to use the FashionMNIST dataset for this case study.\n",
    "- Fashion MNIST dataset is Zalando's collection of grayscale images of different apparels and their associated labels for Deep Learning research and development\n",
    "- It consists of 60k train images and 10k test images, each of resolution 28 X 28 pixels\n",
    "- The images contain integer values in range [0-255] and there are 10 labels. eg : 0 = T-shirt/top, 1 = Trouser, 2 = Pullover, 3 = Dress etc\n",
    "- [Zalando FashionMNIST git repo](https://github.com/zalandoresearch/fashion-mnist)"
   ]
  },
  {
   "cell_type": "code",
   "execution_count": 3,
   "metadata": {
    "colab": {
     "base_uri": "https://localhost:8080/",
     "height": 443,
     "referenced_widgets": [
      "5419f31d0e584039b566cdf73d9b249c",
      "d43db767f34a4c209b6cdf44243c1ea2",
      "92fd242b548a46d38cc05baf7e3629c6",
      "2f46a4d1047f49ef8637cf3de783734a",
      "f01961e66e27419f965953f9a0af405c",
      "43f246205a9645039077650a3aff3279",
      "d44c16fcc4e74a71a9f89e68290122cd",
      "adef194977a6435ca3e2222b3c57faad",
      "0d4c7f55c62e47c5a6ee5b7f0d93ab80",
      "bafde8ac1fd44a23be5498a97bb4baef",
      "ff1f48914c504ffaa1fefbc1c1f4d75e",
      "1b95584eb73a4cdba35818b52064321b",
      "699a8d14367e4967a98daf60ce131265",
      "91bb7435a18d4d1885995c3c800f2d5c",
      "10501efaa36b4ea39db4906dba3de686",
      "2c0ac29438ff44ea8000778caf0b922f",
      "454a794c7b4a470e8f6cc99c03bd48a4",
      "905f0600bfe847e6b73214c000ca1eb2",
      "a4136b02c8c84c6e873b05a170588352",
      "511a20ce01e04b19addd2e1e0dbb7784",
      "0e15fc0b13ad4be6955c5ece4c4b31b7",
      "701ef6cef2514f18b1c2639eff9a8151",
      "8721a172f5be4f6891a13fc3126ee987",
      "4535ec0e1d654d40b9672e58d7d15bc1",
      "0031de63bda8443883b3f27e23d22bfa",
      "8c068df9beec47e5957c47f07390ad1a",
      "53ec29c29e484e3eba23c9842bd0ec69",
      "dc2d4d7a1dca4c9e9526242261df80d4",
      "b95aa26cfd6f4bc588aa9d0abdaddec5",
      "f8977f93de7f4aff9fd0462de94b9572",
      "d774adb5bc7944aba77ce517daba46b0",
      "cb91fab2dd2b4d8fab854cb7e9ebae07",
      "f9c8f09d16b04efdbe301374be3e9f82",
      "3669d9fe14e5480381c33cb0beeba4df",
      "433444dde344417380a56738acb37da0",
      "66a27f11b0e3461da8c22dd9e076ba74",
      "cff2786b442c4c1ba4c3fb74f363cc2f",
      "724030ca42324d79a36f2ff257e0d723",
      "fa386d49419d4361a6339a36402dd899",
      "660f83608450413db6501f546ad1690e",
      "0d21f8c937dd4735a105f96362b91ff3",
      "29344fe288744e1da6957323980d9bb6",
      "20d318f0fd8d4f52896515dc3369038d",
      "1ee44a5d51fa402aa813fb321b9dbf26"
     ]
    },
    "id": "gKtJfEkirQLG",
    "outputId": "1e6c4ec9-4706-4614-e75d-d9fc4f802f87"
   },
   "outputs": [
    {
     "name": "stdout",
     "output_type": "stream",
     "text": [
      "Downloading http://fashion-mnist.s3-website.eu-central-1.amazonaws.com/train-images-idx3-ubyte.gz\n",
      "Downloading http://fashion-mnist.s3-website.eu-central-1.amazonaws.com/train-images-idx3-ubyte.gz to ./FashionMNIST/raw/train-images-idx3-ubyte.gz\n"
     ]
    },
    {
     "data": {
      "application/vnd.jupyter.widget-view+json": {
       "model_id": "61b711579eed45beb504d24510c6bbd4",
       "version_major": 2,
       "version_minor": 0
      },
      "text/plain": [
       "  0%|          | 0/26421880 [00:00<?, ?it/s]"
      ]
     },
     "metadata": {},
     "output_type": "display_data"
    },
    {
     "name": "stdout",
     "output_type": "stream",
     "text": [
      "Extracting ./FashionMNIST/raw/train-images-idx3-ubyte.gz to ./FashionMNIST/raw\n",
      "\n",
      "Downloading http://fashion-mnist.s3-website.eu-central-1.amazonaws.com/train-labels-idx1-ubyte.gz\n",
      "Downloading http://fashion-mnist.s3-website.eu-central-1.amazonaws.com/train-labels-idx1-ubyte.gz to ./FashionMNIST/raw/train-labels-idx1-ubyte.gz\n"
     ]
    },
    {
     "data": {
      "application/vnd.jupyter.widget-view+json": {
       "model_id": "7e83064b3482430489da5cef9fef239a",
       "version_major": 2,
       "version_minor": 0
      },
      "text/plain": [
       "  0%|          | 0/29515 [00:00<?, ?it/s]"
      ]
     },
     "metadata": {},
     "output_type": "display_data"
    },
    {
     "name": "stdout",
     "output_type": "stream",
     "text": [
      "Extracting ./FashionMNIST/raw/train-labels-idx1-ubyte.gz to ./FashionMNIST/raw\n",
      "\n",
      "Downloading http://fashion-mnist.s3-website.eu-central-1.amazonaws.com/t10k-images-idx3-ubyte.gz\n",
      "Downloading http://fashion-mnist.s3-website.eu-central-1.amazonaws.com/t10k-images-idx3-ubyte.gz to ./FashionMNIST/raw/t10k-images-idx3-ubyte.gz\n"
     ]
    },
    {
     "data": {
      "application/vnd.jupyter.widget-view+json": {
       "model_id": "e4ba68ab31aa4c15861251df6397c5a3",
       "version_major": 2,
       "version_minor": 0
      },
      "text/plain": [
       "  0%|          | 0/4422102 [00:00<?, ?it/s]"
      ]
     },
     "metadata": {},
     "output_type": "display_data"
    },
    {
     "name": "stdout",
     "output_type": "stream",
     "text": [
      "Extracting ./FashionMNIST/raw/t10k-images-idx3-ubyte.gz to ./FashionMNIST/raw\n",
      "\n",
      "Downloading http://fashion-mnist.s3-website.eu-central-1.amazonaws.com/t10k-labels-idx1-ubyte.gz\n",
      "Downloading http://fashion-mnist.s3-website.eu-central-1.amazonaws.com/t10k-labels-idx1-ubyte.gz to ./FashionMNIST/raw/t10k-labels-idx1-ubyte.gz\n"
     ]
    },
    {
     "data": {
      "application/vnd.jupyter.widget-view+json": {
       "model_id": "6cf7c453a97e4b6fb7d3d0daa36e9528",
       "version_major": 2,
       "version_minor": 0
      },
      "text/plain": [
       "  0%|          | 0/5148 [00:00<?, ?it/s]"
      ]
     },
     "metadata": {},
     "output_type": "display_data"
    },
    {
     "name": "stdout",
     "output_type": "stream",
     "text": [
      "Extracting ./FashionMNIST/raw/t10k-labels-idx1-ubyte.gz to ./FashionMNIST/raw\n",
      "\n"
     ]
    }
   ],
   "source": [
    "dataset_labels = ['TShirt', 'Trouser', 'Pullover', 'Dress', 'Coat', 'Sandal', 'Shirt', 'Sneaker', 'Bag', 'AnkleBoot']\n",
    "\n",
    "# necessary image transform i.e. convert to Tensor, normalize\n",
    "train_transform = transforms.Compose([transforms.ToTensor(), transforms.Normalize((0.5,), (0.5,)) ])\n",
    "test_transform  = transforms.Compose([transforms.ToTensor(), transforms.Normalize((0.5,), (0.5,)) ])\n",
    "\n",
    "# Download the Train and Test set\n",
    "train_set = datasets.FashionMNIST('.', train=True, download=True, transform=train_transform)\n",
    "test_set = datasets.FashionMNIST('.', train=False, download=True, transform=test_transform)"
   ]
  },
  {
   "cell_type": "markdown",
   "metadata": {
    "id": "XXWsvzDCpvmR"
   },
   "source": [
    "### Define HyperParameters"
   ]
  },
  {
   "cell_type": "code",
   "execution_count": 4,
   "metadata": {
    "id": "-M3AAtqmrpt8"
   },
   "outputs": [],
   "source": [
    "NUM_WORKERS = 1 \n",
    "TEST_BATCH_SIZE  = 64\n",
    "TRAIN_BATCH_SIZE = 16\n",
    "VALID_SIZE = 0.2 "
   ]
  },
  {
   "cell_type": "markdown",
   "metadata": {
    "id": "SdBRuxCDpy0p"
   },
   "source": [
    "### Train/Test Split"
   ]
  },
  {
   "cell_type": "code",
   "execution_count": 5,
   "metadata": {
    "id": "6LjM75BpnIXt"
   },
   "outputs": [],
   "source": [
    "len_train_set = len(train_set)\n",
    "index_list = list(range(len_train_set))\n",
    "np.random.shuffle(index_list)\n",
    "split_index = int(len_train_set * VALID_SIZE)\n",
    "train_idx, valid_idx = index_list[split_index:], index_list[:split_index]\n",
    "train_sampler = SubsetRandomSampler(train_idx)\n",
    "valid_sampler = SubsetRandomSampler(valid_idx)"
   ]
  },
  {
   "cell_type": "markdown",
   "metadata": {
    "id": "McUG4hN-p0cj"
   },
   "source": [
    "### DataLoader"
   ]
  },
  {
   "cell_type": "code",
   "execution_count": 6,
   "metadata": {
    "id": "p8eoLuPUriUy"
   },
   "outputs": [],
   "source": [
    "train_loader = DataLoader(train_set, batch_size=TRAIN_BATCH_SIZE, sampler=train_sampler, num_workers=NUM_WORKERS)\n",
    "valid_loader = DataLoader(train_set, batch_size=TEST_BATCH_SIZE,  sampler=valid_sampler, num_workers=NUM_WORKERS)\n",
    "test_loader  = DataLoader(test_set,  batch_size=TEST_BATCH_SIZE,  shuffle=True,num_workers=NUM_WORKERS)"
   ]
  },
  {
   "cell_type": "markdown",
   "metadata": {
    "id": "XO4PZqhSp2da"
   },
   "source": [
    "### Visualization"
   ]
  },
  {
   "cell_type": "code",
   "execution_count": 8,
   "metadata": {
    "colab": {
     "base_uri": "https://localhost:8080/",
     "height": 281
    },
    "id": "Dux6sdHjr9pH",
    "outputId": "29547d06-2201-4927-9a4e-601240c65129"
   },
   "outputs": [
    {
     "data": {
      "image/png": "[encoded data removed]",
      "text/plain": [
       "<Figure size 432x288 with 1 Axes>"
      ]
     },
     "metadata": {
      "needs_background": "light"
     },
     "output_type": "display_data"
    }
   ],
   "source": [
    "img, label = next(iter(train_loader))\n",
    "plt.imshow(img[0].numpy().squeeze(), cmap = 'Greys_r')\n",
    "plt.title(f'{dataset_labels[label[0].item()]}')\n",
    "plt.show()"
   ]
  },
  {
   "cell_type": "markdown",
   "metadata": {
    "execution": {
     "iopub.execute_input": "2021-09-28T01:43:44.278753Z",
     "iopub.status.busy": "2021-09-28T01:43:44.278299Z",
     "iopub.status.idle": "2021-09-28T01:43:44.293447Z",
     "shell.execute_reply": "2021-09-28T01:43:44.292329Z",
     "shell.execute_reply.started": "2021-09-28T01:43:44.278691Z"
    },
    "id": "SqJJerJuPvL9"
   },
   "source": [
    "## 2 — **Network**: Define a custom neural net and measure the metrics\n",
    "\n",
    "- We'll use a simple feed forward model that takes in flattened image vector (28x28=784) and outputs probabilities for each of 10 classes.\n",
    "- In Pytorch, we can create the Neural Network model by defining a custom class (inherits from [nn.Module](https://pytorch.org/docs/stable/generated/torch.nn.Module.html)).\n",
    "- The `forward` function in the class defines the forward pass of the network."
   ]
  },
  {
   "cell_type": "code",
   "execution_count": 9,
   "metadata": {
    "id": "EMTr3uuYSC7Q",
    "tags": []
   },
   "outputs": [],
   "source": [
    "class MLPClassifier(nn.Module):\n",
    "    def __init__(self):\n",
    "        super().__init__()\n",
    "        self.fc1 = nn.Linear(784, 128, bias=True)\n",
    "        self.fc2 = nn.Linear(128, 64, bias=True)\n",
    "        self.fc3 = nn.Linear(64, 32, bias=True)\n",
    "        self.fc4 = nn.Linear(32, 10, bias=True)\n",
    "\n",
    "    def forward(self, x):\n",
    "        x = x.view(x.shape[0], -1)\n",
    "        x = F.relu(self.fc1(x))\n",
    "        x = F.relu(self.fc2(x))\n",
    "        x = F.relu(self.fc3(x))\n",
    "        x = self.fc4(x)\n",
    "        return x"
   ]
  },
  {
   "cell_type": "markdown",
   "metadata": {
    "id": "ENSTEeJw3QCs"
   },
   "source": [
    "#### Print the Model Metrics\n",
    "\n",
    "We'll use the functions used in the `metrics` notebook to print inference parameters of our custom model "
   ]
  },
  {
   "cell_type": "code",
   "execution_count": 10,
   "metadata": {
    "id": "nMno4EVdwYGr"
   },
   "outputs": [],
   "source": [
    "# Load the Model\n",
    "device = torch.device(\"cuda\" if torch.cuda.is_available() else \"cpu\")\n",
    "model = MLPClassifier().to(device)"
   ]
  },
  {
   "cell_type": "code",
   "execution_count": 11,
   "metadata": {
    "colab": {
     "base_uri": "https://localhost:8080/"
    },
    "id": "d4VnR1yAXWSO",
    "outputId": "99840635-f597-494d-cdb2-0de4acb0d832"
   },
   "outputs": [
    {
     "name": "stdout",
     "output_type": "stream",
     "text": [
      "Model Size:  0.424 Mb\n",
      "File Size:  0.447 Mb\n",
      "Inference Time:  0.00394 s\n",
      "Mega FLOPS:  0.443648\n",
      "Mega MACs:  0.221824\n",
      "Mega Params:  0.111146\n"
     ]
    }
   ],
   "source": [
    "from modelMetrics import computeInferenceTime, getModelFileSize, profile, getModelSize\n",
    "\n",
    "def print_model_metrics(model, dummy_input):\n",
    "  print(\"Model Size: \", str(round(getModelSize(model),3)),\"Mb\")\n",
    "  print(\"File Size: \", str(round(getModelFileSize(model),3)),\"Mb\")\n",
    "  print(\"Inference Time: \",str(round(computeInferenceTime(model,dummy_input, device),5)),\"s\")\n",
    "  macs, params = profile(model, inputs=(dummy_input,), verbose=False)\n",
    "  flops = 2 * macs\n",
    "  print(\"Mega FLOPS: \", str(flops * 1e-6))\n",
    "  print(\"Mega MACs: \", str(macs * 1e-6))\n",
    "  print(\"Mega Params: \", str(params * 1e-6))\n",
    "\n",
    "\n",
    "random_input = torch.rand(2, 28, 28).to(device)\n",
    "print_model_metrics(model, random_input)"
   ]
  },
  {
   "cell_type": "markdown",
   "metadata": {
    "id": "C3pnqXz8KpEn"
   },
   "source": [
    "#### Print the Model Sparsity\n",
    "\n",
    "- Model sparsity refers to the ratio of parameters with zero weights to the total number of parameters. \n",
    "- Eg : If a linear layer with 100 neurons and 25 of the neurons have been pruned (effectively set to zero) then the sparsity of the layer is 25%.\n",
    "- Sparsity can be calculated for each layers and for the entire model as well (referred to as Global sparsity)\n"
   ]
  },
  {
   "cell_type": "code",
   "execution_count": 12,
   "metadata": {
    "colab": {
     "base_uri": "https://localhost:8080/"
    },
    "id": "Xv9V_gxdyB27",
    "outputId": "87acd876-c3fc-4207-81ef-cfd61b66c799"
   },
   "outputs": [
    {
     "name": "stdout",
     "output_type": "stream",
     "text": [
      "Sparsity in fc1.weight: 0.0%.\n",
      "Sparsity in fc2.weight: 0.0%.\n",
      "Sparsity in fc3.weight: 0.0%.\n",
      "Sparsity in fc4.weight: 0.0%.\n",
      "Global Sparsity (weight): 0.0%\n"
     ]
    }
   ],
   "source": [
    "def get_model_sparsity(model):\n",
    "    totalElements = 0\n",
    "    totalZeroElements = 0\n",
    "    for name, module in model.named_children():\n",
    "        numElementsInLayer = float(module.weight.nelement())\n",
    "        numZeroElementsInLayer = float(torch.sum(module.weight == 0))\n",
    "        layerWeightSparsity = 100.0 * (numZeroElementsInLayer/ numElementsInLayer)\n",
    "        print(f\"Sparsity in {name}.weight: {layerWeightSparsity}%.\")\n",
    "        \n",
    "        totalElements += numElementsInLayer\n",
    "        totalZeroElements += numZeroElementsInLayer\n",
    "    \n",
    "    if totalElements > 0 :\n",
    "        globalWeightSparsity = 100.0 * (totalZeroElements / totalElements)\n",
    "    else:\n",
    "        globalWeightSparsity = 0.0\n",
    "    return globalWeightSparsity\n",
    "    \n",
    "sparsity = get_model_sparsity(model)\n",
    "print(f\"Global Sparsity (weight): {sparsity}%\")"
   ]
  },
  {
   "cell_type": "markdown",
   "metadata": {
    "id": "m61RFdw53XPR"
   },
   "source": [
    "## 3 - **Training**: Train the model on the dataset, and record the accuracy metrics\n",
    "\n",
    "Before we train our model, we'll define some helper functions to calculate metric, plot training results etc"
   ]
  },
  {
   "cell_type": "code",
   "execution_count": 13,
   "metadata": {
    "id": "f2g_-5EOAQo1"
   },
   "outputs": [],
   "source": [
    "from sklearn.metrics import accuracy_score\n",
    "\n",
    "class meanClassificationAccuracyMetric:\n",
    "    \"\"\" Class to find the avg accuracy of softmax predictions to ground truth label \"\"\"    \n",
    "    def __init__(self):\n",
    "        self.batchAccuracies = []\n",
    "        self.meanClassificationAccuracy = 0.0\n",
    "\n",
    "    def update(self, y_preds: torch.Tensor, labels: torch.Tensor):\n",
    "        # predicted output class\n",
    "        modelPredictions = np.argmax(torch.softmax(y_preds, axis=1).numpy(), axis=1)\n",
    "        self.batchAccuracies.append(accuracy_score(labels.numpy(), modelPredictions))\n",
    "\n",
    "    def compute(self):\n",
    "        self.meanClassificationAccuracy = np.mean(self.batchAccuracies) * 100.0\n",
    "        return self.meanClassificationAccuracy"
   ]
  },
  {
   "cell_type": "code",
   "execution_count": 14,
   "metadata": {
    "id": "mYx7TDugArEJ"
   },
   "outputs": [],
   "source": [
    "def plotTrainingResults(df, model_name):\n",
    "    fig, ax1 = plt.subplots(figsize=(10,4))\n",
    "    ax1.set_ylabel('trainLoss', color='tab:red')\n",
    "    ax1.plot(df['epoch'].values, df['trainLoss'].values, color='tab:red')\n",
    "    ax1.tick_params(axis='y', labelcolor='tab:red')\n",
    "\n",
    "    ax2 = ax1.twinx()  \n",
    "    ax2.set_ylabel('validationLoss', color='tab:blue')\n",
    "    ax2.plot(df['epoch'].values, df['validationLoss'].values, color='tab:blue')\n",
    "    ax2.tick_params(axis='y', labelcolor='tab:blue')\n",
    "\n",
    "    plt.suptitle(f'{model_name} Training, Validation Curves')\n",
    "    plt.show()"
   ]
  },
  {
   "cell_type": "code",
   "execution_count": 15,
   "metadata": {
    "id": "4RAZS8Wj3YzP"
   },
   "outputs": [],
   "source": [
    "def trainValidateModel(model, criterion, optimizer, dataloader_train, \n",
    "                       dataloader_valid, metricClass, metricName, device):\n",
    "    results = []    \n",
    "    min_val_loss = np.Inf\n",
    "    len_train_loader = len(dataloader_train)\n",
    "\n",
    "    # move model to target device\n",
    "    model.to(device)\n",
    "    \n",
    "    for epoch in range(N_EPOCHS):\n",
    "        print(f\"Starting {epoch + 1} epoch ...\")\n",
    "        \n",
    "        # Training\n",
    "        model.train()\n",
    "        train_loss = 0.0\n",
    "        for i, (inputs, labels) in tqdm(enumerate(dataloader_train), total=len_train_loader):\n",
    "            inputs = inputs.to(device)\n",
    "            labels = labels.to(device)  \n",
    "\n",
    "            # Forward pass\n",
    "            y_preds = model(inputs)\n",
    "            loss = criterion(y_preds, labels)\n",
    "            train_loss += loss.item()\n",
    "              \n",
    "            # Backward pass\n",
    "            loss.backward()\n",
    "            optimizer.step()\n",
    "            optimizer.zero_grad() \n",
    "            \n",
    "        # Validate\n",
    "        model.eval()\n",
    "        validation_loss = 0.0\n",
    "        metric_object = metricClass()\n",
    "\n",
    "        with torch.no_grad():\n",
    "            for inputs, labels in dataloader_valid:\n",
    "                inputs = inputs.to(device)\n",
    "                labels = labels.to(device)                \n",
    "                y_preds = model(inputs)\n",
    "            \n",
    "                # calculate loss\n",
    "                loss = criterion(y_preds, labels)\n",
    "                validation_loss += loss.item()\n",
    "\n",
    "                # update batch metric information            \n",
    "                metric_object.update(y_preds.cpu().detach(), labels.cpu().detach())\n",
    "\n",
    "        # compute per batch losses, metric value\n",
    "        train_loss = train_loss / len(dataloader_train)\n",
    "        validation_loss = validation_loss / len(dataloader_valid)\n",
    "        validationMetric = metric_object.compute()\n",
    "\n",
    "        print(f'Epoch: {epoch+1}, trainLoss:{train_loss:6.5f}, validationLoss:{validation_loss:6.5f}, {metricName}:{validationMetric: 4.2f}%')\n",
    "        \n",
    "        # store results\n",
    "        results.append({'epoch': epoch, 'trainLoss': train_loss, \n",
    "                        'validationLoss': validation_loss, f'{metricName}': validationMetric})\n",
    "        \n",
    "        # if validation loss has decreased, save model and reset variable\n",
    "        if validation_loss <= min_val_loss:\n",
    "            min_val_loss = validation_loss\n",
    "            torch.save(model.state_dict(), \"MLP.pt\")\n",
    "\n",
    "    # plot results\n",
    "    results = pd.DataFrame(results)\n",
    "    plotTrainingResults(results, \"MLP\")\n",
    "    return results"
   ]
  },
  {
   "cell_type": "code",
   "execution_count": 16,
   "metadata": {
    "colab": {
     "base_uri": "https://localhost:8080/",
     "height": 554
    },
    "id": "5syAT4MTA0ly",
    "outputId": "d1112687-e22b-4a43-e0ee-cfeeba99e34d"
   },
   "outputs": [
    {
     "name": "stdout",
     "output_type": "stream",
     "text": [
      "Starting 1 epoch ...\n"
     ]
    },
    {
     "name": "stderr",
     "output_type": "stream",
     "text": [
      "100%|██████████████████████████████████████| 3000/3000 [00:08<00:00, 334.57it/s]\n"
     ]
    },
    {
     "name": "stdout",
     "output_type": "stream",
     "text": [
      "Epoch: 1, trainLoss:0.67154, validationLoss:0.70026, accuracy: 76.82%\n",
      "Starting 2 epoch ...\n"
     ]
    },
    {
     "name": "stderr",
     "output_type": "stream",
     "text": [
      "100%|██████████████████████████████████████| 3000/3000 [00:09<00:00, 328.01it/s]\n"
     ]
    },
    {
     "name": "stdout",
     "output_type": "stream",
     "text": [
      "Epoch: 2, trainLoss:0.56222, validationLoss:0.52456, accuracy: 82.55%\n",
      "Starting 3 epoch ...\n"
     ]
    },
    {
     "name": "stderr",
     "output_type": "stream",
     "text": [
      "100%|██████████████████████████████████████| 3000/3000 [00:09<00:00, 329.51it/s]\n"
     ]
    },
    {
     "name": "stdout",
     "output_type": "stream",
     "text": [
      "Epoch: 3, trainLoss:0.54592, validationLoss:0.53785, accuracy: 82.82%\n",
      "Starting 4 epoch ...\n"
     ]
    },
    {
     "name": "stderr",
     "output_type": "stream",
     "text": [
      "100%|██████████████████████████████████████| 3000/3000 [00:09<00:00, 331.56it/s]\n"
     ]
    },
    {
     "name": "stdout",
     "output_type": "stream",
     "text": [
      "Epoch: 4, trainLoss:0.54231, validationLoss:0.59050, accuracy: 79.63%\n",
      "Starting 5 epoch ...\n"
     ]
    },
    {
     "name": "stderr",
     "output_type": "stream",
     "text": [
      "100%|██████████████████████████████████████| 3000/3000 [00:09<00:00, 318.67it/s]\n"
     ]
    },
    {
     "name": "stdout",
     "output_type": "stream",
     "text": [
      "Epoch: 5, trainLoss:0.51845, validationLoss:0.63248, accuracy: 80.44%\n"
     ]
    },
    {
     "data": {
      "image/png": "[encoded data removed]",
      "text/plain": [
       "<Figure size 720x288 with 2 Axes>"
      ]
     },
     "metadata": {
      "needs_background": "light"
     },
     "output_type": "display_data"
    }
   ],
   "source": [
    "# Hyper parameters for training model\n",
    "N_EPOCHS = 5\n",
    "LR = 1e-2\n",
    "\n",
    "# Define the Loss\n",
    "criterion = nn.CrossEntropyLoss()\n",
    "\n",
    "# Define the Optimizer\n",
    "optimizer = optim.Adam(model.parameters(), lr=LR)\n",
    "\n",
    "# train, validate standard model\n",
    "modelResults = trainValidateModel(model, criterion, optimizer, train_loader, valid_loader, meanClassificationAccuracyMetric, 'accuracy', device)"
   ]
  },
  {
   "cell_type": "code",
   "execution_count": 17,
   "metadata": {
    "id": "xVO8n_JpE1QK"
   },
   "outputs": [],
   "source": [
    "def evaluteOnTestData(model, pretrainedModelPath, device, \n",
    "                     dataloader_test, metricClass, metricName, modelName):\n",
    "    testSetMetric = 0.0\n",
    "    if pretrainedModelPath is not None:\n",
    "        if os.path.isfile(pretrainedModelPath) == True:\n",
    "            model.load_state_dict(torch.load(pretrainedModelPath, map_location=device))\n",
    "\n",
    "    model.to(device)\n",
    "    model.eval()\n",
    "    metricObject = metricClass()\n",
    "\n",
    "    with torch.no_grad():\n",
    "      for inputs, labels in tqdm(dataloader_test, total=len(dataloader_test)):\n",
    "        inputs = inputs.to(device)\n",
    "        labels = labels.to(device)\n",
    "        y_preds = model(inputs)\n",
    "            \n",
    "        # update batch metric information            \n",
    "        metricObject.update(y_preds.cpu().detach(), labels.cpu().detach())\n",
    "\n",
    "    testSetMetric = metricObject.compute()    \n",
    "    print(f'\\n{modelName} has {testSetMetric} {metricName} on testData')\n",
    "    return testSetMetric"
   ]
  },
  {
   "cell_type": "code",
   "execution_count": 18,
   "metadata": {
    "colab": {
     "base_uri": "https://localhost:8080/"
    },
    "id": "UgvNmjTOtnVW",
    "outputId": "130eae7a-333b-42e1-8227-4c4e01c598ff"
   },
   "outputs": [
    {
     "name": "stderr",
     "output_type": "stream",
     "text": [
      "100%|████████████████████████████████████████| 157/157 [00:01<00:00, 109.28it/s]"
     ]
    },
    {
     "name": "stdout",
     "output_type": "stream",
     "text": [
      "\n",
      "Custom_MLP has 81.79737261146497 Test_Accuracy on testData\n"
     ]
    },
    {
     "name": "stderr",
     "output_type": "stream",
     "text": [
      "\n"
     ]
    }
   ],
   "source": [
    "testSetMetric = evaluteOnTestData(model, \"./MLP.pt\", device, test_loader, \n",
    "                    meanClassificationAccuracyMetric, \"Test_Accuracy\", \"Custom_MLP\")"
   ]
  },
  {
   "cell_type": "markdown",
   "metadata": {
    "id": "QUs9gbLYTAmW"
   },
   "source": [
    "## 4 - **Pruning**: Apply different Pruning techniques on the model\n",
    "\n",
    "Now that we understand the pruning APIs in Pytorch, we'll use them to \n",
    "prune our custom MLP model. In the next section, we'll do the following:\n",
    "\n",
    "- Apply the Unstructured pruning we learned above and also the Global version of it along with structured pruning on our trained model\n",
    "- Observe the Accuracy of both the pruned model on Test set\n",
    "- Apply different levels of Pruning percentages (*read sparsity levels*) and observe the different in performance metric"
   ]
  },
  {
   "cell_type": "code",
   "execution_count": 19,
   "metadata": {
    "id": "nSC1fjsCcveG"
   },
   "outputs": [],
   "source": [
    "import torch.nn.utils.prune as prune"
   ]
  },
  {
   "cell_type": "code",
   "execution_count": 20,
   "metadata": {
    "colab": {
     "base_uri": "https://localhost:8080/"
    },
    "id": "eFJSzrwD2O6A",
    "outputId": "95875a68-fcbc-4826-e3e4-74006c88bbe7"
   },
   "outputs": [
    {
     "name": "stdout",
     "output_type": "stream",
     "text": [
      "[0.05, 0.171, 0.293, 0.414, 0.536, 0.657, 0.779, 0.9]\n"
     ]
    }
   ],
   "source": [
    "# Let's use different pruning percentages for each technique\n",
    "prunePercentages = np.linspace(0.05, 0.90, 8).tolist()\n",
    "print([round(x,3) for x in prunePercentages])"
   ]
  },
  {
   "cell_type": "markdown",
   "metadata": {
    "id": "-JgT32Ai1kzN"
   },
   "source": [
    "### Layerwise Unstructured Pruning"
   ]
  },
  {
   "cell_type": "code",
   "execution_count": 21,
   "metadata": {
    "id": "SWPoFtnM46Ld"
   },
   "outputs": [],
   "source": [
    "def layer_unstructured_prune(model:nn.Module, prunePercentage:float):\n",
    "    for name, module in model.named_modules():\n",
    "        if isinstance(module, torch.nn.Linear):\n",
    "            prune.l1_unstructured(module, name='weight', amount=prunePercentage)\n",
    "    return model"
   ]
  },
  {
   "cell_type": "code",
   "execution_count": 22,
   "metadata": {
    "colab": {
     "base_uri": "https://localhost:8080/"
    },
    "id": "Xz0b8s4r2ube",
    "outputId": "a2491464-0526-49e2-b790-8bc2a30aab69",
    "tags": []
   },
   "outputs": [
    {
     "name": "stderr",
     "output_type": "stream",
     "text": [
      "100%|████████████████████████████████████████| 157/157 [00:01<00:00, 116.80it/s]\n"
     ]
    },
    {
     "name": "stdout",
     "output_type": "stream",
     "text": [
      "\n",
      "Unstructured Prune has 81.80732484076432 Test accuracy on testData\n"
     ]
    },
    {
     "name": "stderr",
     "output_type": "stream",
     "text": [
      "100%|████████████████████████████████████████| 157/157 [00:01<00:00, 112.53it/s]\n"
     ]
    },
    {
     "name": "stdout",
     "output_type": "stream",
     "text": [
      "\n",
      "Unstructured Prune has 81.25 Test accuracy on testData\n"
     ]
    },
    {
     "name": "stderr",
     "output_type": "stream",
     "text": [
      "100%|████████████████████████████████████████| 157/157 [00:01<00:00, 112.60it/s]\n"
     ]
    },
    {
     "name": "stdout",
     "output_type": "stream",
     "text": [
      "\n",
      "Unstructured Prune has 81.09076433121018 Test accuracy on testData\n"
     ]
    },
    {
     "name": "stderr",
     "output_type": "stream",
     "text": [
      "100%|████████████████████████████████████████| 157/157 [00:01<00:00, 111.34it/s]\n"
     ]
    },
    {
     "name": "stdout",
     "output_type": "stream",
     "text": [
      "\n",
      "Unstructured Prune has 82.18550955414013 Test accuracy on testData\n"
     ]
    },
    {
     "name": "stderr",
     "output_type": "stream",
     "text": [
      "100%|████████████████████████████████████████| 157/157 [00:01<00:00, 112.31it/s]\n"
     ]
    },
    {
     "name": "stdout",
     "output_type": "stream",
     "text": [
      "\n",
      "Unstructured Prune has 81.24004777070064 Test accuracy on testData\n"
     ]
    },
    {
     "name": "stderr",
     "output_type": "stream",
     "text": [
      "100%|████████████████████████████████████████| 157/157 [00:01<00:00, 109.84it/s]\n"
     ]
    },
    {
     "name": "stdout",
     "output_type": "stream",
     "text": [
      "\n",
      "Unstructured Prune has 53.57285031847133 Test accuracy on testData\n"
     ]
    },
    {
     "name": "stderr",
     "output_type": "stream",
     "text": [
      "100%|████████████████████████████████████████| 157/157 [00:01<00:00, 110.42it/s]\n"
     ]
    },
    {
     "name": "stdout",
     "output_type": "stream",
     "text": [
      "\n",
      "Unstructured Prune has 18.341958598726116 Test accuracy on testData\n"
     ]
    },
    {
     "name": "stderr",
     "output_type": "stream",
     "text": [
      "100%|████████████████████████████████████████| 157/157 [00:01<00:00, 112.39it/s]"
     ]
    },
    {
     "name": "stdout",
     "output_type": "stream",
     "text": [
      "\n",
      "Unstructured Prune has 19.27746815286624 Test accuracy on testData\n"
     ]
    },
    {
     "name": "stderr",
     "output_type": "stream",
     "text": [
      "\n"
     ]
    }
   ],
   "source": [
    "# placeholder to store results\n",
    "l1_unstructured_accuracies = []\n",
    "\n",
    "# iterate through each prune percentage\n",
    "for perc in prunePercentages:\n",
    "    # load the pretrained model\n",
    "    model = MLPClassifier().to(device)\n",
    "    model.load_state_dict(torch.load(\"./MLP.pt\"))\n",
    "\n",
    "    # prune the model\n",
    "    unStructuredPruneModel = layer_unstructured_prune(model, perc)\n",
    "\n",
    "    # evaluate the pruned model on test data\n",
    "    l1_unstructured_accuracies.append(evaluteOnTestData(unStructuredPruneModel, None, \\\n",
    "          device, test_loader, meanClassificationAccuracyMetric, \"Test accuracy\", \"Unstructured Prune\"))    "
   ]
  },
  {
   "cell_type": "markdown",
   "metadata": {
    "id": "0QVLudIt27QF"
   },
   "source": [
    "### Layerwise structured pruning"
   ]
  },
  {
   "cell_type": "code",
   "execution_count": 23,
   "metadata": {
    "id": "DiTCqPEj4-Pg"
   },
   "outputs": [],
   "source": [
    "def layer_structured_prune(model:nn.Module, prunePercentage:float):\n",
    "    for name, module in model.named_modules():\n",
    "        if isinstance(module, torch.nn.Linear):\n",
    "            prune.ln_structured(module, name='weight', amount=prunePercentage, n=1, dim=0)\n",
    "    return model"
   ]
  },
  {
   "cell_type": "code",
   "execution_count": 24,
   "metadata": {
    "colab": {
     "base_uri": "https://localhost:8080/"
    },
    "id": "Zq3dZc_q3BzQ",
    "outputId": "8724551e-b9ba-4856-c863-13c6a0a73765"
   },
   "outputs": [
    {
     "name": "stderr",
     "output_type": "stream",
     "text": [
      "100%|████████████████████████████████████████| 157/157 [00:01<00:00, 115.01it/s]\n"
     ]
    },
    {
     "name": "stdout",
     "output_type": "stream",
     "text": [
      "\n",
      "structured Prune has 81.76751592356688 Test accuracy on testData\n"
     ]
    },
    {
     "name": "stderr",
     "output_type": "stream",
     "text": [
      "100%|████████████████████████████████████████| 157/157 [00:01<00:00, 113.79it/s]\n"
     ]
    },
    {
     "name": "stdout",
     "output_type": "stream",
     "text": [
      "\n",
      "structured Prune has 69.63574840764332 Test accuracy on testData\n"
     ]
    },
    {
     "name": "stderr",
     "output_type": "stream",
     "text": [
      "100%|████████████████████████████████████████| 157/157 [00:01<00:00, 110.52it/s]\n"
     ]
    },
    {
     "name": "stdout",
     "output_type": "stream",
     "text": [
      "\n",
      "structured Prune has 62.11186305732485 Test accuracy on testData\n"
     ]
    },
    {
     "name": "stderr",
     "output_type": "stream",
     "text": [
      "100%|████████████████████████████████████████| 157/157 [00:01<00:00, 114.04it/s]\n"
     ]
    },
    {
     "name": "stdout",
     "output_type": "stream",
     "text": [
      "\n",
      "structured Prune has 53.80175159235668 Test accuracy on testData\n"
     ]
    },
    {
     "name": "stderr",
     "output_type": "stream",
     "text": [
      "100%|████████████████████████████████████████| 157/157 [00:01<00:00, 115.49it/s]\n"
     ]
    },
    {
     "name": "stdout",
     "output_type": "stream",
     "text": [
      "\n",
      "structured Prune has 45.660828025477706 Test accuracy on testData\n"
     ]
    },
    {
     "name": "stderr",
     "output_type": "stream",
     "text": [
      "100%|████████████████████████████████████████| 157/157 [00:01<00:00, 113.41it/s]\n"
     ]
    },
    {
     "name": "stdout",
     "output_type": "stream",
     "text": [
      "\n",
      "structured Prune has 30.155254777070063 Test accuracy on testData\n"
     ]
    },
    {
     "name": "stderr",
     "output_type": "stream",
     "text": [
      "100%|████████████████████████████████████████| 157/157 [00:01<00:00, 107.15it/s]\n"
     ]
    },
    {
     "name": "stdout",
     "output_type": "stream",
     "text": [
      "\n",
      "structured Prune has 9.394904458598727 Test accuracy on testData\n"
     ]
    },
    {
     "name": "stderr",
     "output_type": "stream",
     "text": [
      "100%|████████████████████████████████████████| 157/157 [00:01<00:00, 112.26it/s]"
     ]
    },
    {
     "name": "stdout",
     "output_type": "stream",
     "text": [
      "\n",
      "structured Prune has 9.982085987261147 Test accuracy on testData\n"
     ]
    },
    {
     "name": "stderr",
     "output_type": "stream",
     "text": [
      "\n"
     ]
    }
   ],
   "source": [
    "# placeholder to store results\n",
    "l1_structured_accuracies = []\n",
    "\n",
    "# iterate through each prune percentage\n",
    "for perc in prunePercentages:\n",
    "    # load the pretrained model\n",
    "    model = MLPClassifier().to(device)\n",
    "    model.load_state_dict(torch.load(\"./MLP.pt\"))\n",
    "\n",
    "    # prune the model\n",
    "    structuredPruneModel = layer_structured_prune(model, perc)\n",
    "\n",
    "    # evaluate the pruned model on test data\n",
    "    l1_structured_accuracies.append(evaluteOnTestData(structuredPruneModel, None, \\\n",
    "          device, test_loader, meanClassificationAccuracyMetric, \"Test accuracy\", \"structured Prune\"))"
   ]
  },
  {
   "cell_type": "markdown",
   "metadata": {
    "id": "qS5wCIUmTDxB"
   },
   "source": [
    "### Global Unstructured Pruning"
   ]
  },
  {
   "cell_type": "code",
   "execution_count": 25,
   "metadata": {
    "id": "xiBEGySO5A5h"
   },
   "outputs": [],
   "source": [
    "def global_unstructured_prune(model:nn.Module, prunePercentage:float):\n",
    "    parameters_to_prune = []\n",
    "    for name, module in model.named_modules():\n",
    "        if isinstance(module, torch.nn.Linear):\n",
    "            parameters_to_prune.append((module, 'weight'))\n",
    "    prune.global_unstructured(parameters_to_prune, pruning_method=prune.L1Unstructured, amount=prunePercentage)\n",
    "    return model"
   ]
  },
  {
   "cell_type": "code",
   "execution_count": 26,
   "metadata": {
    "colab": {
     "base_uri": "https://localhost:8080/"
    },
    "id": "tezp6DKt2ubf",
    "outputId": "09f47104-5bb8-47ac-ba6a-de866983ed1a",
    "tags": []
   },
   "outputs": [
    {
     "name": "stderr",
     "output_type": "stream",
     "text": [
      "100%|████████████████████████████████████████| 157/157 [00:01<00:00, 109.30it/s]\n"
     ]
    },
    {
     "name": "stdout",
     "output_type": "stream",
     "text": [
      "\n",
      "structured Prune has 81.80732484076432 Test accuracy on testData\n"
     ]
    },
    {
     "name": "stderr",
     "output_type": "stream",
     "text": [
      "100%|████████████████████████████████████████| 157/157 [00:01<00:00, 106.25it/s]\n"
     ]
    },
    {
     "name": "stdout",
     "output_type": "stream",
     "text": [
      "\n",
      "structured Prune has 81.48885350318471 Test accuracy on testData\n"
     ]
    },
    {
     "name": "stderr",
     "output_type": "stream",
     "text": [
      "100%|████████████████████████████████████████| 157/157 [00:01<00:00, 108.98it/s]\n"
     ]
    },
    {
     "name": "stdout",
     "output_type": "stream",
     "text": [
      "\n",
      "structured Prune has 81.26990445859873 Test accuracy on testData\n"
     ]
    },
    {
     "name": "stderr",
     "output_type": "stream",
     "text": [
      "100%|████████████████████████████████████████| 157/157 [00:01<00:00, 108.90it/s]\n"
     ]
    },
    {
     "name": "stdout",
     "output_type": "stream",
     "text": [
      "\n",
      "structured Prune has 80.67277070063695 Test accuracy on testData\n"
     ]
    },
    {
     "name": "stderr",
     "output_type": "stream",
     "text": [
      "100%|████████████████████████████████████████| 157/157 [00:01<00:00, 107.55it/s]\n"
     ]
    },
    {
     "name": "stdout",
     "output_type": "stream",
     "text": [
      "\n",
      "structured Prune has 78.29418789808918 Test accuracy on testData\n"
     ]
    },
    {
     "name": "stderr",
     "output_type": "stream",
     "text": [
      "100%|████████████████████████████████████████| 157/157 [00:01<00:00, 110.89it/s]\n"
     ]
    },
    {
     "name": "stdout",
     "output_type": "stream",
     "text": [
      "\n",
      "structured Prune has 64.01273885350318 Test accuracy on testData\n"
     ]
    },
    {
     "name": "stderr",
     "output_type": "stream",
     "text": [
      "100%|████████████████████████████████████████| 157/157 [00:01<00:00, 112.69it/s]\n"
     ]
    },
    {
     "name": "stdout",
     "output_type": "stream",
     "text": [
      "\n",
      "structured Prune has 16.66998407643312 Test accuracy on testData\n"
     ]
    },
    {
     "name": "stderr",
     "output_type": "stream",
     "text": [
      "100%|████████████████████████████████████████| 157/157 [00:01<00:00, 111.37it/s]"
     ]
    },
    {
     "name": "stdout",
     "output_type": "stream",
     "text": [
      "\n",
      "structured Prune has 5.085589171974522 Test accuracy on testData\n"
     ]
    },
    {
     "name": "stderr",
     "output_type": "stream",
     "text": [
      "\n"
     ]
    }
   ],
   "source": [
    "# placeholder to store results\n",
    "global_prune_accuracies = []\n",
    "\n",
    "# iterate through each prune percentage\n",
    "for perc in prunePercentages:\n",
    "    # load the pretrained model\n",
    "    model = MLPClassifier().to(device)\n",
    "    model.load_state_dict(torch.load(\"./MLP.pt\"))\n",
    "\n",
    "    # prune the model\n",
    "    globalPruneModel = global_unstructured_prune(model, perc)\n",
    "\n",
    "    # evaluate the pruned model on test data\n",
    "    global_prune_accuracies.append(evaluteOnTestData(globalPruneModel, None, \\\n",
    "          device, test_loader, meanClassificationAccuracyMetric, \"Test accuracy\", \"structured Prune\"))    "
   ]
  },
  {
   "cell_type": "markdown",
   "metadata": {
    "id": "Oeb5myYYTNAG"
   },
   "source": [
    "## 5 - **Analysis**: Visualize the results and find the best!\n"
   ]
  },
  {
   "cell_type": "code",
   "execution_count": 27,
   "metadata": {
    "colab": {
     "base_uri": "https://localhost:8080/",
     "height": 295
    },
    "id": "4srTWA7hTS5q",
    "outputId": "ba2e72a0-bef5-4cbd-a4e1-1d7db38a2484"
   },
   "outputs": [
    {
     "data": {
      "image/png": "[encoded data removed]",
      "text/plain": [
       "<Figure size 576x288 with 1 Axes>"
      ]
     },
     "metadata": {
      "needs_background": "light"
     },
     "output_type": "display_data"
    }
   ],
   "source": [
    "fig, ax = plt.subplots(1,1,figsize=(8,4))\n",
    "ax.plot(np.array(prunePercentages) * 100.0, np.array(l1_unstructured_accuracies), label='Layerwise Unstructured')\n",
    "ax.plot(np.array(prunePercentages) * 100.0, np.array(l1_structured_accuracies), label='Layerwise Structured')\n",
    "ax.plot(np.array(prunePercentages) * 100.0, np.array(global_prune_accuracies), label='Global Unstructured')\n",
    "ax.set(xlabel ='Prune percentage (Sparsity) %', ylabel = 'Test set Accuracy (%)', title = 'METRICS FOR DIFFERENT PRUNING TECHNIQUES')\n",
    "ax.legend()\n",
    "ax.grid(True)\n",
    "plt.show()"
   ]
  },
  {
   "cell_type": "markdown",
   "metadata": {
    "id": "rpTK594T5yhW"
   },
   "source": [
    "—— Observations\n",
    "\n",
    " - We can observe that even at ~55% Sparsity, layer wise unstructured pruning techniques maintain ~75% test accuracy.\n",
    " - Beyond a threshold (60% in our case), test accuracy drops significantly for all 3 techniques indicating the model is not able to capture enough information with the remaining weights\n",
    " - At least in our case, structured pruning is worse than unstructured pruning. "
   ]
  },
  {
   "cell_type": "markdown",
   "metadata": {
    "id": "TQUhHUxAKSb4"
   },
   "source": [
    "### Model Metrics"
   ]
  },
  {
   "cell_type": "markdown",
   "metadata": {
    "id": "exi5A2A0K0QR"
   },
   "source": [
    "#### Unstructured"
   ]
  },
  {
   "cell_type": "code",
   "execution_count": 31,
   "metadata": {},
   "outputs": [
    {
     "name": "stdout",
     "output_type": "stream",
     "text": [
      "Model Size:  0.847 Mb\n",
      "File Size:  0.892 Mb\n",
      "Inference Time:  0.00019 s\n",
      "Mega FLOPS:  0.443648\n",
      "Mega MACs:  0.221824\n",
      "Mega Params:  0.111146\n"
     ]
    }
   ],
   "source": [
    "model = MLPClassifier().to(device)\n",
    "model.load_state_dict(torch.load(\"./MLP.pt\"))\n",
    "print_model_metrics(unStructuredPruneModel, random_input)"
   ]
  },
  {
   "cell_type": "code",
   "execution_count": 28,
   "metadata": {
    "colab": {
     "base_uri": "https://localhost:8080/"
    },
    "id": "qrHqpijGKT31",
    "outputId": "63e42356-0494-4088-d4a5-d6e4928dc7ef"
   },
   "outputs": [
    {
     "name": "stdout",
     "output_type": "stream",
     "text": [
      "Model Size:  0.847 Mb\n",
      "File Size:  0.892 Mb\n",
      "Inference Time:  0.00018 s\n",
      "Mega FLOPS:  0.443648\n",
      "Mega MACs:  0.221824\n",
      "Mega Params:  0.111146\n"
     ]
    }
   ],
   "source": [
    "model = MLPClassifier().to(device)\n",
    "model.load_state_dict(torch.load(\"./MLP.pt\"))\n",
    "unStructuredPruneModel = layer_unstructured_prune(model, 0.3)\n",
    "\n",
    "print_model_metrics(unStructuredPruneModel, random_input)"
   ]
  },
  {
   "cell_type": "markdown",
   "metadata": {
    "id": "nqPDmsVrLjys"
   },
   "source": [
    "#### Structured"
   ]
  },
  {
   "cell_type": "code",
   "execution_count": 29,
   "metadata": {
    "colab": {
     "base_uri": "https://localhost:8080/"
    },
    "id": "HAcyEzVhLlBl",
    "outputId": "cf067a9c-bdfd-4f13-e6e6-a388ab910136"
   },
   "outputs": [
    {
     "name": "stdout",
     "output_type": "stream",
     "text": [
      "Model Size:  0.847 Mb\n",
      "File Size:  0.892 Mb\n",
      "Inference Time:  0.00019 s\n",
      "Mega FLOPS:  0.443648\n",
      "Mega MACs:  0.221824\n",
      "Mega Params:  0.111146\n"
     ]
    }
   ],
   "source": [
    "model = MLPClassifier().to(device)\n",
    "model.load_state_dict(torch.load(\"./MLP.pt\"))\n",
    "StructuredPruneModel = layer_structured_prune(model, 0.1)\n",
    "\n",
    "print_model_metrics(StructuredPruneModel, random_input)"
   ]
  },
  {
   "cell_type": "markdown",
   "metadata": {
    "id": "2QVQT970MDZj"
   },
   "source": [
    "### Global"
   ]
  },
  {
   "cell_type": "code",
   "execution_count": 30,
   "metadata": {
    "colab": {
     "base_uri": "https://localhost:8080/"
    },
    "id": "NuUjt9N_MEpb",
    "outputId": "cf77c3a9-6663-42ba-ea78-f2f43d1c2ed9"
   },
   "outputs": [
    {
     "name": "stdout",
     "output_type": "stream",
     "text": [
      "Model Size:  0.847 Mb\n",
      "File Size:  0.892 Mb\n",
      "Inference Time:  0.0002 s\n",
      "Mega FLOPS:  0.443648\n",
      "Mega MACs:  0.221824\n",
      "Mega Params:  0.111146\n"
     ]
    }
   ],
   "source": [
    "model = MLPClassifier().to(device)\n",
    "model.load_state_dict(torch.load(\"./MLP.pt\"))\n",
    "globalPruneModel = global_unstructured_prune(model, 0.9414)\n",
    "\n",
    "print_model_metrics(globalPruneModel, random_input)"
   ]
  },
  {
   "cell_type": "markdown",
   "metadata": {
    "id": "w1vYe8u69ikW"
   },
   "source": [
    "**Now, let's plot all 4 layers of our custom model and see how different techiques have pruned weights**"
   ]
  },
  {
   "cell_type": "code",
   "execution_count": 32,
   "metadata": {
    "id": "g_LtAMphdSqN"
   },
   "outputs": [],
   "source": [
    "import matplotlib\n",
    "import matplotlib.patches as mpatches\n",
    "\n",
    "binary_cmap = matplotlib.colors.ListedColormap(['#3D99FF', '#7F7F7F'])\n",
    "patchList = []\n",
    "for lab,c in zip([False, True], ['#3D99FF', '#7F7F7F']):\n",
    "    patchList.append(mpatches.Patch(color=c, label=lab))\n",
    "\n",
    "def plot_tensor_mask(pt_tensor, ax=None):\n",
    "  z_np = pt_tensor.detach().cpu().numpy()\n",
    "  ln = ax.imshow(z_np, cmap = binary_cmap)\n",
    "  ax.axis('off')\n",
    "  return ln"
   ]
  },
  {
   "cell_type": "code",
   "execution_count": 33,
   "metadata": {
    "id": "-zP9ADHA90fh"
   },
   "outputs": [
    {
     "name": "stderr",
     "output_type": "stream",
     "text": [
      "<>:15: SyntaxWarning: \"is not\" with a literal. Did you mean \"!=\"?\n",
      "<>:15: SyntaxWarning: \"is not\" with a literal. Did you mean \"!=\"?\n",
      "/tmp/ipykernel_50102/3520770426.py:15: SyntaxWarning: \"is not\" with a literal. Did you mean \"!=\"?\n",
      "  if title is not '':\n"
     ]
    }
   ],
   "source": [
    "def plot_custom_model(model, title=''):\n",
    "  fig, axes = plt.subplots(1,4,figsize=(16, 4), gridspec_kw={'width_ratios': [7,5,3,1]})\n",
    "\n",
    "  model_masks = dict(model.named_buffers())\n",
    "  plot_tensor_mask(model_masks['fc1.weight_mask'], axes[0])\n",
    "  plot_tensor_mask(model_masks['fc2.weight_mask'], axes[1])\n",
    "  plot_tensor_mask(model_masks['fc3.weight_mask'], axes[2])\n",
    "  plot_tensor_mask(model_masks['fc4.weight_mask'], axes[3])\n",
    "  \n",
    "  axes[0].set_title('FC Layer1')\n",
    "  axes[1].set_title('FC Layer2')\n",
    "  axes[2].set_title('FC Layer3')\n",
    "  axes[3].set_title('FC Layer4')\n",
    "  \n",
    "  if title is not '':\n",
    "    plt.suptitle(title)"
   ]
  },
  {
   "cell_type": "code",
   "execution_count": 34,
   "metadata": {
    "colab": {
     "base_uri": "https://localhost:8080/",
     "height": 220
    },
    "id": "vuFJy6PV-iok",
    "outputId": "043666dc-d314-4e23-c9b1-b0a4e962c62c"
   },
   "outputs": [
    {
     "data": {
      "image/png": "[encoded data removed]",
      "text/plain": [
       "<Figure size 1152x288 with 4 Axes>"
      ]
     },
     "metadata": {
      "needs_background": "light"
     },
     "output_type": "display_data"
    }
   ],
   "source": [
    "plot_custom_model(unStructuredPruneModel, title='Unstructured Pruned Model')"
   ]
  },
  {
   "cell_type": "code",
   "execution_count": 35,
   "metadata": {
    "colab": {
     "base_uri": "https://localhost:8080/",
     "height": 220
    },
    "id": "wcYSimd5_nil",
    "outputId": "dea15fc5-fcf6-47fe-fb3f-4066c06cd6d7"
   },
   "outputs": [
    {
     "data": {
      "image/png": "[encoded data removed]",
      "text/plain": [
       "<Figure size 1152x288 with 4 Axes>"
      ]
     },
     "metadata": {
      "needs_background": "light"
     },
     "output_type": "display_data"
    }
   ],
   "source": [
    "plot_custom_model(structuredPruneModel, title='Structured Pruned Model')"
   ]
  },
  {
   "cell_type": "code",
   "execution_count": 36,
   "metadata": {
    "colab": {
     "base_uri": "https://localhost:8080/",
     "height": 220
    },
    "id": "WQxkWt7X_m-J",
    "outputId": "476903db-ecb3-49e5-dc58-91e6e7116ef2"
   },
   "outputs": [
    {
     "data": {
      "image/png": "[encoded data removed]",
      "text/plain": [
       "<Figure size 1152x288 with 4 Axes>"
      ]
     },
     "metadata": {
      "needs_background": "light"
     },
     "output_type": "display_data"
    }
   ],
   "source": [
    "plot_custom_model(globalPruneModel, 'Global Unstructured Pruned Model')"
   ]
  },
  {
   "cell_type": "markdown",
   "metadata": {
    "id": "v7XF7eJddRMZ"
   },
   "source": [
    "### Notes —\n",
    "\n",
    "Now that we pruned majority of our model, what performance improvement can we expect?\n",
    "\n",
    "- For now, ***Pytorch pruning doesn't improve the runtime performance of the model. This is because, even though large percentage of weights can be set to zero, the forward pass still uses operations on the entire dense tensors of the model***\n",
    "- ***Sparse tensor operations functionality is still very limited in Pytorch, but it has plans to incorporate optimizations to see effects of Pruning in production systems***\n",
    "- To truly see the effect of the different pruning methods, we need to use a separate library that can optimize the model for pruned weights and apply it to production or recreate the pruned model structure from scratch"
   ]
  }
 ],
 "metadata": {
  "accelerator": "GPU",
  "colab": {
   "collapsed_sections": [],
   "name": "Model_Pruning.ipynb",
   "provenance": []
  },
  "kernelspec": {
   "display_name": "Python 3 (ipykernel)",
   "language": "python",
   "name": "python3"
  },
  "language_info": {
   "codemirror_mode": {
    "name": "ipython",
    "version": 3
   },
   "file_extension": ".py",
   "mimetype": "text/x-python",
   "name": "python",
   "nbconvert_exporter": "python",
   "pygments_lexer": "ipython3",
   "version": "3.9.10"
  },
  "widgets": {
   "application/vnd.jupyter.widget-state+json": {
    "0031de63bda8443883b3f27e23d22bfa": {
     "model_module": "@jupyter-widgets/controls",
     "model_module_version": "1.5.0",
     "model_name": "HTMLModel",
     "state": {
      "_dom_classes": [],
      "_model_module": "@jupyter-widgets/controls",
      "_model_module_version": "1.5.0",
      "_model_name": "HTMLModel",
      "_view_count": null,
      "_view_module": "@jupyter-widgets/controls",
      "_view_module_version": "1.5.0",
      "_view_name": "HTMLView",
      "description": "",
      "description_tooltip": null,
      "layout": "IPY_MODEL_b95aa26cfd6f4bc588aa9d0abdaddec5",
      "placeholder": "​",
      "style": "IPY_MODEL_dc2d4d7a1dca4c9e9526242261df80d4",
      "value": ""
     }
    },
    "0d21f8c937dd4735a105f96362b91ff3": {
     "model_module": "@jupyter-widgets/controls",
     "model_module_version": "1.5.0",
     "model_name": "ProgressStyleModel",
     "state": {
      "_model_module": "@jupyter-widgets/controls",
      "_model_module_version": "1.5.0",
      "_model_name": "ProgressStyleModel",
      "_view_count": null,
      "_view_module": "@jupyter-widgets/base",
      "_view_module_version": "1.2.0",
      "_view_name": "StyleView",
      "bar_color": null,
      "description_width": ""
     }
    },
    "0d4c7f55c62e47c5a6ee5b7f0d93ab80": {
     "model_module": "@jupyter-widgets/base",
     "model_module_version": "1.2.0",
     "model_name": "LayoutModel",
     "state": {
      "_model_module": "@jupyter-widgets/base",
      "_model_module_version": "1.2.0",
      "_model_name": "LayoutModel",
      "_view_count": null,
      "_view_module": "@jupyter-widgets/base",
      "_view_module_version": "1.2.0",
      "_view_name": "LayoutView",
      "align_content": null,
      "align_items": null,
      "align_self": null,
      "border": null,
      "bottom": null,
      "display": null,
      "flex": null,
      "flex_flow": null,
      "grid_area": null,
      "grid_auto_columns": null,
      "grid_auto_flow": null,
      "grid_auto_rows": null,
      "grid_column": null,
      "grid_gap": null,
      "grid_row": null,
      "grid_template_areas": null,
      "grid_template_columns": null,
      "grid_template_rows": null,
      "height": null,
      "justify_content": null,
      "justify_items": null,
      "left": null,
      "margin": null,
      "max_height": null,
      "max_width": null,
      "min_height": null,
      "min_width": null,
      "object_fit": null,
      "object_position": null,
      "order": null,
      "overflow": null,
      "overflow_x": null,
      "overflow_y": null,
      "padding": null,
      "right": null,
      "top": null,
      "visibility": null,
      "width": null
     }
    },
    "0e15fc0b13ad4be6955c5ece4c4b31b7": {
     "model_module": "@jupyter-widgets/controls",
     "model_module_version": "1.5.0",
     "model_name": "DescriptionStyleModel",
     "state": {
      "_model_module": "@jupyter-widgets/controls",
      "_model_module_version": "1.5.0",
      "_model_name": "DescriptionStyleModel",
      "_view_count": null,
      "_view_module": "@jupyter-widgets/base",
      "_view_module_version": "1.2.0",
      "_view_name": "StyleView",
      "description_width": ""
     }
    },
    "10501efaa36b4ea39db4906dba3de686": {
     "model_module": "@jupyter-widgets/controls",
     "model_module_version": "1.5.0",
     "model_name": "FloatProgressModel",
     "state": {
      "_dom_classes": [],
      "_model_module": "@jupyter-widgets/controls",
      "_model_module_version": "1.5.0",
      "_model_name": "FloatProgressModel",
      "_view_count": null,
      "_view_module": "@jupyter-widgets/controls",
      "_view_module_version": "1.5.0",
      "_view_name": "ProgressView",
      "bar_style": "success",
      "description": "",
      "description_tooltip": null,
      "layout": "IPY_MODEL_511a20ce01e04b19addd2e1e0dbb7784",
      "max": 29515,
      "min": 0,
      "orientation": "horizontal",
      "style": "IPY_MODEL_a4136b02c8c84c6e873b05a170588352",
      "value": 29515
     }
    },
    "1b95584eb73a4cdba35818b52064321b": {
     "model_module": "@jupyter-widgets/controls",
     "model_module_version": "1.5.0",
     "model_name": "HBoxModel",
     "state": {
      "_dom_classes": [],
      "_model_module": "@jupyter-widgets/controls",
      "_model_module_version": "1.5.0",
      "_model_name": "HBoxModel",
      "_view_count": null,
      "_view_module": "@jupyter-widgets/controls",
      "_view_module_version": "1.5.0",
      "_view_name": "HBoxView",
      "box_style": "",
      "children": [
       "IPY_MODEL_91bb7435a18d4d1885995c3c800f2d5c",
       "IPY_MODEL_10501efaa36b4ea39db4906dba3de686",
       "IPY_MODEL_2c0ac29438ff44ea8000778caf0b922f"
      ],
      "layout": "IPY_MODEL_699a8d14367e4967a98daf60ce131265"
     }
    },
    "1ee44a5d51fa402aa813fb321b9dbf26": {
     "model_module": "@jupyter-widgets/base",
     "model_module_version": "1.2.0",
     "model_name": "LayoutModel",
     "state": {
      "_model_module": "@jupyter-widgets/base",
      "_model_module_version": "1.2.0",
      "_model_name": "LayoutModel",
      "_view_count": null,
      "_view_module": "@jupyter-widgets/base",
      "_view_module_version": "1.2.0",
      "_view_name": "LayoutView",
      "align_content": null,
      "align_items": null,
      "align_self": null,
      "border": null,
      "bottom": null,
      "display": null,
      "flex": null,
      "flex_flow": null,
      "grid_area": null,
      "grid_auto_columns": null,
      "grid_auto_flow": null,
      "grid_auto_rows": null,
      "grid_column": null,
      "grid_gap": null,
      "grid_row": null,
      "grid_template_areas": null,
      "grid_template_columns": null,
      "grid_template_rows": null,
      "height": null,
      "justify_content": null,
      "justify_items": null,
      "left": null,
      "margin": null,
      "max_height": null,
      "max_width": null,
      "min_height": null,
      "min_width": null,
      "object_fit": null,
      "object_position": null,
      "order": null,
      "overflow": null,
      "overflow_x": null,
      "overflow_y": null,
      "padding": null,
      "right": null,
      "top": null,
      "visibility": null,
      "width": null
     }
    },
    "20d318f0fd8d4f52896515dc3369038d": {
     "model_module": "@jupyter-widgets/controls",
     "model_module_version": "1.5.0",
     "model_name": "DescriptionStyleModel",
     "state": {
      "_model_module": "@jupyter-widgets/controls",
      "_model_module_version": "1.5.0",
      "_model_name": "DescriptionStyleModel",
      "_view_count": null,
      "_view_module": "@jupyter-widgets/base",
      "_view_module_version": "1.2.0",
      "_view_name": "StyleView",
      "description_width": ""
     }
    },
    "29344fe288744e1da6957323980d9bb6": {
     "model_module": "@jupyter-widgets/base",
     "model_module_version": "1.2.0",
     "model_name": "LayoutModel",
     "state": {
      "_model_module": "@jupyter-widgets/base",
      "_model_module_version": "1.2.0",
      "_model_name": "LayoutModel",
      "_view_count": null,
      "_view_module": "@jupyter-widgets/base",
      "_view_module_version": "1.2.0",
      "_view_name": "LayoutView",
      "align_content": null,
      "align_items": null,
      "align_self": null,
      "border": null,
      "bottom": null,
      "display": null,
      "flex": null,
      "flex_flow": null,
      "grid_area": null,
      "grid_auto_columns": null,
      "grid_auto_flow": null,
      "grid_auto_rows": null,
      "grid_column": null,
      "grid_gap": null,
      "grid_row": null,
      "grid_template_areas": null,
      "grid_template_columns": null,
      "grid_template_rows": null,
      "height": null,
      "justify_content": null,
      "justify_items": null,
      "left": null,
      "margin": null,
      "max_height": null,
      "max_width": null,
      "min_height": null,
      "min_width": null,
      "object_fit": null,
      "object_position": null,
      "order": null,
      "overflow": null,
      "overflow_x": null,
      "overflow_y": null,
      "padding": null,
      "right": null,
      "top": null,
      "visibility": null,
      "width": null
     }
    },
    "2c0ac29438ff44ea8000778caf0b922f": {
     "model_module": "@jupyter-widgets/controls",
     "model_module_version": "1.5.0",
     "model_name": "HTMLModel",
     "state": {
      "_dom_classes": [],
      "_model_module": "@jupyter-widgets/controls",
      "_model_module_version": "1.5.0",
      "_model_name": "HTMLModel",
      "_view_count": null,
      "_view_module": "@jupyter-widgets/controls",
      "_view_module_version": "1.5.0",
      "_view_name": "HTMLView",
      "description": "",
      "description_tooltip": null,
      "layout": "IPY_MODEL_701ef6cef2514f18b1c2639eff9a8151",
      "placeholder": "​",
      "style": "IPY_MODEL_0e15fc0b13ad4be6955c5ece4c4b31b7",
      "value": " 29696/? [00:00&lt;00:00, 7943.77it/s]"
     }
    },
    "2f46a4d1047f49ef8637cf3de783734a": {
     "model_module": "@jupyter-widgets/controls",
     "model_module_version": "1.5.0",
     "model_name": "FloatProgressModel",
     "state": {
      "_dom_classes": [],
      "_model_module": "@jupyter-widgets/controls",
      "_model_module_version": "1.5.0",
      "_model_name": "FloatProgressModel",
      "_view_count": null,
      "_view_module": "@jupyter-widgets/controls",
      "_view_module_version": "1.5.0",
      "_view_name": "ProgressView",
      "bar_style": "success",
      "description": "",
      "description_tooltip": null,
      "layout": "IPY_MODEL_0d4c7f55c62e47c5a6ee5b7f0d93ab80",
      "max": 26421880,
      "min": 0,
      "orientation": "horizontal",
      "style": "IPY_MODEL_adef194977a6435ca3e2222b3c57faad",
      "value": 26421880
     }
    },
    "3669d9fe14e5480381c33cb0beeba4df": {
     "model_module": "@jupyter-widgets/controls",
     "model_module_version": "1.5.0",
     "model_name": "HBoxModel",
     "state": {
      "_dom_classes": [],
      "_model_module": "@jupyter-widgets/controls",
      "_model_module_version": "1.5.0",
      "_model_name": "HBoxModel",
      "_view_count": null,
      "_view_module": "@jupyter-widgets/controls",
      "_view_module_version": "1.5.0",
      "_view_name": "HBoxView",
      "box_style": "",
      "children": [
       "IPY_MODEL_66a27f11b0e3461da8c22dd9e076ba74",
       "IPY_MODEL_cff2786b442c4c1ba4c3fb74f363cc2f",
       "IPY_MODEL_724030ca42324d79a36f2ff257e0d723"
      ],
      "layout": "IPY_MODEL_433444dde344417380a56738acb37da0"
     }
    },
    "433444dde344417380a56738acb37da0": {
     "model_module": "@jupyter-widgets/base",
     "model_module_version": "1.2.0",
     "model_name": "LayoutModel",
     "state": {
      "_model_module": "@jupyter-widgets/base",
      "_model_module_version": "1.2.0",
      "_model_name": "LayoutModel",
      "_view_count": null,
      "_view_module": "@jupyter-widgets/base",
      "_view_module_version": "1.2.0",
      "_view_name": "LayoutView",
      "align_content": null,
      "align_items": null,
      "align_self": null,
      "border": null,
      "bottom": null,
      "display": null,
      "flex": null,
      "flex_flow": null,
      "grid_area": null,
      "grid_auto_columns": null,
      "grid_auto_flow": null,
      "grid_auto_rows": null,
      "grid_column": null,
      "grid_gap": null,
      "grid_row": null,
      "grid_template_areas": null,
      "grid_template_columns": null,
      "grid_template_rows": null,
      "height": null,
      "justify_content": null,
      "justify_items": null,
      "left": null,
      "margin": null,
      "max_height": null,
      "max_width": null,
      "min_height": null,
      "min_width": null,
      "object_fit": null,
      "object_position": null,
      "order": null,
      "overflow": null,
      "overflow_x": null,
      "overflow_y": null,
      "padding": null,
      "right": null,
      "top": null,
      "visibility": null,
      "width": null
     }
    },
    "43f246205a9645039077650a3aff3279": {
     "model_module": "@jupyter-widgets/controls",
     "model_module_version": "1.5.0",
     "model_name": "DescriptionStyleModel",
     "state": {
      "_model_module": "@jupyter-widgets/controls",
      "_model_module_version": "1.5.0",
      "_model_name": "DescriptionStyleModel",
      "_view_count": null,
      "_view_module": "@jupyter-widgets/base",
      "_view_module_version": "1.2.0",
      "_view_name": "StyleView",
      "description_width": ""
     }
    },
    "4535ec0e1d654d40b9672e58d7d15bc1": {
     "model_module": "@jupyter-widgets/base",
     "model_module_version": "1.2.0",
     "model_name": "LayoutModel",
     "state": {
      "_model_module": "@jupyter-widgets/base",
      "_model_module_version": "1.2.0",
      "_model_name": "LayoutModel",
      "_view_count": null,
      "_view_module": "@jupyter-widgets/base",
      "_view_module_version": "1.2.0",
      "_view_name": "LayoutView",
      "align_content": null,
      "align_items": null,
      "align_self": null,
      "border": null,
      "bottom": null,
      "display": null,
      "flex": null,
      "flex_flow": null,
      "grid_area": null,
      "grid_auto_columns": null,
      "grid_auto_flow": null,
      "grid_auto_rows": null,
      "grid_column": null,
      "grid_gap": null,
      "grid_row": null,
      "grid_template_areas": null,
      "grid_template_columns": null,
      "grid_template_rows": null,
      "height": null,
      "justify_content": null,
      "justify_items": null,
      "left": null,
      "margin": null,
      "max_height": null,
      "max_width": null,
      "min_height": null,
      "min_width": null,
      "object_fit": null,
      "object_position": null,
      "order": null,
      "overflow": null,
      "overflow_x": null,
      "overflow_y": null,
      "padding": null,
      "right": null,
      "top": null,
      "visibility": null,
      "width": null
     }
    },
    "454a794c7b4a470e8f6cc99c03bd48a4": {
     "model_module": "@jupyter-widgets/controls",
     "model_module_version": "1.5.0",
     "model_name": "DescriptionStyleModel",
     "state": {
      "_model_module": "@jupyter-widgets/controls",
      "_model_module_version": "1.5.0",
      "_model_name": "DescriptionStyleModel",
      "_view_count": null,
      "_view_module": "@jupyter-widgets/base",
      "_view_module_version": "1.2.0",
      "_view_name": "StyleView",
      "description_width": ""
     }
    },
    "511a20ce01e04b19addd2e1e0dbb7784": {
     "model_module": "@jupyter-widgets/base",
     "model_module_version": "1.2.0",
     "model_name": "LayoutModel",
     "state": {
      "_model_module": "@jupyter-widgets/base",
      "_model_module_version": "1.2.0",
      "_model_name": "LayoutModel",
      "_view_count": null,
      "_view_module": "@jupyter-widgets/base",
      "_view_module_version": "1.2.0",
      "_view_name": "LayoutView",
      "align_content": null,
      "align_items": null,
      "align_self": null,
      "border": null,
      "bottom": null,
      "display": null,
      "flex": null,
      "flex_flow": null,
      "grid_area": null,
      "grid_auto_columns": null,
      "grid_auto_flow": null,
      "grid_auto_rows": null,
      "grid_column": null,
      "grid_gap": null,
      "grid_row": null,
      "grid_template_areas": null,
      "grid_template_columns": null,
      "grid_template_rows": null,
      "height": null,
      "justify_content": null,
      "justify_items": null,
      "left": null,
      "margin": null,
      "max_height": null,
      "max_width": null,
      "min_height": null,
      "min_width": null,
      "object_fit": null,
      "object_position": null,
      "order": null,
      "overflow": null,
      "overflow_x": null,
      "overflow_y": null,
      "padding": null,
      "right": null,
      "top": null,
      "visibility": null,
      "width": null
     }
    },
    "53ec29c29e484e3eba23c9842bd0ec69": {
     "model_module": "@jupyter-widgets/controls",
     "model_module_version": "1.5.0",
     "model_name": "HTMLModel",
     "state": {
      "_dom_classes": [],
      "_model_module": "@jupyter-widgets/controls",
      "_model_module_version": "1.5.0",
      "_model_name": "HTMLModel",
      "_view_count": null,
      "_view_module": "@jupyter-widgets/controls",
      "_view_module_version": "1.5.0",
      "_view_name": "HTMLView",
      "description": "",
      "description_tooltip": null,
      "layout": "IPY_MODEL_f9c8f09d16b04efdbe301374be3e9f82",
      "placeholder": "​",
      "style": "IPY_MODEL_cb91fab2dd2b4d8fab854cb7e9ebae07",
      "value": " 4422656/? [00:00&lt;00:00, 7319624.75it/s]"
     }
    },
    "5419f31d0e584039b566cdf73d9b249c": {
     "model_module": "@jupyter-widgets/controls",
     "model_module_version": "1.5.0",
     "model_name": "HBoxModel",
     "state": {
      "_dom_classes": [],
      "_model_module": "@jupyter-widgets/controls",
      "_model_module_version": "1.5.0",
      "_model_name": "HBoxModel",
      "_view_count": null,
      "_view_module": "@jupyter-widgets/controls",
      "_view_module_version": "1.5.0",
      "_view_name": "HBoxView",
      "box_style": "",
      "children": [
       "IPY_MODEL_92fd242b548a46d38cc05baf7e3629c6",
       "IPY_MODEL_2f46a4d1047f49ef8637cf3de783734a",
       "IPY_MODEL_f01961e66e27419f965953f9a0af405c"
      ],
      "layout": "IPY_MODEL_d43db767f34a4c209b6cdf44243c1ea2"
     }
    },
    "660f83608450413db6501f546ad1690e": {
     "model_module": "@jupyter-widgets/base",
     "model_module_version": "1.2.0",
     "model_name": "LayoutModel",
     "state": {
      "_model_module": "@jupyter-widgets/base",
      "_model_module_version": "1.2.0",
      "_model_name": "LayoutModel",
      "_view_count": null,
      "_view_module": "@jupyter-widgets/base",
      "_view_module_version": "1.2.0",
      "_view_name": "LayoutView",
      "align_content": null,
      "align_items": null,
      "align_self": null,
      "border": null,
      "bottom": null,
      "display": null,
      "flex": null,
      "flex_flow": null,
      "grid_area": null,
      "grid_auto_columns": null,
      "grid_auto_flow": null,
      "grid_auto_rows": null,
      "grid_column": null,
      "grid_gap": null,
      "grid_row": null,
      "grid_template_areas": null,
      "grid_template_columns": null,
      "grid_template_rows": null,
      "height": null,
      "justify_content": null,
      "justify_items": null,
      "left": null,
      "margin": null,
      "max_height": null,
      "max_width": null,
      "min_height": null,
      "min_width": null,
      "object_fit": null,
      "object_position": null,
      "order": null,
      "overflow": null,
      "overflow_x": null,
      "overflow_y": null,
      "padding": null,
      "right": null,
      "top": null,
      "visibility": null,
      "width": null
     }
    },
    "66a27f11b0e3461da8c22dd9e076ba74": {
     "model_module": "@jupyter-widgets/controls",
     "model_module_version": "1.5.0",
     "model_name": "HTMLModel",
     "state": {
      "_dom_classes": [],
      "_model_module": "@jupyter-widgets/controls",
      "_model_module_version": "1.5.0",
      "_model_name": "HTMLModel",
      "_view_count": null,
      "_view_module": "@jupyter-widgets/controls",
      "_view_module_version": "1.5.0",
      "_view_name": "HTMLView",
      "description": "",
      "description_tooltip": null,
      "layout": "IPY_MODEL_660f83608450413db6501f546ad1690e",
      "placeholder": "​",
      "style": "IPY_MODEL_fa386d49419d4361a6339a36402dd899",
      "value": ""
     }
    },
    "699a8d14367e4967a98daf60ce131265": {
     "model_module": "@jupyter-widgets/base",
     "model_module_version": "1.2.0",
     "model_name": "LayoutModel",
     "state": {
      "_model_module": "@jupyter-widgets/base",
      "_model_module_version": "1.2.0",
      "_model_name": "LayoutModel",
      "_view_count": null,
      "_view_module": "@jupyter-widgets/base",
      "_view_module_version": "1.2.0",
      "_view_name": "LayoutView",
      "align_content": null,
      "align_items": null,
      "align_self": null,
      "border": null,
      "bottom": null,
      "display": null,
      "flex": null,
      "flex_flow": null,
      "grid_area": null,
      "grid_auto_columns": null,
      "grid_auto_flow": null,
      "grid_auto_rows": null,
      "grid_column": null,
      "grid_gap": null,
      "grid_row": null,
      "grid_template_areas": null,
      "grid_template_columns": null,
      "grid_template_rows": null,
      "height": null,
      "justify_content": null,
      "justify_items": null,
      "left": null,
      "margin": null,
      "max_height": null,
      "max_width": null,
      "min_height": null,
      "min_width": null,
      "object_fit": null,
      "object_position": null,
      "order": null,
      "overflow": null,
      "overflow_x": null,
      "overflow_y": null,
      "padding": null,
      "right": null,
      "top": null,
      "visibility": null,
      "width": null
     }
    },
    "701ef6cef2514f18b1c2639eff9a8151": {
     "model_module": "@jupyter-widgets/base",
     "model_module_version": "1.2.0",
     "model_name": "LayoutModel",
     "state": {
      "_model_module": "@jupyter-widgets/base",
      "_model_module_version": "1.2.0",
      "_model_name": "LayoutModel",
      "_view_count": null,
      "_view_module": "@jupyter-widgets/base",
      "_view_module_version": "1.2.0",
      "_view_name": "LayoutView",
      "align_content": null,
      "align_items": null,
      "align_self": null,
      "border": null,
      "bottom": null,
      "display": null,
      "flex": null,
      "flex_flow": null,
      "grid_area": null,
      "grid_auto_columns": null,
      "grid_auto_flow": null,
      "grid_auto_rows": null,
      "grid_column": null,
      "grid_gap": null,
      "grid_row": null,
      "grid_template_areas": null,
      "grid_template_columns": null,
      "grid_template_rows": null,
      "height": null,
      "justify_content": null,
      "justify_items": null,
      "left": null,
      "margin": null,
      "max_height": null,
      "max_width": null,
      "min_height": null,
      "min_width": null,
      "object_fit": null,
      "object_position": null,
      "order": null,
      "overflow": null,
      "overflow_x": null,
      "overflow_y": null,
      "padding": null,
      "right": null,
      "top": null,
      "visibility": null,
      "width": null
     }
    },
    "724030ca42324d79a36f2ff257e0d723": {
     "model_module": "@jupyter-widgets/controls",
     "model_module_version": "1.5.0",
     "model_name": "HTMLModel",
     "state": {
      "_dom_classes": [],
      "_model_module": "@jupyter-widgets/controls",
      "_model_module_version": "1.5.0",
      "_model_name": "HTMLModel",
      "_view_count": null,
      "_view_module": "@jupyter-widgets/controls",
      "_view_module_version": "1.5.0",
      "_view_name": "HTMLView",
      "description": "",
      "description_tooltip": null,
      "layout": "IPY_MODEL_1ee44a5d51fa402aa813fb321b9dbf26",
      "placeholder": "​",
      "style": "IPY_MODEL_20d318f0fd8d4f52896515dc3369038d",
      "value": " 6144/? [00:00&lt;00:00, 7034.85it/s]"
     }
    },
    "8721a172f5be4f6891a13fc3126ee987": {
     "model_module": "@jupyter-widgets/controls",
     "model_module_version": "1.5.0",
     "model_name": "HBoxModel",
     "state": {
      "_dom_classes": [],
      "_model_module": "@jupyter-widgets/controls",
      "_model_module_version": "1.5.0",
      "_model_name": "HBoxModel",
      "_view_count": null,
      "_view_module": "@jupyter-widgets/controls",
      "_view_module_version": "1.5.0",
      "_view_name": "HBoxView",
      "box_style": "",
      "children": [
       "IPY_MODEL_0031de63bda8443883b3f27e23d22bfa",
       "IPY_MODEL_8c068df9beec47e5957c47f07390ad1a",
       "IPY_MODEL_53ec29c29e484e3eba23c9842bd0ec69"
      ],
      "layout": "IPY_MODEL_4535ec0e1d654d40b9672e58d7d15bc1"
     }
    },
    "8c068df9beec47e5957c47f07390ad1a": {
     "model_module": "@jupyter-widgets/controls",
     "model_module_version": "1.5.0",
     "model_name": "FloatProgressModel",
     "state": {
      "_dom_classes": [],
      "_model_module": "@jupyter-widgets/controls",
      "_model_module_version": "1.5.0",
      "_model_name": "FloatProgressModel",
      "_view_count": null,
      "_view_module": "@jupyter-widgets/controls",
      "_view_module_version": "1.5.0",
      "_view_name": "ProgressView",
      "bar_style": "success",
      "description": "",
      "description_tooltip": null,
      "layout": "IPY_MODEL_d774adb5bc7944aba77ce517daba46b0",
      "max": 4422102,
      "min": 0,
      "orientation": "horizontal",
      "style": "IPY_MODEL_f8977f93de7f4aff9fd0462de94b9572",
      "value": 4422102
     }
    },
    "905f0600bfe847e6b73214c000ca1eb2": {
     "model_module": "@jupyter-widgets/base",
     "model_module_version": "1.2.0",
     "model_name": "LayoutModel",
     "state": {
      "_model_module": "@jupyter-widgets/base",
      "_model_module_version": "1.2.0",
      "_model_name": "LayoutModel",
      "_view_count": null,
      "_view_module": "@jupyter-widgets/base",
      "_view_module_version": "1.2.0",
      "_view_name": "LayoutView",
      "align_content": null,
      "align_items": null,
      "align_self": null,
      "border": null,
      "bottom": null,
      "display": null,
      "flex": null,
      "flex_flow": null,
      "grid_area": null,
      "grid_auto_columns": null,
      "grid_auto_flow": null,
      "grid_auto_rows": null,
      "grid_column": null,
      "grid_gap": null,
      "grid_row": null,
      "grid_template_areas": null,
      "grid_template_columns": null,
      "grid_template_rows": null,
      "height": null,
      "justify_content": null,
      "justify_items": null,
      "left": null,
      "margin": null,
      "max_height": null,
      "max_width": null,
      "min_height": null,
      "min_width": null,
      "object_fit": null,
      "object_position": null,
      "order": null,
      "overflow": null,
      "overflow_x": null,
      "overflow_y": null,
      "padding": null,
      "right": null,
      "top": null,
      "visibility": null,
      "width": null
     }
    },
    "91bb7435a18d4d1885995c3c800f2d5c": {
     "model_module": "@jupyter-widgets/controls",
     "model_module_version": "1.5.0",
     "model_name": "HTMLModel",
     "state": {
      "_dom_classes": [],
      "_model_module": "@jupyter-widgets/controls",
      "_model_module_version": "1.5.0",
      "_model_name": "HTMLModel",
      "_view_count": null,
      "_view_module": "@jupyter-widgets/controls",
      "_view_module_version": "1.5.0",
      "_view_name": "HTMLView",
      "description": "",
      "description_tooltip": null,
      "layout": "IPY_MODEL_905f0600bfe847e6b73214c000ca1eb2",
      "placeholder": "​",
      "style": "IPY_MODEL_454a794c7b4a470e8f6cc99c03bd48a4",
      "value": ""
     }
    },
    "92fd242b548a46d38cc05baf7e3629c6": {
     "model_module": "@jupyter-widgets/controls",
     "model_module_version": "1.5.0",
     "model_name": "HTMLModel",
     "state": {
      "_dom_classes": [],
      "_model_module": "@jupyter-widgets/controls",
      "_model_module_version": "1.5.0",
      "_model_name": "HTMLModel",
      "_view_count": null,
      "_view_module": "@jupyter-widgets/controls",
      "_view_module_version": "1.5.0",
      "_view_name": "HTMLView",
      "description": "",
      "description_tooltip": null,
      "layout": "IPY_MODEL_d44c16fcc4e74a71a9f89e68290122cd",
      "placeholder": "​",
      "style": "IPY_MODEL_43f246205a9645039077650a3aff3279",
      "value": ""
     }
    },
    "a4136b02c8c84c6e873b05a170588352": {
     "model_module": "@jupyter-widgets/controls",
     "model_module_version": "1.5.0",
     "model_name": "ProgressStyleModel",
     "state": {
      "_model_module": "@jupyter-widgets/controls",
      "_model_module_version": "1.5.0",
      "_model_name": "ProgressStyleModel",
      "_view_count": null,
      "_view_module": "@jupyter-widgets/base",
      "_view_module_version": "1.2.0",
      "_view_name": "StyleView",
      "bar_color": null,
      "description_width": ""
     }
    },
    "adef194977a6435ca3e2222b3c57faad": {
     "model_module": "@jupyter-widgets/controls",
     "model_module_version": "1.5.0",
     "model_name": "ProgressStyleModel",
     "state": {
      "_model_module": "@jupyter-widgets/controls",
      "_model_module_version": "1.5.0",
      "_model_name": "ProgressStyleModel",
      "_view_count": null,
      "_view_module": "@jupyter-widgets/base",
      "_view_module_version": "1.2.0",
      "_view_name": "StyleView",
      "bar_color": null,
      "description_width": ""
     }
    },
    "b95aa26cfd6f4bc588aa9d0abdaddec5": {
     "model_module": "@jupyter-widgets/base",
     "model_module_version": "1.2.0",
     "model_name": "LayoutModel",
     "state": {
      "_model_module": "@jupyter-widgets/base",
      "_model_module_version": "1.2.0",
      "_model_name": "LayoutModel",
      "_view_count": null,
      "_view_module": "@jupyter-widgets/base",
      "_view_module_version": "1.2.0",
      "_view_name": "LayoutView",
      "align_content": null,
      "align_items": null,
      "align_self": null,
      "border": null,
      "bottom": null,
      "display": null,
      "flex": null,
      "flex_flow": null,
      "grid_area": null,
      "grid_auto_columns": null,
      "grid_auto_flow": null,
      "grid_auto_rows": null,
      "grid_column": null,
      "grid_gap": null,
      "grid_row": null,
      "grid_template_areas": null,
      "grid_template_columns": null,
      "grid_template_rows": null,
      "height": null,
      "justify_content": null,
      "justify_items": null,
      "left": null,
      "margin": null,
      "max_height": null,
      "max_width": null,
      "min_height": null,
      "min_width": null,
      "object_fit": null,
      "object_position": null,
      "order": null,
      "overflow": null,
      "overflow_x": null,
      "overflow_y": null,
      "padding": null,
      "right": null,
      "top": null,
      "visibility": null,
      "width": null
     }
    },
    "bafde8ac1fd44a23be5498a97bb4baef": {
     "model_module": "@jupyter-widgets/controls",
     "model_module_version": "1.5.0",
     "model_name": "DescriptionStyleModel",
     "state": {
      "_model_module": "@jupyter-widgets/controls",
      "_model_module_version": "1.5.0",
      "_model_name": "DescriptionStyleModel",
      "_view_count": null,
      "_view_module": "@jupyter-widgets/base",
      "_view_module_version": "1.2.0",
      "_view_name": "StyleView",
      "description_width": ""
     }
    },
    "cb91fab2dd2b4d8fab854cb7e9ebae07": {
     "model_module": "@jupyter-widgets/controls",
     "model_module_version": "1.5.0",
     "model_name": "DescriptionStyleModel",
     "state": {
      "_model_module": "@jupyter-widgets/controls",
      "_model_module_version": "1.5.0",
      "_model_name": "DescriptionStyleModel",
      "_view_count": null,
      "_view_module": "@jupyter-widgets/base",
      "_view_module_version": "1.2.0",
      "_view_name": "StyleView",
      "description_width": ""
     }
    },
    "cff2786b442c4c1ba4c3fb74f363cc2f": {
     "model_module": "@jupyter-widgets/controls",
     "model_module_version": "1.5.0",
     "model_name": "FloatProgressModel",
     "state": {
      "_dom_classes": [],
      "_model_module": "@jupyter-widgets/controls",
      "_model_module_version": "1.5.0",
      "_model_name": "FloatProgressModel",
      "_view_count": null,
      "_view_module": "@jupyter-widgets/controls",
      "_view_module_version": "1.5.0",
      "_view_name": "ProgressView",
      "bar_style": "success",
      "description": "",
      "description_tooltip": null,
      "layout": "IPY_MODEL_29344fe288744e1da6957323980d9bb6",
      "max": 5148,
      "min": 0,
      "orientation": "horizontal",
      "style": "IPY_MODEL_0d21f8c937dd4735a105f96362b91ff3",
      "value": 5148
     }
    },
    "d43db767f34a4c209b6cdf44243c1ea2": {
     "model_module": "@jupyter-widgets/base",
     "model_module_version": "1.2.0",
     "model_name": "LayoutModel",
     "state": {
      "_model_module": "@jupyter-widgets/base",
      "_model_module_version": "1.2.0",
      "_model_name": "LayoutModel",
      "_view_count": null,
      "_view_module": "@jupyter-widgets/base",
      "_view_module_version": "1.2.0",
      "_view_name": "LayoutView",
      "align_content": null,
      "align_items": null,
      "align_self": null,
      "border": null,
      "bottom": null,
      "display": null,
      "flex": null,
      "flex_flow": null,
      "grid_area": null,
      "grid_auto_columns": null,
      "grid_auto_flow": null,
      "grid_auto_rows": null,
      "grid_column": null,
      "grid_gap": null,
      "grid_row": null,
      "grid_template_areas": null,
      "grid_template_columns": null,
      "grid_template_rows": null,
      "height": null,
      "justify_content": null,
      "justify_items": null,
      "left": null,
      "margin": null,
      "max_height": null,
      "max_width": null,
      "min_height": null,
      "min_width": null,
      "object_fit": null,
      "object_position": null,
      "order": null,
      "overflow": null,
      "overflow_x": null,
      "overflow_y": null,
      "padding": null,
      "right": null,
      "top": null,
      "visibility": null,
      "width": null
     }
    },
    "d44c16fcc4e74a71a9f89e68290122cd": {
     "model_module": "@jupyter-widgets/base",
     "model_module_version": "1.2.0",
     "model_name": "LayoutModel",
     "state": {
      "_model_module": "@jupyter-widgets/base",
      "_model_module_version": "1.2.0",
      "_model_name": "LayoutModel",
      "_view_count": null,
      "_view_module": "@jupyter-widgets/base",
      "_view_module_version": "1.2.0",
      "_view_name": "LayoutView",
      "align_content": null,
      "align_items": null,
      "align_self": null,
      "border": null,
      "bottom": null,
      "display": null,
      "flex": null,
      "flex_flow": null,
      "grid_area": null,
      "grid_auto_columns": null,
      "grid_auto_flow": null,
      "grid_auto_rows": null,
      "grid_column": null,
      "grid_gap": null,
      "grid_row": null,
      "grid_template_areas": null,
      "grid_template_columns": null,
      "grid_template_rows": null,
      "height": null,
      "justify_content": null,
      "justify_items": null,
      "left": null,
      "margin": null,
      "max_height": null,
      "max_width": null,
      "min_height": null,
      "min_width": null,
      "object_fit": null,
      "object_position": null,
      "order": null,
      "overflow": null,
      "overflow_x": null,
      "overflow_y": null,
      "padding": null,
      "right": null,
      "top": null,
      "visibility": null,
      "width": null
     }
    },
    "d774adb5bc7944aba77ce517daba46b0": {
     "model_module": "@jupyter-widgets/base",
     "model_module_version": "1.2.0",
     "model_name": "LayoutModel",
     "state": {
      "_model_module": "@jupyter-widgets/base",
      "_model_module_version": "1.2.0",
      "_model_name": "LayoutModel",
      "_view_count": null,
      "_view_module": "@jupyter-widgets/base",
      "_view_module_version": "1.2.0",
      "_view_name": "LayoutView",
      "align_content": null,
      "align_items": null,
      "align_self": null,
      "border": null,
      "bottom": null,
      "display": null,
      "flex": null,
      "flex_flow": null,
      "grid_area": null,
      "grid_auto_columns": null,
      "grid_auto_flow": null,
      "grid_auto_rows": null,
      "grid_column": null,
      "grid_gap": null,
      "grid_row": null,
      "grid_template_areas": null,
      "grid_template_columns": null,
      "grid_template_rows": null,
      "height": null,
      "justify_content": null,
      "justify_items": null,
      "left": null,
      "margin": null,
      "max_height": null,
      "max_width": null,
      "min_height": null,
      "min_width": null,
      "object_fit": null,
      "object_position": null,
      "order": null,
      "overflow": null,
      "overflow_x": null,
      "overflow_y": null,
      "padding": null,
      "right": null,
      "top": null,
      "visibility": null,
      "width": null
     }
    },
    "dc2d4d7a1dca4c9e9526242261df80d4": {
     "model_module": "@jupyter-widgets/controls",
     "model_module_version": "1.5.0",
     "model_name": "DescriptionStyleModel",
     "state": {
      "_model_module": "@jupyter-widgets/controls",
      "_model_module_version": "1.5.0",
      "_model_name": "DescriptionStyleModel",
      "_view_count": null,
      "_view_module": "@jupyter-widgets/base",
      "_view_module_version": "1.2.0",
      "_view_name": "StyleView",
      "description_width": ""
     }
    },
    "f01961e66e27419f965953f9a0af405c": {
     "model_module": "@jupyter-widgets/controls",
     "model_module_version": "1.5.0",
     "model_name": "HTMLModel",
     "state": {
      "_dom_classes": [],
      "_model_module": "@jupyter-widgets/controls",
      "_model_module_version": "1.5.0",
      "_model_name": "HTMLModel",
      "_view_count": null,
      "_view_module": "@jupyter-widgets/controls",
      "_view_module_version": "1.5.0",
      "_view_name": "HTMLView",
      "description": "",
      "description_tooltip": null,
      "layout": "IPY_MODEL_ff1f48914c504ffaa1fefbc1c1f4d75e",
      "placeholder": "​",
      "style": "IPY_MODEL_bafde8ac1fd44a23be5498a97bb4baef",
      "value": " 26422272/? [00:01&lt;00:00, 23144769.05it/s]"
     }
    },
    "f8977f93de7f4aff9fd0462de94b9572": {
     "model_module": "@jupyter-widgets/controls",
     "model_module_version": "1.5.0",
     "model_name": "ProgressStyleModel",
     "state": {
      "_model_module": "@jupyter-widgets/controls",
      "_model_module_version": "1.5.0",
      "_model_name": "ProgressStyleModel",
      "_view_count": null,
      "_view_module": "@jupyter-widgets/base",
      "_view_module_version": "1.2.0",
      "_view_name": "StyleView",
      "bar_color": null,
      "description_width": ""
     }
    },
    "f9c8f09d16b04efdbe301374be3e9f82": {
     "model_module": "@jupyter-widgets/base",
     "model_module_version": "1.2.0",
     "model_name": "LayoutModel",
     "state": {
      "_model_module": "@jupyter-widgets/base",
      "_model_module_version": "1.2.0",
      "_model_name": "LayoutModel",
      "_view_count": null,
      "_view_module": "@jupyter-widgets/base",
      "_view_module_version": "1.2.0",
      "_view_name": "LayoutView",
      "align_content": null,
      "align_items": null,
      "align_self": null,
      "border": null,
      "bottom": null,
      "display": null,
      "flex": null,
      "flex_flow": null,
      "grid_area": null,
      "grid_auto_columns": null,
      "grid_auto_flow": null,
      "grid_auto_rows": null,
      "grid_column": null,
      "grid_gap": null,
      "grid_row": null,
      "grid_template_areas": null,
      "grid_template_columns": null,
      "grid_template_rows": null,
      "height": null,
      "justify_content": null,
      "justify_items": null,
      "left": null,
      "margin": null,
      "max_height": null,
      "max_width": null,
      "min_height": null,
      "min_width": null,
      "object_fit": null,
      "object_position": null,
      "order": null,
      "overflow": null,
      "overflow_x": null,
      "overflow_y": null,
      "padding": null,
      "right": null,
      "top": null,
      "visibility": null,
      "width": null
     }
    },
    "fa386d49419d4361a6339a36402dd899": {
     "model_module": "@jupyter-widgets/controls",
     "model_module_version": "1.5.0",
     "model_name": "DescriptionStyleModel",
     "state": {
      "_model_module": "@jupyter-widgets/controls",
      "_model_module_version": "1.5.0",
      "_model_name": "DescriptionStyleModel",
      "_view_count": null,
      "_view_module": "@jupyter-widgets/base",
      "_view_module_version": "1.2.0",
      "_view_name": "StyleView",
      "description_width": ""
     }
    },
    "ff1f48914c504ffaa1fefbc1c1f4d75e": {
     "model_module": "@jupyter-widgets/base",
     "model_module_version": "1.2.0",
     "model_name": "LayoutModel",
     "state": {
      "_model_module": "@jupyter-widgets/base",
      "_model_module_version": "1.2.0",
      "_model_name": "LayoutModel",
      "_view_count": null,
      "_view_module": "@jupyter-widgets/base",
      "_view_module_version": "1.2.0",
      "_view_name": "LayoutView",
      "align_content": null,
      "align_items": null,
      "align_self": null,
      "border": null,
      "bottom": null,
      "display": null,
      "flex": null,
      "flex_flow": null,
      "grid_area": null,
      "grid_auto_columns": null,
      "grid_auto_flow": null,
      "grid_auto_rows": null,
      "grid_column": null,
      "grid_gap": null,
      "grid_row": null,
      "grid_template_areas": null,
      "grid_template_columns": null,
      "grid_template_rows": null,
      "height": null,
      "justify_content": null,
      "justify_items": null,
      "left": null,
      "margin": null,
      "max_height": null,
      "max_width": null,
      "min_height": null,
      "min_width": null,
      "object_fit": null,
      "object_position": null,
      "order": null,
      "overflow": null,
      "overflow_x": null,
      "overflow_y": null,
      "padding": null,
      "right": null,
      "top": null,
      "visibility": null,
      "width": null
     }
    }
   }
  }
 },
 "nbformat": 4,
 "nbformat_minor": 4
}

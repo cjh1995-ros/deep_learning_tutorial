{
 "cells": [
  {
   "cell_type": "code",
   "execution_count": 1,
   "id": "0928bced-571d-49d8-a686-625549ec96c3",
   "metadata": {},
   "outputs": [],
   "source": [
    "import os\n",
    "import random\n",
    "import numpy as np\n",
    "import matplotlib.pyplot as plt\n",
    "from typing import Any, List\n",
    "import pandas as pd\n",
    "from tqdm import tqdm\n",
    "\n",
    "# DL library imports\n",
    "import torch\n",
    "from torch.utils.data import DataLoader\n",
    "from torchvision import datasets, transforms\n",
    "from torch.utils.data.sampler import SubsetRandomSampler\n",
    "from torch import nn, optim\n",
    "import torch.nn.functional as F"
   ]
  },
  {
   "cell_type": "code",
   "execution_count": 2,
   "id": "cc4a3307-477e-4ca2-aa9c-251fdf6b1adf",
   "metadata": {},
   "outputs": [],
   "source": [
    "# Dataset: Fashion MNIST\n",
    "dataset_labels = ['TShirt', 'Trouser', 'Pullover', 'Dress', 'Coat', 'Sandal', 'Shirt', 'Sneaker', 'Bag', 'AnkleBoot']\n",
    "\n",
    "# necessary image transform i.e. convert to Tensor, normalize\n",
    "train_transform = transforms.Compose([transforms.ToTensor(), transforms.Normalize((0.5,), (0.5,)) ])\n",
    "test_transform  = transforms.Compose([transforms.ToTensor(), transforms.Normalize((0.5,), (0.5,)) ])\n",
    "\n",
    "# Download the Train and Test set\n",
    "train_set = datasets.FashionMNIST('.', train=True, download=False, transform=train_transform)\n",
    "test_set = datasets.FashionMNIST('.', train=False, download=False, transform=test_transform)"
   ]
  },
  {
   "cell_type": "code",
   "execution_count": 3,
   "id": "b8326c3a-7616-4eac-9eb4-954499b2da2a",
   "metadata": {},
   "outputs": [],
   "source": [
    "NUM_WORKERS = 1 \n",
    "TEST_BATCH_SIZE  = 64\n",
    "TRAIN_BATCH_SIZE = 16\n",
    "VALID_SIZE = 0.2 "
   ]
  },
  {
   "cell_type": "code",
   "execution_count": 4,
   "id": "f90f0fea-0fdc-42b0-82de-ff736089b23d",
   "metadata": {},
   "outputs": [],
   "source": [
    "len_train_set = len(train_set)\n",
    "index_list = list(range(len_train_set))\n",
    "np.random.shuffle(index_list)\n",
    "split_index = int(len_train_set * VALID_SIZE)\n",
    "train_idx, valid_idx = index_list[split_index:], index_list[:split_index]\n",
    "train_sampler = SubsetRandomSampler(train_idx)\n",
    "valid_sampler = SubsetRandomSampler(valid_idx)"
   ]
  },
  {
   "cell_type": "code",
   "execution_count": 5,
   "id": "22727d0f-fd54-4be7-bf96-d99a6ac16919",
   "metadata": {},
   "outputs": [],
   "source": [
    "train_loader = DataLoader(train_set, batch_size=TRAIN_BATCH_SIZE, sampler=train_sampler, num_workers=NUM_WORKERS)\n",
    "valid_loader = DataLoader(train_set, batch_size=TEST_BATCH_SIZE,  sampler=valid_sampler, num_workers=NUM_WORKERS)\n",
    "test_loader  = DataLoader(test_set,  batch_size=TEST_BATCH_SIZE,  shuffle=True,num_workers=NUM_WORKERS)"
   ]
  },
  {
   "cell_type": "code",
   "execution_count": 6,
   "id": "a59dbee1-077a-4c40-b5f3-7e4226b294d0",
   "metadata": {},
   "outputs": [
    {
     "data": {
      "image/png": "[encoded data removed]",
      "text/plain": [
       "<Figure size 432x288 with 1 Axes>"
      ]
     },
     "metadata": {
      "needs_background": "light"
     },
     "output_type": "display_data"
    }
   ],
   "source": [
    "img, label = next(iter(train_loader))\n",
    "plt.imshow(img[0].numpy().squeeze(), cmap = 'Greys_r')\n",
    "plt.title(f'{dataset_labels[label[0].item()]}')\n",
    "plt.show()"
   ]
  },
  {
   "cell_type": "code",
   "execution_count": 7,
   "id": "2cc21619-fbce-4e2e-b235-dfda43248130",
   "metadata": {},
   "outputs": [],
   "source": [
    "class MLPClassifier(nn.Module):\n",
    "    def __init__(self):\n",
    "        super().__init__()\n",
    "        self.fc1 = nn.Linear(784, 128, bias=True)\n",
    "        self.fc2 = nn.Linear(128, 64, bias=True)\n",
    "        self.fc3 = nn.Linear(64, 32, bias=True)\n",
    "        self.fc4 = nn.Linear(32, 10, bias=True)\n",
    "\n",
    "    def forward(self, x):\n",
    "        x = x.view(x.shape[0], -1)\n",
    "        x = F.relu(self.fc1(x))\n",
    "        x = F.relu(self.fc2(x))\n",
    "        x = F.relu(self.fc3(x))\n",
    "        x = self.fc4(x)\n",
    "        return x"
   ]
  },
  {
   "cell_type": "code",
   "execution_count": 8,
   "id": "98c83c51-695f-4f7d-bad0-392af86cc563",
   "metadata": {},
   "outputs": [],
   "source": [
    "# Load the Model\n",
    "device = torch.device(\"cuda\" if torch.cuda.is_available() else \"cpu\")\n",
    "model = MLPClassifier().to(device)"
   ]
  },
  {
   "cell_type": "code",
   "execution_count": 9,
   "id": "4e257785-d442-4b08-9692-0a8add0c34c5",
   "metadata": {},
   "outputs": [
    {
     "name": "stdout",
     "output_type": "stream",
     "text": [
      "Model Size:  0.424 Mb\n",
      "File Size:  0.447 Mb\n",
      "Inference Time:  0.00254 s\n",
      "Mega FLOPS:  0.443648\n",
      "Mega MACs:  0.221824\n",
      "Mega Params:  0.111146\n"
     ]
    },
    {
     "data": {
      "text/plain": [
       "7e-05"
      ]
     },
     "execution_count": 9,
     "metadata": {},
     "output_type": "execute_result"
    }
   ],
   "source": [
    "from modelMetrics import computeInferenceTime, getModelFileSize, profile, getModelSize\n",
    "\n",
    "def print_model_metrics(model, dummy_input):\n",
    "    print(\"Model Size: \", str(round(getModelSize(model),3)),\"Mb\")\n",
    "    print(\"File Size: \", str(round(getModelFileSize(model),3)),\"Mb\")\n",
    "    print(\"Inference Time: \",str(round(computeInferenceTime(model,dummy_input, device),5)),\"s\")\n",
    "    macs, params = profile(model, inputs=(dummy_input,), verbose=False)\n",
    "    flops = 2 * macs\n",
    "    print(\"Mega FLOPS: \", str(flops * 1e-6))\n",
    "    print(\"Mega MACs: \", str(macs * 1e-6))\n",
    "    print(\"Mega Params: \", str(params * 1e-6))\n",
    "    return round(computeInferenceTime(model,dummy_input, device),5)\n",
    "\n",
    "random_input = torch.rand(2, 28, 28).to(device)\n",
    "print_model_metrics(model, random_input)"
   ]
  },
  {
   "cell_type": "code",
   "execution_count": 10,
   "id": "bbe00858-4f27-4ec6-aa55-276a7db47c2b",
   "metadata": {},
   "outputs": [
    {
     "name": "stdout",
     "output_type": "stream",
     "text": [
      "Sparsity in fc1.weight: 0.0%.\n",
      "Sparsity in fc2.weight: 0.0%.\n",
      "Sparsity in fc3.weight: 0.0%.\n",
      "Sparsity in fc4.weight: 0.0%.\n",
      "Global Sparsity (weight): 0.0%\n"
     ]
    }
   ],
   "source": [
    "def get_model_sparsity(model):\n",
    "    totalElements = 0\n",
    "    totalZeroElements = 0\n",
    "    for name, module in model.named_children():\n",
    "        numElementsInLayer = float(module.weight.nelement())\n",
    "        numZeroElementsInLayer = float(torch.sum(module.weight == 0))\n",
    "        layerWeightSparsity = 100.0 * (numZeroElementsInLayer/ numElementsInLayer)\n",
    "        print(f\"Sparsity in {name}.weight: {layerWeightSparsity}%.\")\n",
    "        \n",
    "        totalElements += numElementsInLayer\n",
    "        totalZeroElements += numZeroElementsInLayer\n",
    "    \n",
    "    if totalElements > 0 :\n",
    "        globalWeightSparsity = 100.0 * (totalZeroElements / totalElements)\n",
    "    else:\n",
    "        globalWeightSparsity = 0.0\n",
    "    return globalWeightSparsity\n",
    "    \n",
    "sparsity = get_model_sparsity(model)\n",
    "print(f\"Global Sparsity (weight): {sparsity}%\")"
   ]
  },
  {
   "cell_type": "code",
   "execution_count": 11,
   "id": "d1595573-4e9b-4958-b006-ef9a531e8525",
   "metadata": {},
   "outputs": [],
   "source": [
    "from sklearn.metrics import accuracy_score\n",
    "\n",
    "class meanClassificationAccuracyMetric:\n",
    "    \"\"\" Class to find the avg accuracy of softmax predictions to ground truth label \"\"\"    \n",
    "    def __init__(self):\n",
    "        self.batchAccuracies = []\n",
    "        self.meanClassificationAccuracy = 0.0\n",
    "\n",
    "    def update(self, y_preds: torch.Tensor, labels: torch.Tensor):\n",
    "        # predicted output class\n",
    "        modelPredictions = np.argmax(torch.softmax(y_preds, axis=1).numpy(), axis=1)\n",
    "        self.batchAccuracies.append(accuracy_score(labels.numpy(), modelPredictions))\n",
    "\n",
    "    def compute(self):\n",
    "        self.meanClassificationAccuracy = np.mean(self.batchAccuracies) * 100.0\n",
    "        return self.meanClassificationAccuracy"
   ]
  },
  {
   "cell_type": "code",
   "execution_count": 12,
   "id": "4d3cb366-c36c-44c6-953c-07614d438bbe",
   "metadata": {},
   "outputs": [],
   "source": [
    "def plotTrainingResults(df, model_name):\n",
    "    fig, ax1 = plt.subplots(figsize=(10,4))\n",
    "    ax1.set_ylabel('trainLoss', color='tab:red')\n",
    "    ax1.plot(df['epoch'].values, df['trainLoss'].values, color='tab:red')\n",
    "    ax1.tick_params(axis='y', labelcolor='tab:red')\n",
    "\n",
    "    ax2 = ax1.twinx()  \n",
    "    ax2.set_ylabel('validationLoss', color='tab:blue')\n",
    "    ax2.plot(df['epoch'].values, df['validationLoss'].values, color='tab:blue')\n",
    "    ax2.tick_params(axis='y', labelcolor='tab:blue')\n",
    "\n",
    "    plt.suptitle(f'{model_name} Training, Validation Curves')\n",
    "    plt.show()"
   ]
  },
  {
   "cell_type": "code",
   "execution_count": 13,
   "id": "a9eef2bd-1d09-47dd-89a1-e57d3acc432f",
   "metadata": {},
   "outputs": [],
   "source": [
    "def trainValidateModel(model, criterion, optimizer, dataloader_train, \n",
    "                       dataloader_valid, metricClass, metricName, device):\n",
    "    results = []    \n",
    "    min_val_loss = np.Inf\n",
    "    len_train_loader = len(dataloader_train)\n",
    "\n",
    "    # move model to target device\n",
    "    model.to(device)\n",
    "    \n",
    "    for epoch in range(N_EPOCHS):\n",
    "        print(f\"Starting {epoch + 1} epoch ...\")\n",
    "        \n",
    "        # Training\n",
    "        model.train()\n",
    "        train_loss = 0.0\n",
    "        for i, (inputs, labels) in tqdm(enumerate(dataloader_train), total=len_train_loader):\n",
    "            inputs = inputs.to(device)\n",
    "            labels = labels.to(device)  \n",
    "\n",
    "            # Forward pass\n",
    "            y_preds = model(inputs)\n",
    "            loss = criterion(y_preds, labels)\n",
    "            train_loss += loss.item()\n",
    "              \n",
    "            # Backward pass\n",
    "            loss.backward()\n",
    "            optimizer.step()\n",
    "            optimizer.zero_grad() \n",
    "            \n",
    "        # Validate\n",
    "        model.eval()\n",
    "        validation_loss = 0.0\n",
    "        metric_object = metricClass()\n",
    "\n",
    "        with torch.no_grad():\n",
    "            for inputs, labels in dataloader_valid:\n",
    "                inputs = inputs.to(device)\n",
    "                labels = labels.to(device)                \n",
    "                y_preds = model(inputs)\n",
    "            \n",
    "                # calculate loss\n",
    "                loss = criterion(y_preds, labels)\n",
    "                validation_loss += loss.item()\n",
    "\n",
    "                # update batch metric information            \n",
    "                metric_object.update(y_preds.cpu().detach(), labels.cpu().detach())\n",
    "\n",
    "        # compute per batch losses, metric value\n",
    "        train_loss = train_loss / len(dataloader_train)\n",
    "        validation_loss = validation_loss / len(dataloader_valid)\n",
    "        validationMetric = metric_object.compute()\n",
    "\n",
    "        print(f'Epoch: {epoch+1}, trainLoss:{train_loss:6.5f}, validationLoss:{validation_loss:6.5f}, {metricName}:{validationMetric: 4.2f}%')\n",
    "        \n",
    "        # store results\n",
    "        results.append({'epoch': epoch, 'trainLoss': train_loss, \n",
    "                        'validationLoss': validation_loss, f'{metricName}': validationMetric})\n",
    "        \n",
    "        # if validation loss has decreased, save model and reset variable\n",
    "        if validation_loss <= min_val_loss:\n",
    "            min_val_loss = validation_loss\n",
    "            torch.save(model.state_dict(), \"MLP.pt\")\n",
    "\n",
    "    # plot results\n",
    "    results = pd.DataFrame(results)\n",
    "    plotTrainingResults(results, \"MLP\")\n",
    "    return results"
   ]
  },
  {
   "cell_type": "code",
   "execution_count": 14,
   "id": "6abc9578-2ba7-441f-8f0f-7240860b6eac",
   "metadata": {},
   "outputs": [
    {
     "name": "stdout",
     "output_type": "stream",
     "text": [
      "Starting 1 epoch ...\n"
     ]
    },
    {
     "name": "stderr",
     "output_type": "stream",
     "text": [
      "100%|██████████████████████████████████████| 3000/3000 [00:08<00:00, 337.69it/s]\n"
     ]
    },
    {
     "name": "stdout",
     "output_type": "stream",
     "text": [
      "Epoch: 1, trainLoss:0.52519, validationLoss:0.42275, accuracy: 84.23%\n",
      "Starting 2 epoch ...\n"
     ]
    },
    {
     "name": "stderr",
     "output_type": "stream",
     "text": [
      "100%|██████████████████████████████████████| 3000/3000 [00:08<00:00, 336.82it/s]\n"
     ]
    },
    {
     "name": "stdout",
     "output_type": "stream",
     "text": [
      "Epoch: 2, trainLoss:0.39712, validationLoss:0.38580, accuracy: 85.50%\n",
      "Starting 3 epoch ...\n"
     ]
    },
    {
     "name": "stderr",
     "output_type": "stream",
     "text": [
      "100%|██████████████████████████████████████| 3000/3000 [00:08<00:00, 336.27it/s]\n"
     ]
    },
    {
     "name": "stdout",
     "output_type": "stream",
     "text": [
      "Epoch: 3, trainLoss:0.35848, validationLoss:0.35566, accuracy: 86.64%\n",
      "Starting 4 epoch ...\n"
     ]
    },
    {
     "name": "stderr",
     "output_type": "stream",
     "text": [
      "100%|██████████████████████████████████████| 3000/3000 [00:08<00:00, 336.38it/s]\n"
     ]
    },
    {
     "name": "stdout",
     "output_type": "stream",
     "text": [
      "Epoch: 4, trainLoss:0.33188, validationLoss:0.37227, accuracy: 86.83%\n",
      "Starting 5 epoch ...\n"
     ]
    },
    {
     "name": "stderr",
     "output_type": "stream",
     "text": [
      "100%|██████████████████████████████████████| 3000/3000 [00:09<00:00, 330.68it/s]\n"
     ]
    },
    {
     "name": "stdout",
     "output_type": "stream",
     "text": [
      "Epoch: 5, trainLoss:0.31091, validationLoss:0.34439, accuracy: 87.46%\n",
      "Starting 6 epoch ...\n"
     ]
    },
    {
     "name": "stderr",
     "output_type": "stream",
     "text": [
      "100%|██████████████████████████████████████| 3000/3000 [00:09<00:00, 331.34it/s]\n"
     ]
    },
    {
     "name": "stdout",
     "output_type": "stream",
     "text": [
      "Epoch: 6, trainLoss:0.29744, validationLoss:0.34906, accuracy: 87.13%\n",
      "Starting 7 epoch ...\n"
     ]
    },
    {
     "name": "stderr",
     "output_type": "stream",
     "text": [
      "100%|██████████████████████████████████████| 3000/3000 [00:09<00:00, 329.24it/s]\n"
     ]
    },
    {
     "name": "stdout",
     "output_type": "stream",
     "text": [
      "Epoch: 7, trainLoss:0.28294, validationLoss:0.33220, accuracy: 88.16%\n",
      "Starting 8 epoch ...\n"
     ]
    },
    {
     "name": "stderr",
     "output_type": "stream",
     "text": [
      "100%|██████████████████████████████████████| 3000/3000 [00:08<00:00, 338.35it/s]\n"
     ]
    },
    {
     "name": "stdout",
     "output_type": "stream",
     "text": [
      "Epoch: 8, trainLoss:0.27013, validationLoss:0.33234, accuracy: 87.87%\n",
      "Starting 9 epoch ...\n"
     ]
    },
    {
     "name": "stderr",
     "output_type": "stream",
     "text": [
      "100%|██████████████████████████████████████| 3000/3000 [00:08<00:00, 335.94it/s]\n"
     ]
    },
    {
     "name": "stdout",
     "output_type": "stream",
     "text": [
      "Epoch: 9, trainLoss:0.26106, validationLoss:0.33703, accuracy: 87.78%\n",
      "Starting 10 epoch ...\n"
     ]
    },
    {
     "name": "stderr",
     "output_type": "stream",
     "text": [
      "100%|██████████████████████████████████████| 3000/3000 [00:09<00:00, 330.64it/s]\n"
     ]
    },
    {
     "name": "stdout",
     "output_type": "stream",
     "text": [
      "Epoch: 10, trainLoss:0.25222, validationLoss:0.32144, accuracy: 88.69%\n",
      "Starting 11 epoch ...\n"
     ]
    },
    {
     "name": "stderr",
     "output_type": "stream",
     "text": [
      "100%|██████████████████████████████████████| 3000/3000 [00:09<00:00, 325.61it/s]\n"
     ]
    },
    {
     "name": "stdout",
     "output_type": "stream",
     "text": [
      "Epoch: 11, trainLoss:0.24135, validationLoss:0.35499, accuracy: 87.45%\n",
      "Starting 12 epoch ...\n"
     ]
    },
    {
     "name": "stderr",
     "output_type": "stream",
     "text": [
      "100%|██████████████████████████████████████| 3000/3000 [00:09<00:00, 318.29it/s]\n"
     ]
    },
    {
     "name": "stdout",
     "output_type": "stream",
     "text": [
      "Epoch: 12, trainLoss:0.23537, validationLoss:0.34587, accuracy: 88.14%\n",
      "Starting 13 epoch ...\n"
     ]
    },
    {
     "name": "stderr",
     "output_type": "stream",
     "text": [
      "100%|██████████████████████████████████████| 3000/3000 [00:09<00:00, 332.27it/s]\n"
     ]
    },
    {
     "name": "stdout",
     "output_type": "stream",
     "text": [
      "Epoch: 13, trainLoss:0.22801, validationLoss:0.32453, accuracy: 88.71%\n",
      "Starting 14 epoch ...\n"
     ]
    },
    {
     "name": "stderr",
     "output_type": "stream",
     "text": [
      "100%|██████████████████████████████████████| 3000/3000 [00:09<00:00, 323.59it/s]\n"
     ]
    },
    {
     "name": "stdout",
     "output_type": "stream",
     "text": [
      "Epoch: 14, trainLoss:0.21800, validationLoss:0.34267, accuracy: 88.17%\n",
      "Starting 15 epoch ...\n"
     ]
    },
    {
     "name": "stderr",
     "output_type": "stream",
     "text": [
      "100%|██████████████████████████████████████| 3000/3000 [00:09<00:00, 327.14it/s]\n"
     ]
    },
    {
     "name": "stdout",
     "output_type": "stream",
     "text": [
      "Epoch: 15, trainLoss:0.21602, validationLoss:0.32638, accuracy: 88.54%\n",
      "Starting 16 epoch ...\n"
     ]
    },
    {
     "name": "stderr",
     "output_type": "stream",
     "text": [
      "100%|██████████████████████████████████████| 3000/3000 [00:09<00:00, 331.74it/s]\n"
     ]
    },
    {
     "name": "stdout",
     "output_type": "stream",
     "text": [
      "Epoch: 16, trainLoss:0.20781, validationLoss:0.35845, accuracy: 88.00%\n",
      "Starting 17 epoch ...\n"
     ]
    },
    {
     "name": "stderr",
     "output_type": "stream",
     "text": [
      "100%|██████████████████████████████████████| 3000/3000 [00:09<00:00, 327.09it/s]\n"
     ]
    },
    {
     "name": "stdout",
     "output_type": "stream",
     "text": [
      "Epoch: 17, trainLoss:0.20068, validationLoss:0.36027, accuracy: 88.04%\n",
      "Starting 18 epoch ...\n"
     ]
    },
    {
     "name": "stderr",
     "output_type": "stream",
     "text": [
      "100%|██████████████████████████████████████| 3000/3000 [00:09<00:00, 327.40it/s]\n"
     ]
    },
    {
     "name": "stdout",
     "output_type": "stream",
     "text": [
      "Epoch: 18, trainLoss:0.19743, validationLoss:0.34242, accuracy: 88.80%\n",
      "Starting 19 epoch ...\n"
     ]
    },
    {
     "name": "stderr",
     "output_type": "stream",
     "text": [
      "100%|██████████████████████████████████████| 3000/3000 [00:09<00:00, 324.99it/s]\n"
     ]
    },
    {
     "name": "stdout",
     "output_type": "stream",
     "text": [
      "Epoch: 19, trainLoss:0.19180, validationLoss:0.34999, accuracy: 88.86%\n",
      "Starting 20 epoch ...\n"
     ]
    },
    {
     "name": "stderr",
     "output_type": "stream",
     "text": [
      "100%|██████████████████████████████████████| 3000/3000 [00:09<00:00, 322.26it/s]\n"
     ]
    },
    {
     "name": "stdout",
     "output_type": "stream",
     "text": [
      "Epoch: 20, trainLoss:0.18623, validationLoss:0.35974, accuracy: 88.42%\n",
      "Starting 21 epoch ...\n"
     ]
    },
    {
     "name": "stderr",
     "output_type": "stream",
     "text": [
      "100%|██████████████████████████████████████| 3000/3000 [00:09<00:00, 324.56it/s]\n"
     ]
    },
    {
     "name": "stdout",
     "output_type": "stream",
     "text": [
      "Epoch: 21, trainLoss:0.18172, validationLoss:0.36123, accuracy: 88.71%\n",
      "Starting 22 epoch ...\n"
     ]
    },
    {
     "name": "stderr",
     "output_type": "stream",
     "text": [
      "100%|██████████████████████████████████████| 3000/3000 [00:09<00:00, 324.04it/s]\n"
     ]
    },
    {
     "name": "stdout",
     "output_type": "stream",
     "text": [
      "Epoch: 22, trainLoss:0.17802, validationLoss:0.37544, accuracy: 88.15%\n",
      "Starting 23 epoch ...\n"
     ]
    },
    {
     "name": "stderr",
     "output_type": "stream",
     "text": [
      "100%|██████████████████████████████████████| 3000/3000 [00:09<00:00, 325.39it/s]\n"
     ]
    },
    {
     "name": "stdout",
     "output_type": "stream",
     "text": [
      "Epoch: 23, trainLoss:0.17569, validationLoss:0.36130, accuracy: 89.04%\n",
      "Starting 24 epoch ...\n"
     ]
    },
    {
     "name": "stderr",
     "output_type": "stream",
     "text": [
      "100%|██████████████████████████████████████| 3000/3000 [00:09<00:00, 324.94it/s]\n"
     ]
    },
    {
     "name": "stdout",
     "output_type": "stream",
     "text": [
      "Epoch: 24, trainLoss:0.16938, validationLoss:0.37768, accuracy: 88.42%\n",
      "Starting 25 epoch ...\n"
     ]
    },
    {
     "name": "stderr",
     "output_type": "stream",
     "text": [
      "100%|██████████████████████████████████████| 3000/3000 [00:09<00:00, 323.96it/s]\n"
     ]
    },
    {
     "name": "stdout",
     "output_type": "stream",
     "text": [
      "Epoch: 25, trainLoss:0.16438, validationLoss:0.37194, accuracy: 89.05%\n",
      "Starting 26 epoch ...\n"
     ]
    },
    {
     "name": "stderr",
     "output_type": "stream",
     "text": [
      "100%|██████████████████████████████████████| 3000/3000 [00:09<00:00, 331.63it/s]\n"
     ]
    },
    {
     "name": "stdout",
     "output_type": "stream",
     "text": [
      "Epoch: 26, trainLoss:0.16473, validationLoss:0.36953, accuracy: 88.86%\n",
      "Starting 27 epoch ...\n"
     ]
    },
    {
     "name": "stderr",
     "output_type": "stream",
     "text": [
      "100%|██████████████████████████████████████| 3000/3000 [00:09<00:00, 326.41it/s]\n"
     ]
    },
    {
     "name": "stdout",
     "output_type": "stream",
     "text": [
      "Epoch: 27, trainLoss:0.15752, validationLoss:0.39650, accuracy: 88.39%\n",
      "Starting 28 epoch ...\n"
     ]
    },
    {
     "name": "stderr",
     "output_type": "stream",
     "text": [
      "100%|██████████████████████████████████████| 3000/3000 [00:09<00:00, 328.44it/s]\n"
     ]
    },
    {
     "name": "stdout",
     "output_type": "stream",
     "text": [
      "Epoch: 28, trainLoss:0.15571, validationLoss:0.40433, accuracy: 88.41%\n",
      "Starting 29 epoch ...\n"
     ]
    },
    {
     "name": "stderr",
     "output_type": "stream",
     "text": [
      "100%|██████████████████████████████████████| 3000/3000 [00:09<00:00, 331.84it/s]\n"
     ]
    },
    {
     "name": "stdout",
     "output_type": "stream",
     "text": [
      "Epoch: 29, trainLoss:0.15291, validationLoss:0.40912, accuracy: 88.49%\n",
      "Starting 30 epoch ...\n"
     ]
    },
    {
     "name": "stderr",
     "output_type": "stream",
     "text": [
      "100%|██████████████████████████████████████| 3000/3000 [00:08<00:00, 335.71it/s]\n"
     ]
    },
    {
     "name": "stdout",
     "output_type": "stream",
     "text": [
      "Epoch: 30, trainLoss:0.14903, validationLoss:0.40000, accuracy: 88.71%\n"
     ]
    },
    {
     "data": {
      "image/png": "[encoded data removed]",
      "text/plain": [
       "<Figure size 720x288 with 2 Axes>"
      ]
     },
     "metadata": {
      "needs_background": "light"
     },
     "output_type": "display_data"
    }
   ],
   "source": [
    "# Hyper parameters for training model\n",
    "N_EPOCHS = 30\n",
    "LR = 0.001\n",
    "\n",
    "# Define the Loss\n",
    "criterion = nn.CrossEntropyLoss()\n",
    "\n",
    "# Define the Optimizer\n",
    "optimizer = optim.Adam(model.parameters(), lr=LR)\n",
    "\n",
    "# train, validate standard model\n",
    "modelResults = trainValidateModel(model, criterion, optimizer, train_loader, valid_loader, meanClassificationAccuracyMetric, 'accuracy', device)"
   ]
  },
  {
   "cell_type": "code",
   "execution_count": 15,
   "id": "be86b79c-a661-4b5b-abaa-8b7cd4370741",
   "metadata": {},
   "outputs": [],
   "source": [
    "def evaluteOnTestData(model, pretrainedModelPath, device, \n",
    "                     dataloader_test, metricClass, metricName, modelName):\n",
    "    import time\n",
    "    testSetMetric = 0.0\n",
    "    if pretrainedModelPath is not None:\n",
    "        if os.path.isfile(pretrainedModelPath) == True:\n",
    "            model.load_state_dict(torch.load(pretrainedModelPath, map_location=device))\n",
    "\n",
    "    model.to(device)\n",
    "    model.eval()\n",
    "    metricObject = metricClass()\n",
    "    t = 0\n",
    "    with torch.no_grad():\n",
    "        for inputs, labels in tqdm(dataloader_test, total=len(dataloader_test)):\n",
    "            inputs = inputs.to(device)\n",
    "            labels = labels.to(device)\n",
    "            start = time.time()\n",
    "            y_preds = model(inputs)\n",
    "            calc_time = time.time() - start\n",
    "            t += calc_time\n",
    "        # update batch metric information            \n",
    "        metricObject.update(y_preds.cpu().detach(), labels.cpu().detach())\n",
    "\n",
    "    testSetMetric = metricObject.compute()    \n",
    "    print(f'\\n{modelName} has {testSetMetric} {metricName} on testData')\n",
    "    \n",
    "    inference_time = t/len(dataloader_test)\n",
    "    return inference_time, testSetMetric"
   ]
  },
  {
   "cell_type": "code",
   "execution_count": 16,
   "id": "999d220c-d5ae-48a6-be4e-cb0aa2c13e18",
   "metadata": {},
   "outputs": [
    {
     "name": "stderr",
     "output_type": "stream",
     "text": [
      "100%|████████████████████████████████████████| 157/157 [00:01<00:00, 102.10it/s]"
     ]
    },
    {
     "name": "stdout",
     "output_type": "stream",
     "text": [
      "\n",
      "Custom_MLP has 100.0 Test_Accuracy on testData\n"
     ]
    },
    {
     "name": "stderr",
     "output_type": "stream",
     "text": [
      "\n"
     ]
    }
   ],
   "source": [
    "t, testSetMetric = evaluteOnTestData(model, \"./MLP.pt\", device, test_loader, \n",
    "                    meanClassificationAccuracyMetric, \"Test_Accuracy\", \"Custom_MLP\")"
   ]
  },
  {
   "cell_type": "code",
   "execution_count": 17,
   "id": "7bd1d52b-5afe-42b7-9816-1e99e1171876",
   "metadata": {},
   "outputs": [],
   "source": [
    "def get_zip_size(model):\n",
    "    import gzip\n",
    "    import shutil\n",
    "    import os\n",
    "    model_name = 'tmp.h5'\n",
    "    zipped_model_name = 'tmp.h5.gz'\n",
    "    torch.save(model.state_dict(), model_name)\n",
    "    with open(model_name, 'rb') as f_in:\n",
    "        with gzip.open(zipped_model_name, 'wb') as f_out:\n",
    "            shutil.copyfileobj(f_in, f_out)\n",
    "            \n",
    "    unzip_size = os.path.getsize(model_name) * 1e-3\n",
    "    zip_size = os.path.getsize(zipped_model_name) * 1e-3\n",
    "    print(f\"Model Size = {unzip_size:.3f}KB\")\n",
    "    print(f\"Zipped Model Size = {zip_size:.3f}KB\")\n",
    "    os.remove(model_name)\n",
    "    os.remove(zipped_model_name)\n",
    "        \n",
    "    return unzip_size, zip_size"
   ]
  },
  {
   "cell_type": "code",
   "execution_count": 18,
   "id": "d60add37-2ac5-4dec-b768-90a2f749e723",
   "metadata": {},
   "outputs": [],
   "source": [
    "import torch.nn.utils.prune as prune\n",
    "from copy import deepcopy"
   ]
  },
  {
   "cell_type": "code",
   "execution_count": 19,
   "id": "292a741b-a10c-4ed5-825f-500af1086b82",
   "metadata": {},
   "outputs": [
    {
     "name": "stdout",
     "output_type": "stream",
     "text": [
      "[0.1, 0.15, 0.2, 0.25, 0.3, 0.35, 0.4, 0.45, 0.5, 0.55, 0.6, 0.65, 0.7, 0.75, 0.8]\n"
     ]
    }
   ],
   "source": [
    "# Let's use different pruning percentages for each technique\n",
    "prunePercentages = np.linspace(0.10, 0.80, 15).tolist()\n",
    "print([round(x,3) for x in prunePercentages])"
   ]
  },
  {
   "cell_type": "code",
   "execution_count": 20,
   "id": "2e122526-3bf9-4ac3-98f4-7bc7ded5f1af",
   "metadata": {},
   "outputs": [],
   "source": [
    "def prune_model_global_unstructured(model, layer_type, proportion):\n",
    "    from copy import deepcopy\n",
    "    ori_model = deepcopy(model)\n",
    "    \n",
    "    module_tups = []\n",
    "    ori_module_tups = []\n",
    "    for module, ori_module in zip(model.modules(), ori_model.modules()):\n",
    "        if isinstance(module, layer_type) and isinstance(ori_module, layer_type):\n",
    "            module_tups.append((module, 'weight'))\n",
    "            ori_module_tups.append((ori_module, 'weight'))\n",
    "            \n",
    "    prune.global_unstructured(\n",
    "        parameters=module_tups, pruning_method=prune.L1Unstructured,\n",
    "        amount=proportion\n",
    "    )\n",
    "    \n",
    "    prune.global_unstructured(\n",
    "        parameters=ori_module_tups, pruning_method=prune.L1Unstructured,\n",
    "        amount=proportion\n",
    "    )\n",
    "    \n",
    "    for module, _ in module_tups:\n",
    "        prune.remove(module, 'weight')\n",
    "    \n",
    "    return model, ori_model"
   ]
  },
  {
   "cell_type": "code",
   "execution_count": 21,
   "id": "5110b7f7-c8af-4be4-8d85-61f80d4fa96d",
   "metadata": {},
   "outputs": [],
   "source": [
    "def layer_unstructured_prune(model:nn.Module, prunePercentage:float):\n",
    "    ori_model = deepcopy(model)\n",
    "    \n",
    "    modules = []\n",
    "    \n",
    "    for name, module in model.named_modules():\n",
    "        if isinstance(module, torch.nn.Linear):\n",
    "            prune.l1_unstructured(module, name='weight', amount=prunePercentage)\n",
    "            modules.append((module, 'weight'))\n",
    "            \n",
    "    for name, module in ori_model.named_modules():\n",
    "        if isinstance(module, torch.nn.Linear):\n",
    "            prune.l1_unstructured(module, name='weight', amount=prunePercentage)\n",
    "    \n",
    "    for module, _ in modules:\n",
    "        prune.remove(module, 'weight')\n",
    "\n",
    "    return model, ori_model"
   ]
  },
  {
   "cell_type": "code",
   "execution_count": 22,
   "id": "522066a7-11cf-4716-acf9-82bbde2ecde8",
   "metadata": {},
   "outputs": [
    {
     "name": "stdout",
     "output_type": "stream",
     "text": [
      "Model Size = 446.927KB\n",
      "Zipped Model Size = 389.165KB\n"
     ]
    },
    {
     "name": "stderr",
     "output_type": "stream",
     "text": [
      "100%|█████████████████████████████████████████| 157/157 [00:01<00:00, 98.89it/s]\n"
     ]
    },
    {
     "name": "stdout",
     "output_type": "stream",
     "text": [
      "\n",
      "Unstructured Prune has 81.25 Test accuracy on testData\n",
      "Model Size = 446.927KB\n",
      "Zipped Model Size = 373.050KB\n"
     ]
    },
    {
     "name": "stderr",
     "output_type": "stream",
     "text": [
      "100%|█████████████████████████████████████████| 157/157 [00:01<00:00, 99.87it/s]\n"
     ]
    },
    {
     "name": "stdout",
     "output_type": "stream",
     "text": [
      "\n",
      "Unstructured Prune has 100.0 Test accuracy on testData\n",
      "Model Size = 446.927KB\n",
      "Zipped Model Size = 355.446KB\n"
     ]
    },
    {
     "name": "stderr",
     "output_type": "stream",
     "text": [
      "100%|████████████████████████████████████████| 157/157 [00:01<00:00, 102.26it/s]\n"
     ]
    },
    {
     "name": "stdout",
     "output_type": "stream",
     "text": [
      "\n",
      "Unstructured Prune has 87.5 Test accuracy on testData\n",
      "Model Size = 446.927KB\n",
      "Zipped Model Size = 336.386KB\n"
     ]
    },
    {
     "name": "stderr",
     "output_type": "stream",
     "text": [
      "100%|████████████████████████████████████████| 157/157 [00:01<00:00, 100.60it/s]\n"
     ]
    },
    {
     "name": "stdout",
     "output_type": "stream",
     "text": [
      "\n",
      "Unstructured Prune has 93.75 Test accuracy on testData\n",
      "Model Size = 446.927KB\n",
      "Zipped Model Size = 318.733KB\n"
     ]
    },
    {
     "name": "stderr",
     "output_type": "stream",
     "text": [
      "100%|████████████████████████████████████████| 157/157 [00:01<00:00, 102.39it/s]\n"
     ]
    },
    {
     "name": "stdout",
     "output_type": "stream",
     "text": [
      "\n",
      "Unstructured Prune has 93.75 Test accuracy on testData\n",
      "Model Size = 446.927KB\n",
      "Zipped Model Size = 300.820KB\n"
     ]
    },
    {
     "name": "stderr",
     "output_type": "stream",
     "text": [
      "100%|█████████████████████████████████████████| 157/157 [00:01<00:00, 99.52it/s]\n"
     ]
    },
    {
     "name": "stdout",
     "output_type": "stream",
     "text": [
      "\n",
      "Unstructured Prune has 68.75 Test accuracy on testData\n",
      "Model Size = 446.927KB\n",
      "Zipped Model Size = 282.317KB\n"
     ]
    },
    {
     "name": "stderr",
     "output_type": "stream",
     "text": [
      "100%|█████████████████████████████████████████| 157/157 [00:01<00:00, 98.52it/s]\n"
     ]
    },
    {
     "name": "stdout",
     "output_type": "stream",
     "text": [
      "\n",
      "Unstructured Prune has 75.0 Test accuracy on testData\n",
      "Model Size = 446.927KB\n",
      "Zipped Model Size = 263.491KB\n"
     ]
    },
    {
     "name": "stderr",
     "output_type": "stream",
     "text": [
      "100%|████████████████████████████████████████| 157/157 [00:01<00:00, 100.44it/s]\n"
     ]
    },
    {
     "name": "stdout",
     "output_type": "stream",
     "text": [
      "\n",
      "Unstructured Prune has 87.5 Test accuracy on testData\n",
      "Model Size = 446.927KB\n",
      "Zipped Model Size = 244.309KB\n"
     ]
    },
    {
     "name": "stderr",
     "output_type": "stream",
     "text": [
      "100%|████████████████████████████████████████| 157/157 [00:01<00:00, 102.02it/s]\n"
     ]
    },
    {
     "name": "stdout",
     "output_type": "stream",
     "text": [
      "\n",
      "Unstructured Prune has 87.5 Test accuracy on testData\n",
      "Model Size = 446.927KB\n",
      "Zipped Model Size = 224.258KB\n"
     ]
    },
    {
     "name": "stderr",
     "output_type": "stream",
     "text": [
      "100%|████████████████████████████████████████| 157/157 [00:01<00:00, 102.52it/s]\n"
     ]
    },
    {
     "name": "stdout",
     "output_type": "stream",
     "text": [
      "\n",
      "Unstructured Prune has 87.5 Test accuracy on testData\n",
      "Model Size = 446.927KB\n",
      "Zipped Model Size = 203.631KB\n"
     ]
    },
    {
     "name": "stderr",
     "output_type": "stream",
     "text": [
      "100%|████████████████████████████████████████| 157/157 [00:01<00:00, 101.24it/s]\n"
     ]
    },
    {
     "name": "stdout",
     "output_type": "stream",
     "text": [
      "\n",
      "Unstructured Prune has 62.5 Test accuracy on testData\n",
      "Model Size = 446.927KB\n",
      "Zipped Model Size = 181.966KB\n"
     ]
    },
    {
     "name": "stderr",
     "output_type": "stream",
     "text": [
      "100%|████████████████████████████████████████| 157/157 [00:01<00:00, 102.62it/s]\n"
     ]
    },
    {
     "name": "stdout",
     "output_type": "stream",
     "text": [
      "\n",
      "Unstructured Prune has 50.0 Test accuracy on testData\n",
      "Model Size = 446.927KB\n",
      "Zipped Model Size = 161.338KB\n"
     ]
    },
    {
     "name": "stderr",
     "output_type": "stream",
     "text": [
      "100%|████████████████████████████████████████| 157/157 [00:01<00:00, 106.64it/s]\n"
     ]
    },
    {
     "name": "stdout",
     "output_type": "stream",
     "text": [
      "\n",
      "Unstructured Prune has 62.5 Test accuracy on testData\n",
      "Model Size = 446.927KB\n",
      "Zipped Model Size = 140.695KB\n"
     ]
    },
    {
     "name": "stderr",
     "output_type": "stream",
     "text": [
      "100%|████████████████████████████████████████| 157/157 [00:01<00:00, 102.32it/s]\n"
     ]
    },
    {
     "name": "stdout",
     "output_type": "stream",
     "text": [
      "\n",
      "Unstructured Prune has 25.0 Test accuracy on testData\n",
      "Model Size = 446.927KB\n",
      "Zipped Model Size = 119.610KB\n"
     ]
    },
    {
     "name": "stderr",
     "output_type": "stream",
     "text": [
      "100%|█████████████████████████████████████████| 157/157 [00:01<00:00, 98.98it/s]"
     ]
    },
    {
     "name": "stdout",
     "output_type": "stream",
     "text": [
      "\n",
      "Unstructured Prune has 18.75 Test accuracy on testData\n"
     ]
    },
    {
     "name": "stderr",
     "output_type": "stream",
     "text": [
      "\n"
     ]
    }
   ],
   "source": [
    "# placeholder to store results\n",
    "l1_unstructured_accuracies = []\n",
    "l1_unstructured_size = []\n",
    "l1_unstructured_inf = []\n",
    "# iterate through each prune percentage\n",
    "for perc in prunePercentages:\n",
    "    # load the pretrained model\n",
    "    model = MLPClassifier().to(device)\n",
    "    model.load_state_dict(torch.load(\"./MLP.pt\"))\n",
    "\n",
    "    # prune the model\n",
    "    # unStructuredPruneModel = layer_unstructured_prune(model, perc, nn.Linear)\n",
    "    removed_model, unStructuredPruneModel = layer_unstructured_prune(model, perc)\n",
    "    unzipped, zipped = get_zip_size(removed_model)\n",
    "    # time = print_model_metrics(removed_model, random_input)\n",
    "    # evaluate the pruned model on test data\n",
    "    time, acc = evaluteOnTestData(unStructuredPruneModel, None, \\\n",
    "          device, test_loader, meanClassificationAccuracyMetric, \"Test accuracy\", \"Unstructured Prune\")\n",
    "    l1_unstructured_accuracies.append(acc)\n",
    "    l1_unstructured_size.append((unzipped, zipped))\n",
    "    l1_unstructured_inf.append(time)"
   ]
  },
  {
   "cell_type": "code",
   "execution_count": 23,
   "id": "c46ff29b-f027-4bb2-9bf6-1fb6f0a87af0",
   "metadata": {},
   "outputs": [
    {
     "name": "stdout",
     "output_type": "stream",
     "text": [
      "Model Size:  0.847 Mb\n",
      "File Size:  0.892 Mb\n",
      "Inference Time:  0.00013 s\n",
      "Mega FLOPS:  0.443648\n",
      "Mega MACs:  0.221824\n",
      "Mega Params:  0.111146\n"
     ]
    },
    {
     "data": {
      "text/plain": [
       "0.00019"
      ]
     },
     "execution_count": 23,
     "metadata": {},
     "output_type": "execute_result"
    }
   ],
   "source": [
    "print_model_metrics(unStructuredPruneModel, random_input)"
   ]
  },
  {
   "cell_type": "code",
   "execution_count": 24,
   "id": "afa4ab49-21b9-495c-bcd6-37b0cfb8e776",
   "metadata": {},
   "outputs": [],
   "source": [
    "def layer_structured_prune(model:nn.Module, prunePercentage:float):\n",
    "    from copy import deepcopy\n",
    "    ori_model = deepcopy(model)\n",
    "\n",
    "    module_tups = []\n",
    "    for module in model.modules():\n",
    "        if isinstance(module, nn.Linear):\n",
    "            module_tups.append((module, 'weight'))\n",
    "    \n",
    "    for name, module in model.named_modules():\n",
    "        if isinstance(module, torch.nn.Linear):\n",
    "            prune.ln_structured(module, name='weight', amount=prunePercentage, n=1, dim=0)\n",
    "\n",
    "    for name, ori_module in ori_model.named_modules():\n",
    "        if isinstance(ori_module, torch.nn.Linear):\n",
    "            prune.ln_structured(ori_module, name='weight', amount=prunePercentage, n=1, dim=0)\n",
    "\n",
    "    for module, _ in module_tups:\n",
    "        prune.remove(module, 'weight')\n",
    "    \n",
    "    return model, ori_model"
   ]
  },
  {
   "cell_type": "code",
   "execution_count": 25,
   "id": "aa657a41-7eef-4a6a-a002-71b9647c54ab",
   "metadata": {},
   "outputs": [
    {
     "name": "stdout",
     "output_type": "stream",
     "text": [
      "Model Size = 446.927KB\n",
      "Zipped Model Size = 377.360KB\n"
     ]
    },
    {
     "name": "stderr",
     "output_type": "stream",
     "text": [
      "100%|████████████████████████████████████████| 157/157 [00:01<00:00, 100.61it/s]\n"
     ]
    },
    {
     "name": "stdout",
     "output_type": "stream",
     "text": [
      "\n",
      "structured Prune has 81.25 Test accuracy on testData\n",
      "Model Size = 446.927KB\n",
      "Zipped Model Size = 358.761KB\n"
     ]
    },
    {
     "name": "stderr",
     "output_type": "stream",
     "text": [
      "100%|████████████████████████████████████████| 157/157 [00:01<00:00, 103.02it/s]\n"
     ]
    },
    {
     "name": "stdout",
     "output_type": "stream",
     "text": [
      "\n",
      "structured Prune has 56.25 Test accuracy on testData\n",
      "Model Size = 446.927KB\n",
      "Zipped Model Size = 338.118KB\n"
     ]
    },
    {
     "name": "stderr",
     "output_type": "stream",
     "text": [
      "100%|████████████████████████████████████████| 157/157 [00:01<00:00, 102.49it/s]\n"
     ]
    },
    {
     "name": "stdout",
     "output_type": "stream",
     "text": [
      "\n",
      "structured Prune has 75.0 Test accuracy on testData\n",
      "Model Size = 446.927KB\n",
      "Zipped Model Size = 320.055KB\n"
     ]
    },
    {
     "name": "stderr",
     "output_type": "stream",
     "text": [
      "100%|████████████████████████████████████████| 157/157 [00:01<00:00, 100.21it/s]\n"
     ]
    },
    {
     "name": "stdout",
     "output_type": "stream",
     "text": [
      "\n",
      "structured Prune has 56.25 Test accuracy on testData\n",
      "Model Size = 446.927KB\n",
      "Zipped Model Size = 301.837KB\n"
     ]
    },
    {
     "name": "stderr",
     "output_type": "stream",
     "text": [
      "100%|████████████████████████████████████████| 157/157 [00:01<00:00, 101.47it/s]\n"
     ]
    },
    {
     "name": "stdout",
     "output_type": "stream",
     "text": [
      "\n",
      "structured Prune has 68.75 Test accuracy on testData\n",
      "Model Size = 446.927KB\n",
      "Zipped Model Size = 280.978KB\n"
     ]
    },
    {
     "name": "stderr",
     "output_type": "stream",
     "text": [
      "100%|█████████████████████████████████████████| 157/157 [00:01<00:00, 95.98it/s]\n"
     ]
    },
    {
     "name": "stdout",
     "output_type": "stream",
     "text": [
      "\n",
      "structured Prune has 37.5 Test accuracy on testData\n",
      "Model Size = 446.927KB\n",
      "Zipped Model Size = 262.467KB\n"
     ]
    },
    {
     "name": "stderr",
     "output_type": "stream",
     "text": [
      "100%|████████████████████████████████████████| 157/157 [00:01<00:00, 101.85it/s]\n"
     ]
    },
    {
     "name": "stdout",
     "output_type": "stream",
     "text": [
      "\n",
      "structured Prune has 62.5 Test accuracy on testData\n",
      "Model Size = 446.927KB\n",
      "Zipped Model Size = 241.576KB\n"
     ]
    },
    {
     "name": "stderr",
     "output_type": "stream",
     "text": [
      "100%|████████████████████████████████████████| 157/157 [00:01<00:00, 104.63it/s]\n"
     ]
    },
    {
     "name": "stdout",
     "output_type": "stream",
     "text": [
      "\n",
      "structured Prune has 31.25 Test accuracy on testData\n",
      "Model Size = 446.927KB\n",
      "Zipped Model Size = 223.346KB\n"
     ]
    },
    {
     "name": "stderr",
     "output_type": "stream",
     "text": [
      "100%|█████████████████████████████████████████| 157/157 [00:01<00:00, 99.15it/s]\n"
     ]
    },
    {
     "name": "stdout",
     "output_type": "stream",
     "text": [
      "\n",
      "structured Prune has 62.5 Test accuracy on testData\n",
      "Model Size = 446.927KB\n",
      "Zipped Model Size = 205.040KB\n"
     ]
    },
    {
     "name": "stderr",
     "output_type": "stream",
     "text": [
      "100%|████████████████████████████████████████| 157/157 [00:01<00:00, 104.44it/s]\n"
     ]
    },
    {
     "name": "stdout",
     "output_type": "stream",
     "text": [
      "\n",
      "structured Prune has 50.0 Test accuracy on testData\n",
      "Model Size = 446.927KB\n",
      "Zipped Model Size = 184.237KB\n"
     ]
    },
    {
     "name": "stderr",
     "output_type": "stream",
     "text": [
      "100%|████████████████████████████████████████| 157/157 [00:01<00:00, 104.18it/s]\n"
     ]
    },
    {
     "name": "stdout",
     "output_type": "stream",
     "text": [
      "\n",
      "structured Prune has 18.75 Test accuracy on testData\n",
      "Model Size = 446.927KB\n",
      "Zipped Model Size = 165.496KB\n"
     ]
    },
    {
     "name": "stderr",
     "output_type": "stream",
     "text": [
      "100%|█████████████████████████████████████████| 157/157 [00:01<00:00, 99.67it/s]\n"
     ]
    },
    {
     "name": "stdout",
     "output_type": "stream",
     "text": [
      "\n",
      "structured Prune has 31.25 Test accuracy on testData\n",
      "Model Size = 446.927KB\n",
      "Zipped Model Size = 144.323KB\n"
     ]
    },
    {
     "name": "stderr",
     "output_type": "stream",
     "text": [
      "100%|████████████████████████████████████████| 157/157 [00:01<00:00, 100.25it/s]\n"
     ]
    },
    {
     "name": "stdout",
     "output_type": "stream",
     "text": [
      "\n",
      "structured Prune has 0.0 Test accuracy on testData\n",
      "Model Size = 446.927KB\n",
      "Zipped Model Size = 125.934KB\n"
     ]
    },
    {
     "name": "stderr",
     "output_type": "stream",
     "text": [
      "100%|█████████████████████████████████████████| 157/157 [00:01<00:00, 99.75it/s]\n"
     ]
    },
    {
     "name": "stdout",
     "output_type": "stream",
     "text": [
      "\n",
      "structured Prune has 12.5 Test accuracy on testData\n",
      "Model Size = 446.927KB\n",
      "Zipped Model Size = 107.404KB\n"
     ]
    },
    {
     "name": "stderr",
     "output_type": "stream",
     "text": [
      "100%|████████████████████████████████████████| 157/157 [00:01<00:00, 101.40it/s]"
     ]
    },
    {
     "name": "stdout",
     "output_type": "stream",
     "text": [
      "\n",
      "structured Prune has 6.25 Test accuracy on testData\n"
     ]
    },
    {
     "name": "stderr",
     "output_type": "stream",
     "text": [
      "\n"
     ]
    }
   ],
   "source": [
    "# placeholder to store results\n",
    "l1_structured_accuracies = []\n",
    "l1_structured_size = []\n",
    "l1_structured_inf = []\n",
    "# iterate through each prune percentage\n",
    "for perc in prunePercentages:\n",
    "    # load the pretrained model\n",
    "    model = MLPClassifier().to(device)\n",
    "    model.load_state_dict(torch.load(\"./MLP.pt\"))\n",
    "\n",
    "    # prune the model\n",
    "    removed_model, structuredPruneModel = layer_structured_prune(model, perc)\n",
    "    unzipped, zipped = get_zip_size(removed_model)\n",
    "    # inf = print_model_metrics(removed_model, random_input)\n",
    "    # evaluate the pruned model on test data\n",
    "    inf, acc = evaluteOnTestData(structuredPruneModel, None, \\\n",
    "          device, test_loader, meanClassificationAccuracyMetric, \"Test accuracy\", \"structured Prune\")\n",
    "    l1_structured_accuracies.append(acc)\n",
    "    l1_structured_size.append((unzipped, zipped))\n",
    "    l1_structured_inf.append(inf)"
   ]
  },
  {
   "cell_type": "code",
   "execution_count": 26,
   "id": "d499fb0a-e87c-467c-a0d7-bf1f35c742ee",
   "metadata": {},
   "outputs": [],
   "source": [
    "def prune_model_global_unstructured(model, layer_type, proportion):\n",
    "    from copy import deepcopy\n",
    "    ori_model = deepcopy(model)\n",
    "    \n",
    "    module_tups = []\n",
    "    ori_module_tups = []\n",
    "    for module, ori_module in zip(model.modules(), ori_model.modules()):\n",
    "        if isinstance(module, layer_type) and isinstance(ori_module, layer_type):\n",
    "            module_tups.append((module, 'weight'))\n",
    "            ori_module_tups.append((ori_module, 'weight'))\n",
    "            \n",
    "    prune.global_unstructured(\n",
    "        parameters=module_tups, pruning_method=prune.L1Unstructured,\n",
    "        amount=proportion\n",
    "    )\n",
    "    \n",
    "    prune.global_unstructured(\n",
    "        parameters=ori_module_tups, pruning_method=prune.L1Unstructured,\n",
    "        amount=proportion\n",
    "    )\n",
    "    \n",
    "    for module, _ in module_tups:\n",
    "        prune.remove(module, 'weight')\n",
    "    \n",
    "    return model, ori_model"
   ]
  },
  {
   "cell_type": "code",
   "execution_count": 27,
   "id": "91de9f50-fcae-46fd-adf2-5a4b33f4c05e",
   "metadata": {},
   "outputs": [],
   "source": [
    "def global_unstructured_prune(model:nn.Module, prunePercentage:float):\n",
    "    from copy import deepcopy\n",
    "    ori_model = deepcopy(model)\n",
    "    \n",
    "    parameters_to_prune = []\n",
    "    ori_module_tups = []\n",
    "    for (name, module), (_, ori_module) in zip(model.named_modules(), ori_model.named_modules()):\n",
    "        if isinstance(module, torch.nn.Linear) and isinstance(ori_module, torch.nn.Linear):\n",
    "            parameters_to_prune.append((module, 'weight'))\n",
    "            ori_module_tups.append((ori_module, 'weight'))\n",
    "            \n",
    "    prune.global_unstructured(parameters_to_prune, pruning_method=prune.L1Unstructured, amount=prunePercentage)\n",
    "    prune.global_unstructured(ori_module_tups, pruning_method=prune.L1Unstructured, amount=prunePercentage)\n",
    "\n",
    "    for _, module in parameters_to_prune:\n",
    "        prune.remove(module, 'weight')\n",
    "    \n",
    "    return model, ori_model"
   ]
  },
  {
   "cell_type": "code",
   "execution_count": 28,
   "id": "aae41846-8a9f-4bbd-8374-c8b23cc31f36",
   "metadata": {},
   "outputs": [
    {
     "name": "stdout",
     "output_type": "stream",
     "text": [
      "Model Size = 446.927KB\n",
      "Zipped Model Size = 389.136KB\n"
     ]
    },
    {
     "name": "stderr",
     "output_type": "stream",
     "text": [
      "100%|████████████████████████████████████████| 157/157 [00:01<00:00, 104.41it/s]\n"
     ]
    },
    {
     "name": "stdout",
     "output_type": "stream",
     "text": [
      "\n",
      "structured Prune has 75.0 Test accuracy on testData\n",
      "Model Size = 446.927KB\n",
      "Zipped Model Size = 372.955KB\n"
     ]
    },
    {
     "name": "stderr",
     "output_type": "stream",
     "text": [
      "100%|████████████████████████████████████████| 157/157 [00:01<00:00, 103.19it/s]\n"
     ]
    },
    {
     "name": "stdout",
     "output_type": "stream",
     "text": [
      "\n",
      "structured Prune has 100.0 Test accuracy on testData\n",
      "Model Size = 446.927KB\n",
      "Zipped Model Size = 355.298KB\n"
     ]
    },
    {
     "name": "stderr",
     "output_type": "stream",
     "text": [
      "100%|████████████████████████████████████████| 157/157 [00:01<00:00, 104.37it/s]\n"
     ]
    },
    {
     "name": "stdout",
     "output_type": "stream",
     "text": [
      "\n",
      "structured Prune has 87.5 Test accuracy on testData\n",
      "Model Size = 446.927KB\n",
      "Zipped Model Size = 336.207KB\n"
     ]
    },
    {
     "name": "stderr",
     "output_type": "stream",
     "text": [
      "100%|████████████████████████████████████████| 157/157 [00:01<00:00, 104.03it/s]\n"
     ]
    },
    {
     "name": "stdout",
     "output_type": "stream",
     "text": [
      "\n",
      "structured Prune has 87.5 Test accuracy on testData\n",
      "Model Size = 446.927KB\n",
      "Zipped Model Size = 318.583KB\n"
     ]
    },
    {
     "name": "stderr",
     "output_type": "stream",
     "text": [
      "100%|████████████████████████████████████████| 157/157 [00:01<00:00, 104.90it/s]\n"
     ]
    },
    {
     "name": "stdout",
     "output_type": "stream",
     "text": [
      "\n",
      "structured Prune has 87.5 Test accuracy on testData\n",
      "Model Size = 446.927KB\n",
      "Zipped Model Size = 300.755KB\n"
     ]
    },
    {
     "name": "stderr",
     "output_type": "stream",
     "text": [
      "100%|████████████████████████████████████████| 157/157 [00:01<00:00, 103.78it/s]\n"
     ]
    },
    {
     "name": "stdout",
     "output_type": "stream",
     "text": [
      "\n",
      "structured Prune has 100.0 Test accuracy on testData\n",
      "Model Size = 446.927KB\n",
      "Zipped Model Size = 282.208KB\n"
     ]
    },
    {
     "name": "stderr",
     "output_type": "stream",
     "text": [
      "100%|█████████████████████████████████████████| 157/157 [00:01<00:00, 99.57it/s]\n"
     ]
    },
    {
     "name": "stdout",
     "output_type": "stream",
     "text": [
      "\n",
      "structured Prune has 93.75 Test accuracy on testData\n",
      "Model Size = 446.927KB\n",
      "Zipped Model Size = 263.418KB\n"
     ]
    },
    {
     "name": "stderr",
     "output_type": "stream",
     "text": [
      "100%|████████████████████████████████████████| 157/157 [00:01<00:00, 100.01it/s]\n"
     ]
    },
    {
     "name": "stdout",
     "output_type": "stream",
     "text": [
      "\n",
      "structured Prune has 81.25 Test accuracy on testData\n",
      "Model Size = 446.927KB\n",
      "Zipped Model Size = 244.237KB\n"
     ]
    },
    {
     "name": "stderr",
     "output_type": "stream",
     "text": [
      "100%|████████████████████████████████████████| 157/157 [00:01<00:00, 100.72it/s]\n"
     ]
    },
    {
     "name": "stdout",
     "output_type": "stream",
     "text": [
      "\n",
      "structured Prune has 87.5 Test accuracy on testData\n",
      "Model Size = 446.927KB\n",
      "Zipped Model Size = 224.270KB\n"
     ]
    },
    {
     "name": "stderr",
     "output_type": "stream",
     "text": [
      "100%|████████████████████████████████████████| 157/157 [00:01<00:00, 100.99it/s]\n"
     ]
    },
    {
     "name": "stdout",
     "output_type": "stream",
     "text": [
      "\n",
      "structured Prune has 87.5 Test accuracy on testData\n",
      "Model Size = 446.927KB\n",
      "Zipped Model Size = 203.617KB\n"
     ]
    },
    {
     "name": "stderr",
     "output_type": "stream",
     "text": [
      "100%|████████████████████████████████████████| 157/157 [00:01<00:00, 101.00it/s]\n"
     ]
    },
    {
     "name": "stdout",
     "output_type": "stream",
     "text": [
      "\n",
      "structured Prune has 87.5 Test accuracy on testData\n",
      "Model Size = 446.927KB\n",
      "Zipped Model Size = 181.856KB\n"
     ]
    },
    {
     "name": "stderr",
     "output_type": "stream",
     "text": [
      "100%|████████████████████████████████████████| 157/157 [00:01<00:00, 104.84it/s]\n"
     ]
    },
    {
     "name": "stdout",
     "output_type": "stream",
     "text": [
      "\n",
      "structured Prune has 87.5 Test accuracy on testData\n",
      "Model Size = 446.927KB\n",
      "Zipped Model Size = 161.323KB\n"
     ]
    },
    {
     "name": "stderr",
     "output_type": "stream",
     "text": [
      "100%|████████████████████████████████████████| 157/157 [00:01<00:00, 101.28it/s]\n"
     ]
    },
    {
     "name": "stdout",
     "output_type": "stream",
     "text": [
      "\n",
      "structured Prune has 75.0 Test accuracy on testData\n",
      "Model Size = 446.927KB\n",
      "Zipped Model Size = 140.688KB\n"
     ]
    },
    {
     "name": "stderr",
     "output_type": "stream",
     "text": [
      "100%|████████████████████████████████████████| 157/157 [00:01<00:00, 103.39it/s]\n"
     ]
    },
    {
     "name": "stdout",
     "output_type": "stream",
     "text": [
      "\n",
      "structured Prune has 50.0 Test accuracy on testData\n",
      "Model Size = 446.927KB\n",
      "Zipped Model Size = 119.604KB\n"
     ]
    },
    {
     "name": "stderr",
     "output_type": "stream",
     "text": [
      "100%|████████████████████████████████████████| 157/157 [00:01<00:00, 102.83it/s]"
     ]
    },
    {
     "name": "stdout",
     "output_type": "stream",
     "text": [
      "\n",
      "structured Prune has 56.25 Test accuracy on testData\n"
     ]
    },
    {
     "name": "stderr",
     "output_type": "stream",
     "text": [
      "\n"
     ]
    }
   ],
   "source": [
    "# placeholder to store results\n",
    "global_prune_accuracies = []\n",
    "global_prune_size = []\n",
    "global_prune_inf = []\n",
    "# iterate through each prune percentage\n",
    "for perc in prunePercentages:\n",
    "    # load the pretrained model\n",
    "    model = MLPClassifier().to(device)\n",
    "    model.load_state_dict(torch.load(\"./MLP.pt\"))\n",
    "\n",
    "    # prune the model\n",
    "    removed_model, globalPruneModel = prune_model_global_unstructured(model, nn.Linear, perc)\n",
    "    zipped, unzipped = get_zip_size(removed_model)\n",
    "    # inf = print_model_metrics(removed_model, random_input)\n",
    "    # evaluate the pruned model on test data\n",
    "    inf, acc = evaluteOnTestData(globalPruneModel, None, \\\n",
    "          device, test_loader, meanClassificationAccuracyMetric, \"Test accuracy\", \"structured Prune\")\n",
    "    global_prune_accuracies.append(acc)    \n",
    "    global_prune_size.append((zipped, unzipped))\n",
    "    global_prune_inf.append(inf)"
   ]
  },
  {
   "cell_type": "code",
   "execution_count": 29,
   "id": "4e371f51-a9c3-468d-abbc-391712a10ea3",
   "metadata": {},
   "outputs": [
    {
     "data": {
      "image/png": "[encoded data removed]",
      "text/plain": [
       "<Figure size 576x288 with 1 Axes>"
      ]
     },
     "metadata": {
      "needs_background": "light"
     },
     "output_type": "display_data"
    }
   ],
   "source": [
    "fig, ax = plt.subplots(1,1,figsize=(8,4))\n",
    "ax.plot(np.array(prunePercentages) * 100.0, np.array(l1_unstructured_accuracies), label='Layerwise Unstructured')\n",
    "ax.plot(np.array(prunePercentages) * 100.0, np.array(l1_structured_accuracies), label='Layerwise Structured')\n",
    "ax.plot(np.array(prunePercentages) * 100.0, np.array(global_prune_accuracies), label='Global Unstructured')\n",
    "ax.set(xlabel ='Prune percentage (Sparsity) %', ylabel = 'Test set Accuracy (%)', title = 'METRICS FOR DIFFERENT PRUNING TECHNIQUES')\n",
    "ax.legend()\n",
    "ax.grid(True)\n",
    "plt.show()"
   ]
  },
  {
   "cell_type": "code",
   "execution_count": 30,
   "id": "ab70d976-cc51-44c8-8b41-98f92fa3db64",
   "metadata": {},
   "outputs": [
    {
     "data": {
      "image/png": "[encoded data removed]",
      "text/plain": [
       "<Figure size 576x288 with 1 Axes>"
      ]
     },
     "metadata": {
      "needs_background": "light"
     },
     "output_type": "display_data"
    }
   ],
   "source": [
    "fig, ax = plt.subplots(1,1,figsize=(8,4))\n",
    "ax.plot(np.array(prunePercentages) * 100.0, np.array([size for (_, size) in l1_unstructured_size]), label='Layerwise Unstructured')\n",
    "ax.plot(np.array(prunePercentages) * 100.0, np.array([size for (_, size) in l1_structured_size]), label='Layerwise Structured')\n",
    "ax.plot(np.array(prunePercentages) * 100.0, np.array([size for (_, size) in global_prune_size]), label='Global Unstructured')\n",
    "ax.set(xlabel ='Prune percentage (Sparsity) %', ylabel = 'Model Size (KB)', title = \"MODEL'S SIZE FOR DIFFERENT PRUNING TECHNIQUES\")\n",
    "ax.legend()\n",
    "ax.grid(True)\n",
    "plt.show()"
   ]
  },
  {
   "cell_type": "code",
   "execution_count": 31,
   "id": "67a83d77-4021-47c7-a108-fb704c4879e9",
   "metadata": {},
   "outputs": [
    {
     "data": {
      "image/png": "[encoded data removed]",
      "text/plain": [
       "<Figure size 576x288 with 1 Axes>"
      ]
     },
     "metadata": {
      "needs_background": "light"
     },
     "output_type": "display_data"
    }
   ],
   "source": [
    "fig, ax = plt.subplots(1,1,figsize=(8,4))\n",
    "ax.plot(np.array(prunePercentages) * 100.0, np.array(l1_unstructured_inf), label='Layerwise Unstructured')\n",
    "ax.plot(np.array(prunePercentages) * 100.0, np.array(l1_structured_inf), label='Layerwise Structured')\n",
    "ax.plot(np.array(prunePercentages) * 100.0, np.array(global_prune_inf), label='Global Unstructured')\n",
    "ax.set(xlabel ='Prune percentage (Sparsity) %', ylabel = 'Inference Time(s)', title = \"INFERENCE TIME FOR DIFFERENT PRUNING TECHNIQUES\")\n",
    "ax.legend()\n",
    "ax.grid(True)\n",
    "plt.show()"
   ]
  },
  {
   "cell_type": "code",
   "execution_count": 32,
   "id": "c1ffd8f5-0285-413c-a6ec-451e5997ddf0",
   "metadata": {},
   "outputs": [
    {
     "name": "stdout",
     "output_type": "stream",
     "text": [
      "Model Size:  0.847 Mb\n",
      "File Size:  0.892 Mb\n",
      "Inference Time:  0.00015 s\n",
      "Mega FLOPS:  0.443648\n",
      "Mega MACs:  0.221824\n",
      "Mega Params:  0.111146\n"
     ]
    },
    {
     "data": {
      "text/plain": [
       "0.00012"
      ]
     },
     "execution_count": 32,
     "metadata": {},
     "output_type": "execute_result"
    }
   ],
   "source": [
    "model = MLPClassifier().to(device)\n",
    "model.load_state_dict(torch.load(\"./MLP.pt\"))\n",
    "print_model_metrics(unStructuredPruneModel, random_input)"
   ]
  },
  {
   "cell_type": "code",
   "execution_count": 33,
   "id": "216f171c-5bbf-4402-b1f2-76ed86794d23",
   "metadata": {},
   "outputs": [],
   "source": [
    "torch.save(model.state_dict(), 'model.h5')"
   ]
  },
  {
   "cell_type": "code",
   "execution_count": 34,
   "id": "28ec3365-4c1c-425e-8031-f226e2ca22f5",
   "metadata": {},
   "outputs": [
    {
     "name": "stdout",
     "output_type": "stream",
     "text": [
      "440K\tmodel.h5\n",
      "408K\tmodel.h5.gz\n"
     ]
    }
   ],
   "source": [
    "!du -h model.h5\n",
    "!gzip -qf model.h5\n",
    "!du -h model.h5.gz"
   ]
  },
  {
   "cell_type": "code",
   "execution_count": 35,
   "id": "29389e5e-3cce-4d88-8f06-f9c25053ab45",
   "metadata": {},
   "outputs": [],
   "source": [
    "def layer_unstructured_prune(model:nn.Module, prunePercentage:float):\n",
    "    for name, module in model.named_modules():\n",
    "        if isinstance(module, torch.nn.Linear):\n",
    "            prune.l1_unstructured(module, name='weight', amount=prunePercentage)\n",
    "    return model"
   ]
  },
  {
   "cell_type": "code",
   "execution_count": 36,
   "id": "1aecdf74-9608-4972-97c7-0686f9eba98e",
   "metadata": {},
   "outputs": [
    {
     "name": "stdout",
     "output_type": "stream",
     "text": [
      "Model Size:  0.847 Mb\n",
      "File Size:  0.892 Mb\n",
      "Inference Time:  0.00014 s\n",
      "Mega FLOPS:  0.443648\n",
      "Mega MACs:  0.221824\n",
      "Mega Params:  0.111146\n"
     ]
    },
    {
     "data": {
      "text/plain": [
       "0.00015"
      ]
     },
     "execution_count": 36,
     "metadata": {},
     "output_type": "execute_result"
    }
   ],
   "source": [
    "model = MLPClassifier().to(device)\n",
    "model.load_state_dict(torch.load(\"./MLP.pt\"))\n",
    "unStructuredPruneModel = layer_unstructured_prune(model, 0.3)\n",
    "\n",
    "print_model_metrics(unStructuredPruneModel, random_input)"
   ]
  },
  {
   "cell_type": "code",
   "execution_count": 37,
   "id": "e8dc0c4d-5f3f-4feb-8836-49fbefbc69b4",
   "metadata": {},
   "outputs": [
    {
     "name": "stdout",
     "output_type": "stream",
     "text": [
      "Model Size:  0.847 Mb\n",
      "File Size:  0.892 Mb\n",
      "Inference Time:  0.00015 s\n",
      "Mega FLOPS:  0.443648\n",
      "Mega MACs:  0.221824\n",
      "Mega Params:  0.111146\n"
     ]
    },
    {
     "data": {
      "text/plain": [
       "0.00014"
      ]
     },
     "execution_count": 37,
     "metadata": {},
     "output_type": "execute_result"
    }
   ],
   "source": [
    "model = MLPClassifier().to(device)\n",
    "model.load_state_dict(torch.load(\"./MLP.pt\"))\n",
    "removed ,StructuredPruneModel = layer_structured_prune(model, 0.1)\n",
    "\n",
    "print_model_metrics(StructuredPruneModel, random_input)"
   ]
  },
  {
   "cell_type": "code",
   "execution_count": 38,
   "id": "4acd0c2e-3d79-4f70-9668-2fa283dc3ff0",
   "metadata": {},
   "outputs": [
    {
     "name": "stdout",
     "output_type": "stream",
     "text": [
      "Model Size:  0.847 Mb\n",
      "File Size:  0.892 Mb\n",
      "Inference Time:  0.00014 s\n",
      "Mega FLOPS:  0.443648\n",
      "Mega MACs:  0.221824\n",
      "Mega Params:  0.111146\n"
     ]
    },
    {
     "data": {
      "text/plain": [
       "0.00014"
      ]
     },
     "execution_count": 38,
     "metadata": {},
     "output_type": "execute_result"
    }
   ],
   "source": [
    "model = MLPClassifier().to(device)\n",
    "model.load_state_dict(torch.load(\"./MLP.pt\"))\n",
    "removed, globalPruneModel = prune_model_global_unstructured(model, nn.Linear, 0.3)\n",
    "\n",
    "print_model_metrics(globalPruneModel, random_input)"
   ]
  },
  {
   "cell_type": "code",
   "execution_count": 39,
   "id": "d333641e-beb9-4fe3-8d88-f659e01802bc",
   "metadata": {},
   "outputs": [],
   "source": [
    "import matplotlib\n",
    "import matplotlib.patches as mpatches\n",
    "\n",
    "binary_cmap = matplotlib.colors.ListedColormap(['#3D99FF', '#7F7F7F'])\n",
    "patchList = []\n",
    "for lab,c in zip([False, True], ['#3D99FF', '#7F7F7F']):\n",
    "    patchList.append(mpatches.Patch(color=c, label=lab))\n",
    "\n",
    "def plot_tensor_mask(pt_tensor, ax=None):\n",
    "    z_np = pt_tensor.detach().cpu().numpy()\n",
    "    ln = ax.imshow(z_np, cmap = binary_cmap)\n",
    "    ax.axis('off')\n",
    "    return ln"
   ]
  },
  {
   "cell_type": "code",
   "execution_count": 40,
   "id": "0452f85e-916e-47e9-9e09-bf860bb5e0ec",
   "metadata": {},
   "outputs": [
    {
     "name": "stderr",
     "output_type": "stream",
     "text": [
      "<>:17: SyntaxWarning: \"is not\" with a literal. Did you mean \"!=\"?\n",
      "<>:34: SyntaxWarning: \"is not\" with a literal. Did you mean \"!=\"?\n",
      "<>:17: SyntaxWarning: \"is not\" with a literal. Did you mean \"!=\"?\n",
      "<>:34: SyntaxWarning: \"is not\" with a literal. Did you mean \"!=\"?\n",
      "/tmp/ipykernel_152279/420285369.py:17: SyntaxWarning: \"is not\" with a literal. Did you mean \"!=\"?\n",
      "  if title is not '':\n",
      "/tmp/ipykernel_152279/420285369.py:34: SyntaxWarning: \"is not\" with a literal. Did you mean \"!=\"?\n",
      "  if title is not '':\n"
     ]
    }
   ],
   "source": [
    "def plot_custom_model(model_list, title=''):\n",
    "    if isinstance(title, list):\n",
    "        for model, t in zip(model_list, title):\n",
    "            fig, axes = plt.subplots(1,4,figsize=(16, 4), gridspec_kw={'width_ratios': [7,5,3,1]})\n",
    "\n",
    "            model_masks = dict(model.named_buffers())\n",
    "            plot_tensor_mask(model_masks['fc1.weight_mask'], axes[0])\n",
    "            plot_tensor_mask(model_masks['fc2.weight_mask'], axes[1])\n",
    "            plot_tensor_mask(model_masks['fc3.weight_mask'], axes[2])\n",
    "            plot_tensor_mask(model_masks['fc4.weight_mask'], axes[3])\n",
    "\n",
    "            axes[0].set_title('FC Layer1')\n",
    "            axes[1].set_title('FC Layer2')\n",
    "            axes[2].set_title('FC Layer3')\n",
    "            axes[3].set_title('FC Layer4')\n",
    "\n",
    "            if title is not '':\n",
    "                plt.suptitle(t)\n",
    "    else:\n",
    "        for model in model_list:\n",
    "            fig, axes = plt.subplots(1,4,figsize=(16, 4), gridspec_kw={'width_ratios': [7,5,3,1]})\n",
    "\n",
    "            model_masks = dict(model.named_buffers())\n",
    "            plot_tensor_mask(model_masks['fc1.weight_mask'], axes[0])\n",
    "            plot_tensor_mask(model_masks['fc2.weight_mask'], axes[1])\n",
    "            plot_tensor_mask(model_masks['fc3.weight_mask'], axes[2])\n",
    "            plot_tensor_mask(model_masks['fc4.weight_mask'], axes[3])\n",
    "\n",
    "            axes[0].set_title('FC Layer1')\n",
    "            axes[1].set_title('FC Layer2')\n",
    "            axes[2].set_title('FC Layer3')\n",
    "            axes[3].set_title('FC Layer4')\n",
    "\n",
    "            if title is not '':\n",
    "                plt.suptitle(title)"
   ]
  },
  {
   "cell_type": "code",
   "execution_count": 41,
   "id": "23f3db3b-b748-4e0d-bb3b-a5dc765e6950",
   "metadata": {},
   "outputs": [
    {
     "data": {
      "image/png": "[encoded data removed]",
      "text/plain": [
       "<Figure size 1152x288 with 4 Axes>"
      ]
     },
     "metadata": {
      "needs_background": "light"
     },
     "output_type": "display_data"
    },
    {
     "data": {
      "image/png": "[encoded data removed]",
      "text/plain": [
       "<Figure size 1152x288 with 4 Axes>"
      ]
     },
     "metadata": {
      "needs_background": "light"
     },
     "output_type": "display_data"
    },
    {
     "data": {
      "image/png": "[encoded data removed]",
      "text/plain": [
       "<Figure size 1152x288 with 4 Axes>"
      ]
     },
     "metadata": {
      "needs_background": "light"
     },
     "output_type": "display_data"
    }
   ],
   "source": [
    "model_list = [unStructuredPruneModel, StructuredPruneModel, globalPruneModel]\n",
    "title_list = [\"Unstructured Pruned Model\", \"Structured Pruned Model\", \"Global Pruned Model\"]\n",
    "plot_custom_model(model_list, title=title_list)"
   ]
  },
  {
   "cell_type": "code",
   "execution_count": null,
   "id": "befa2913-81e8-4a6a-a4e3-59fa7ac3baac",
   "metadata": {},
   "outputs": [],
   "source": []
  }
 ],
 "metadata": {
  "kernelspec": {
   "display_name": "Python 3 (ipykernel)",
   "language": "python",
   "name": "python3"
  },
  "language_info": {
   "codemirror_mode": {
    "name": "ipython",
    "version": 3
   },
   "file_extension": ".py",
   "mimetype": "text/x-python",
   "name": "python",
   "nbconvert_exporter": "python",
   "pygments_lexer": "ipython3",
   "version": "3.9.10"
  }
 },
 "nbformat": 4,
 "nbformat_minor": 5
}

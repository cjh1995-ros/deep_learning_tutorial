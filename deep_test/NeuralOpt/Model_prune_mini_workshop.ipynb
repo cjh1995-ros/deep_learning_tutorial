{
 "cells": [
  {
   "cell_type": "code",
   "execution_count": 1,
   "id": "618ce9dc-a15b-405f-8ae4-96fdcff7b98e",
   "metadata": {},
   "outputs": [],
   "source": [
    "from copy import deepcopy\n",
    "import torch.nn.utils.prune as prune\n",
    "import torch.nn as nn\n",
    "import matplotlib.pyplot as plt\n",
    "import numpy as np"
   ]
  },
  {
   "cell_type": "code",
   "execution_count": 2,
   "id": "a2d33216-77e8-4b3b-a22b-0def360ea95c",
   "metadata": {},
   "outputs": [],
   "source": [
    "# create a dummy module to understand pruning techniques\n",
    "fc_test = nn.Linear(10, 10)\n",
    "module = deepcopy(fc_test)"
   ]
  },
  {
   "cell_type": "code",
   "execution_count": 3,
   "id": "2c85c83d-a9f7-45fb-9f77-d6cccaa35dcc",
   "metadata": {},
   "outputs": [
    {
     "name": "stdout",
     "output_type": "stream",
     "text": [
      "Before pruning, named_parameters()\n",
      "[('weight', Parameter containing:\n",
      "tensor([[-0.1645, -0.3157,  0.1402,  0.0705, -0.0172, -0.0845,  0.1199,  0.1636,\n",
      "          0.3141,  0.2187],\n",
      "        [ 0.2956,  0.2196, -0.0508, -0.1616, -0.1283,  0.1815, -0.2637,  0.2131,\n",
      "          0.0679,  0.0821],\n",
      "        [-0.0719, -0.2870,  0.1997, -0.1622,  0.0150,  0.0649, -0.0378, -0.1860,\n",
      "          0.1284, -0.2592],\n",
      "        [-0.0627,  0.1091, -0.2350, -0.2408, -0.0957, -0.1999, -0.0111,  0.1570,\n",
      "          0.0768,  0.2599],\n",
      "        [ 0.0411, -0.2829, -0.1411, -0.0739, -0.1595, -0.1785, -0.3058, -0.2842,\n",
      "          0.1884, -0.1491],\n",
      "        [-0.1226,  0.1175, -0.2654, -0.1243,  0.0969,  0.2259, -0.2952, -0.2258,\n",
      "         -0.1777,  0.0639],\n",
      "        [ 0.1605,  0.0336, -0.2938, -0.0609, -0.2083, -0.0612,  0.2357, -0.1782,\n",
      "          0.0601, -0.0150],\n",
      "        [-0.2420,  0.2651, -0.1209, -0.2043,  0.0645,  0.2389,  0.0352, -0.2487,\n",
      "          0.1780, -0.1262],\n",
      "        [-0.2515,  0.0068, -0.3157, -0.0847, -0.2286,  0.0051, -0.0556, -0.1408,\n",
      "          0.2297,  0.1173],\n",
      "        [-0.2321,  0.0447,  0.2001,  0.0250,  0.1345,  0.1112,  0.1352,  0.2369,\n",
      "          0.1418,  0.0678]], requires_grad=True)), ('bias', Parameter containing:\n",
      "tensor([-0.2603, -0.0707,  0.2206, -0.3131, -0.2364, -0.0103, -0.2723, -0.2328,\n",
      "        -0.0050, -0.2633], requires_grad=True))]\n",
      "Before pruning, named_buffers\n",
      "[]\n"
     ]
    }
   ],
   "source": [
    "# contrains \"weight\" and \"bias\" parameters\n",
    "print(\"Before pruning, named_parameters()\")\n",
    "print(list(module.named_parameters()))\n",
    "\n",
    "# prior to pruning contains no buffers\n",
    "print(\"Before pruning, named_buffers\")\n",
    "print(list(module.named_buffers()))"
   ]
  },
  {
   "cell_type": "markdown",
   "id": "6758e61c-1bc5-4e6c-b54f-9d9d28d24c17",
   "metadata": {},
   "source": [
    "# Numpy Version"
   ]
  },
  {
   "cell_type": "code",
   "execution_count": 4,
   "id": "fecf0803-0748-4b1a-9867-bea6c1f3ffd4",
   "metadata": {},
   "outputs": [
    {
     "name": "stdout",
     "output_type": "stream",
     "text": [
      "[[-0.1644725  -0.31567362  0.14015618  0.0705495  -0.01718849 -0.0844858\n",
      "   0.1198799   0.16360913  0.31405643  0.21874253]\n",
      " [ 0.2956437   0.21958786 -0.05079027 -0.16157928 -0.12825707  0.18153276\n",
      "  -0.26367205  0.21305946  0.06793918  0.08210752]\n",
      " [-0.07185476 -0.28701705  0.19969818 -0.16220988  0.01498049  0.06493188\n",
      "  -0.03779376 -0.18597177  0.1283919  -0.259232  ]\n",
      " [-0.06266379  0.10913707 -0.23502497 -0.24079818 -0.09574429 -0.19988692\n",
      "  -0.0111351   0.15698557  0.07678384  0.25991142]\n",
      " [ 0.04107979 -0.28293118 -0.14107174 -0.07390934 -0.1595307  -0.17852741\n",
      "  -0.3057538  -0.28417853  0.18841131 -0.14906351]\n",
      " [-0.1226102   0.11751013 -0.26544458 -0.12427875  0.09694834  0.22592591\n",
      "  -0.29524654 -0.22580588 -0.1777467   0.06391017]\n",
      " [ 0.16050951  0.03357581 -0.2938007  -0.06086773 -0.2083244  -0.06120407\n",
      "   0.23571959 -0.1781783   0.06013999 -0.01498742]\n",
      " [-0.24196547  0.265123   -0.12085008 -0.20426475  0.06450851  0.23887426\n",
      "   0.03524519 -0.24873951  0.17801085 -0.12618937]\n",
      " [-0.25148538  0.00680613 -0.31566954 -0.08467828 -0.22860442  0.00505449\n",
      "  -0.05560116 -0.14082892  0.22969203  0.11734577]\n",
      " [-0.23214513  0.04466096  0.2001202   0.02498535  0.13445894  0.11124507\n",
      "   0.13519521  0.23693295  0.14182511  0.06778263]]\n"
     ]
    }
   ],
   "source": [
    "weight = module.weight.cpu().detach().numpy()\n",
    "print(weight)"
   ]
  },
  {
   "cell_type": "code",
   "execution_count": 5,
   "id": "93f6896d-8df3-471f-a5e7-12f140735ccf",
   "metadata": {},
   "outputs": [
    {
     "name": "stdout",
     "output_type": "stream",
     "text": [
      "[0.00505449 0.00680613 0.0111351  0.01498049 0.01498742 0.01718849\n",
      " 0.02498535 0.03357581 0.03524519 0.03779376 0.04107979 0.04466096\n",
      " 0.05079027 0.05560116 0.06013999 0.06086773 0.06120407 0.06266379\n",
      " 0.06391017 0.06450851 0.06493188 0.06778263 0.06793918 0.0705495\n",
      " 0.07185476 0.07390934 0.07678384 0.08210752 0.0844858  0.08467828\n",
      " 0.09574429 0.09694834 0.10913707 0.11124507 0.11734577 0.11751013\n",
      " 0.1198799  0.12085008 0.1226102  0.12427875 0.12618937 0.12825707\n",
      " 0.1283919  0.13445894 0.13519521 0.14015618 0.14082892 0.14107174\n",
      " 0.14182511 0.14906351 0.15698557 0.1595307  0.16050951 0.16157928\n",
      " 0.16220988 0.16360913 0.1644725  0.1777467  0.17801085 0.1781783\n",
      " 0.17852741 0.18153276 0.18597177 0.18841131 0.19969818 0.19988692\n",
      " 0.2001202  0.20426475 0.2083244  0.21305946 0.21874253 0.21958786\n",
      " 0.22580588 0.22592591 0.22860442 0.22969203 0.23214513 0.23502497\n",
      " 0.23571959 0.23693295 0.23887426 0.24079818 0.24196547 0.24873951\n",
      " 0.25148538 0.259232   0.25991142 0.26367205 0.265123   0.26544458\n",
      " 0.28293118 0.28417853 0.28701705 0.2938007  0.29524654 0.2956437\n",
      " 0.3057538  0.31405643 0.31566954 0.31567362]\n"
     ]
    }
   ],
   "source": [
    "# sorted_array = [sorted(w) for w in weight]\n",
    "sorted_array = np.sort(np.abs(weight.ravel()))\n",
    "print(sorted_array)"
   ]
  },
  {
   "cell_type": "code",
   "execution_count": 6,
   "id": "33970aad-144c-4d24-8245-9c1f9f8da237",
   "metadata": {},
   "outputs": [
    {
     "name": "stdout",
     "output_type": "stream",
     "text": [
      "[[1 1 1 0 0 0 1 1 1 1]\n",
      " [1 1 0 1 1 1 1 1 0 0]\n",
      " [0 1 1 1 0 0 0 1 1 1]\n",
      " [0 1 1 1 1 1 0 1 0 1]\n",
      " [0 1 1 0 1 1 1 1 1 1]\n",
      " [1 1 1 1 1 1 1 1 1 0]\n",
      " [1 0 1 0 1 0 1 1 0 0]\n",
      " [1 1 1 1 0 1 0 1 1 1]\n",
      " [1 0 1 0 1 0 0 1 1 1]\n",
      " [1 0 1 0 1 1 1 1 1 0]]\n"
     ]
    }
   ],
   "source": [
    "pruned_array = np.abs(weight) > sorted_array[29] # 30번째 보다 크면 되니까.\n",
    "print(pruned_array.astype(int))"
   ]
  },
  {
   "cell_type": "markdown",
   "id": "caddad51-e07b-4355-8419-81df0837a315",
   "metadata": {
    "tags": []
   },
   "source": [
    "# Pytorch"
   ]
  },
  {
   "cell_type": "code",
   "execution_count": 7,
   "id": "4cc253d9-15b7-4c47-8f6a-e571a2afb707",
   "metadata": {},
   "outputs": [
    {
     "data": {
      "text/plain": [
       "Linear(in_features=10, out_features=10, bias=True)"
      ]
     },
     "execution_count": 7,
     "metadata": {},
     "output_type": "execute_result"
    }
   ],
   "source": [
    "prune.l1_unstructured(module, 'weight', amount=0.3)"
   ]
  },
  {
   "cell_type": "code",
   "execution_count": 8,
   "id": "56cdc942-01f0-4f63-9c35-b4ab675c1772",
   "metadata": {},
   "outputs": [
    {
     "name": "stdout",
     "output_type": "stream",
     "text": [
      "After pruning, named_parameters()\n",
      "[('bias', Parameter containing:\n",
      "tensor([-0.2603, -0.0707,  0.2206, -0.3131, -0.2364, -0.0103, -0.2723, -0.2328,\n",
      "        -0.0050, -0.2633], requires_grad=True)), ('weight_orig', Parameter containing:\n",
      "tensor([[-0.1645, -0.3157,  0.1402,  0.0705, -0.0172, -0.0845,  0.1199,  0.1636,\n",
      "          0.3141,  0.2187],\n",
      "        [ 0.2956,  0.2196, -0.0508, -0.1616, -0.1283,  0.1815, -0.2637,  0.2131,\n",
      "          0.0679,  0.0821],\n",
      "        [-0.0719, -0.2870,  0.1997, -0.1622,  0.0150,  0.0649, -0.0378, -0.1860,\n",
      "          0.1284, -0.2592],\n",
      "        [-0.0627,  0.1091, -0.2350, -0.2408, -0.0957, -0.1999, -0.0111,  0.1570,\n",
      "          0.0768,  0.2599],\n",
      "        [ 0.0411, -0.2829, -0.1411, -0.0739, -0.1595, -0.1785, -0.3058, -0.2842,\n",
      "          0.1884, -0.1491],\n",
      "        [-0.1226,  0.1175, -0.2654, -0.1243,  0.0969,  0.2259, -0.2952, -0.2258,\n",
      "         -0.1777,  0.0639],\n",
      "        [ 0.1605,  0.0336, -0.2938, -0.0609, -0.2083, -0.0612,  0.2357, -0.1782,\n",
      "          0.0601, -0.0150],\n",
      "        [-0.2420,  0.2651, -0.1209, -0.2043,  0.0645,  0.2389,  0.0352, -0.2487,\n",
      "          0.1780, -0.1262],\n",
      "        [-0.2515,  0.0068, -0.3157, -0.0847, -0.2286,  0.0051, -0.0556, -0.1408,\n",
      "          0.2297,  0.1173],\n",
      "        [-0.2321,  0.0447,  0.2001,  0.0250,  0.1345,  0.1112,  0.1352,  0.2369,\n",
      "          0.1418,  0.0678]], requires_grad=True))]\n",
      "After pruning, named_buffers\n",
      "[('weight_mask', tensor([[1., 1., 1., 0., 0., 0., 1., 1., 1., 1.],\n",
      "        [1., 1., 0., 1., 1., 1., 1., 1., 0., 0.],\n",
      "        [0., 1., 1., 1., 0., 0., 0., 1., 1., 1.],\n",
      "        [0., 1., 1., 1., 1., 1., 0., 1., 0., 1.],\n",
      "        [0., 1., 1., 0., 1., 1., 1., 1., 1., 1.],\n",
      "        [1., 1., 1., 1., 1., 1., 1., 1., 1., 0.],\n",
      "        [1., 0., 1., 0., 1., 0., 1., 1., 0., 0.],\n",
      "        [1., 1., 1., 1., 0., 1., 0., 1., 1., 1.],\n",
      "        [1., 0., 1., 0., 1., 0., 0., 1., 1., 1.],\n",
      "        [1., 0., 1., 0., 1., 1., 1., 1., 1., 0.]]))]\n"
     ]
    }
   ],
   "source": [
    "# contrains \"weight\" and \"bias\" parameters\n",
    "print(\"After pruning, named_parameters()\")\n",
    "print(list(module.named_parameters()))\n",
    "\n",
    "# prior to pruning contains no buffers\n",
    "print(\"After pruning, named_buffers\")\n",
    "print(list(module.named_buffers()))"
   ]
  },
  {
   "cell_type": "markdown",
   "id": "3f7f63bf-e88e-4c63-bd8d-718c105c7bf6",
   "metadata": {
    "tags": []
   },
   "source": [
    "# L1 Structured"
   ]
  },
  {
   "cell_type": "markdown",
   "id": "fd86de77-59b2-452b-9d93-f1d10fa17d21",
   "metadata": {},
   "source": [
    "## Numpy"
   ]
  },
  {
   "cell_type": "code",
   "execution_count": 9,
   "id": "4f824eb8-642e-4d83-83d8-5f54121e9480",
   "metadata": {},
   "outputs": [
    {
     "name": "stdout",
     "output_type": "stream",
     "text": [
      "[[-0.1644725  -0.31567362  0.14015618  0.0705495  -0.01718849 -0.0844858\n",
      "   0.1198799   0.16360913  0.31405643  0.21874253]\n",
      " [ 0.2956437   0.21958786 -0.05079027 -0.16157928 -0.12825707  0.18153276\n",
      "  -0.26367205  0.21305946  0.06793918  0.08210752]\n",
      " [-0.07185476 -0.28701705  0.19969818 -0.16220988  0.01498049  0.06493188\n",
      "  -0.03779376 -0.18597177  0.1283919  -0.259232  ]\n",
      " [-0.06266379  0.10913707 -0.23502497 -0.24079818 -0.09574429 -0.19988692\n",
      "  -0.0111351   0.15698557  0.07678384  0.25991142]\n",
      " [ 0.04107979 -0.28293118 -0.14107174 -0.07390934 -0.1595307  -0.17852741\n",
      "  -0.3057538  -0.28417853  0.18841131 -0.14906351]\n",
      " [-0.1226102   0.11751013 -0.26544458 -0.12427875  0.09694834  0.22592591\n",
      "  -0.29524654 -0.22580588 -0.1777467   0.06391017]\n",
      " [ 0.16050951  0.03357581 -0.2938007  -0.06086773 -0.2083244  -0.06120407\n",
      "   0.23571959 -0.1781783   0.06013999 -0.01498742]\n",
      " [-0.24196547  0.265123   -0.12085008 -0.20426475  0.06450851  0.23887426\n",
      "   0.03524519 -0.24873951  0.17801085 -0.12618937]\n",
      " [-0.25148538  0.00680613 -0.31566954 -0.08467828 -0.22860442  0.00505449\n",
      "  -0.05560116 -0.14082892  0.22969203  0.11734577]\n",
      " [-0.23214513  0.04466096  0.2001202   0.02498535  0.13445894  0.11124507\n",
      "   0.13519521  0.23693295  0.14182511  0.06778263]]\n"
     ]
    }
   ],
   "source": [
    "# create a dummy module to understand pruning techniques\n",
    "module = deepcopy(fc_test)\n",
    "\n",
    "weight = module.weight.cpu().detach().numpy()\n",
    "print(weight)"
   ]
  },
  {
   "cell_type": "code",
   "execution_count": 10,
   "id": "a1840ea3-76ab-4c31-97ab-9da0332effd0",
   "metadata": {},
   "outputs": [
    {
     "name": "stdout",
     "output_type": "stream",
     "text": [
      "[6 9 2 8 3 0 1 5 7 4]\n"
     ]
    }
   ],
   "source": [
    "sorted_array = np.argsort(np.sum(np.abs(weight), axis=1))\n",
    "print(sorted_array) # 가장 앞에 있는 놈이 작은거"
   ]
  },
  {
   "cell_type": "code",
   "execution_count": 11,
   "id": "a6baa5db-30a5-4e84-9bcb-34d842982330",
   "metadata": {},
   "outputs": [
    {
     "name": "stdout",
     "output_type": "stream",
     "text": [
      "[[1. 1. 1. 1. 1. 1. 1. 1. 1. 1.]\n",
      " [1. 1. 1. 1. 1. 1. 1. 1. 1. 1.]\n",
      " [0. 0. 0. 0. 0. 0. 0. 0. 0. 0.]\n",
      " [1. 1. 1. 1. 1. 1. 1. 1. 1. 1.]\n",
      " [1. 1. 1. 1. 1. 1. 1. 1. 1. 1.]\n",
      " [1. 1. 1. 1. 1. 1. 1. 1. 1. 1.]\n",
      " [0. 0. 0. 0. 0. 0. 0. 0. 0. 0.]\n",
      " [1. 1. 1. 1. 1. 1. 1. 1. 1. 1.]\n",
      " [1. 1. 1. 1. 1. 1. 1. 1. 1. 1.]\n",
      " [0. 0. 0. 0. 0. 0. 0. 0. 0. 0.]]\n"
     ]
    }
   ],
   "source": [
    "pruned_array = np.ones_like(weight)\n",
    "pruned_array[sorted_array[0:3], :] = 0\n",
    "\n",
    "print(pruned_array)"
   ]
  },
  {
   "cell_type": "markdown",
   "id": "ccdf1423-e8da-49c2-b58c-e441c7c1ed35",
   "metadata": {},
   "source": [
    "## Pytorch"
   ]
  },
  {
   "cell_type": "code",
   "execution_count": 12,
   "id": "8d4591fd-c6a1-4926-9cd0-79d1eac40490",
   "metadata": {},
   "outputs": [
    {
     "data": {
      "text/plain": [
       "Linear(in_features=10, out_features=10, bias=True)"
      ]
     },
     "execution_count": 12,
     "metadata": {},
     "output_type": "execute_result"
    }
   ],
   "source": [
    "module = deepcopy(fc_test)\n",
    "\n",
    "prune.ln_structured(module, 'weight', amount=0.3, n=1, dim=0)"
   ]
  },
  {
   "cell_type": "code",
   "execution_count": 13,
   "id": "0c5bcb0a-b6fd-4bb9-996c-ff86cf9fb58a",
   "metadata": {},
   "outputs": [
    {
     "data": {
      "text/plain": [
       "[('weight_mask',\n",
       "  tensor([[1., 1., 1., 1., 1., 1., 1., 1., 1., 1.],\n",
       "          [1., 1., 1., 1., 1., 1., 1., 1., 1., 1.],\n",
       "          [0., 0., 0., 0., 0., 0., 0., 0., 0., 0.],\n",
       "          [1., 1., 1., 1., 1., 1., 1., 1., 1., 1.],\n",
       "          [1., 1., 1., 1., 1., 1., 1., 1., 1., 1.],\n",
       "          [1., 1., 1., 1., 1., 1., 1., 1., 1., 1.],\n",
       "          [0., 0., 0., 0., 0., 0., 0., 0., 0., 0.],\n",
       "          [1., 1., 1., 1., 1., 1., 1., 1., 1., 1.],\n",
       "          [1., 1., 1., 1., 1., 1., 1., 1., 1., 1.],\n",
       "          [0., 0., 0., 0., 0., 0., 0., 0., 0., 0.]]))]"
      ]
     },
     "execution_count": 13,
     "metadata": {},
     "output_type": "execute_result"
    }
   ],
   "source": [
    "list(module.named_buffers())"
   ]
  },
  {
   "cell_type": "code",
   "execution_count": 14,
   "id": "eb18c410-467d-4769-9917-d5df42f882a8",
   "metadata": {},
   "outputs": [],
   "source": [
    "def plot_fc_weight(weight, ax=None, cmap='viridis'):\n",
    "    \"\"\"\n",
    "    cmap link = https://matplotlib.org/stable/tutorials/colors/colormaps.html\n",
    "    \"\"\"\n",
    "    nrows, ncols = weight.shape\n",
    "    x = np.arange(0, ncols)\n",
    "    y = np.arange(0, nrows)\n",
    "    X, Y = np.meshgrid(x, y)\n",
    "    z_np = weight.detach().cpu().numpy()\n",
    "    ln = ax.pcolor(X, Y, z_np, cmap=cmap)\n",
    "    ax.axis('off')\n",
    "    return ln"
   ]
  },
  {
   "cell_type": "code",
   "execution_count": 21,
   "id": "94148fa6-796c-4c60-9591-f457cbacb919",
   "metadata": {},
   "outputs": [
    {
     "data": {
      "image/png": "[encoded data removed]",
      "text/plain": [
       "<Figure size 576x288 with 2 Axes>"
      ]
     },
     "metadata": {
      "needs_background": "light"
     },
     "output_type": "display_data"
    }
   ],
   "source": [
    "fig, (ax1, ax2) = plt.subplots(1,2,figsize=(8, 4))\n",
    "\n",
    "# l1 unstructured pruning\n",
    "module = deepcopy(fc_test)\n",
    "prune.l1_unstructured(module, 'weight', amount=0.3)\n",
    "plot_fc_weight(module.weight, ax1, cmap='inferno')\n",
    "ax1.set_title('L1 Unstructured Pruning')\n",
    "\n",
    "# l1 Structured pruning\n",
    "module = deepcopy(fc_test)\n",
    "prune.ln_structured(module, 'weight', amount=0.3, n=1, dim=0);\n",
    "plot_fc_weight(module.weight, ax2);\n",
    "ax2.set_title('L1 Structured Pruning');"
   ]
  },
  {
   "cell_type": "code",
   "execution_count": null,
   "id": "3a59bcd1-27e1-4cb5-a898-82093967bf86",
   "metadata": {},
   "outputs": [],
   "source": []
  }
 ],
 "metadata": {
  "kernelspec": {
   "display_name": "Python 3 (ipykernel)",
   "language": "python",
   "name": "python3"
  },
  "language_info": {
   "codemirror_mode": {
    "name": "ipython",
    "version": 3
   },
   "file_extension": ".py",
   "mimetype": "text/x-python",
   "name": "python",
   "nbconvert_exporter": "python",
   "pygments_lexer": "ipython3",
   "version": "3.9.10"
  }
 },
 "nbformat": 4,
 "nbformat_minor": 5
}

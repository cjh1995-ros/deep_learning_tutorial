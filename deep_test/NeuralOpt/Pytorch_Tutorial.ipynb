{
 "cells": [
  {
   "cell_type": "markdown",
   "id": "719c4fc4-72c4-4926-b3aa-65a56b45c71f",
   "metadata": {},
   "source": [
    "# Pytorch Tutorial"
   ]
  },
  {
   "cell_type": "markdown",
   "id": "22cbb325-391c-49b4-8682-250b4d298f46",
   "metadata": {},
   "source": [
    "## Pytorch MNIST Tutorial"
   ]
  },
  {
   "cell_type": "code",
   "execution_count": null,
   "id": "788d720c-5c95-419b-8611-6c695035fca4",
   "metadata": {},
   "outputs": [],
   "source": []
  }
 ],
 "metadata": {
  "kernelspec": {
   "display_name": "Python 3 (ipykernel)",
   "language": "python",
   "name": "python3"
  },
  "language_info": {
   "codemirror_mode": {
    "name": "ipython",
    "version": 3
   },
   "file_extension": ".py",
   "mimetype": "text/x-python",
   "name": "python",
   "nbconvert_exporter": "python",
   "pygments_lexer": "ipython3",
   "version": "3.9.10"
  }
 },
 "nbformat": 4,
 "nbformat_minor": 5
}
